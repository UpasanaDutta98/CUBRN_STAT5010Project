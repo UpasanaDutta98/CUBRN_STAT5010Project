{
 "cells": [
  {
   "cell_type": "code",
   "execution_count": 19,
   "id": "optional-outdoors",
   "metadata": {},
   "outputs": [
    {
     "data": {
      "text/html": [
       "<table class=\"dataframe\">\n",
       "<caption>A data.frame: 12 × 4</caption>\n",
       "<thead>\n",
       "\t<tr><th scope=col>Student_Percentage</th><th scope=col>Rural_or_not</th><th scope=col>Year</th><th scope=col>Fall_semester</th></tr>\n",
       "\t<tr><th scope=col>&lt;dbl&gt;</th><th scope=col>&lt;int&gt;</th><th scope=col>&lt;int&gt;</th><th scope=col>&lt;chr&gt;</th></tr>\n",
       "</thead>\n",
       "<tbody>\n",
       "\t<tr><td>56</td><td>1</td><td>2014</td><td>4th</td></tr>\n",
       "\t<tr><td>75</td><td>1</td><td>2014</td><td>5th</td></tr>\n",
       "\t<tr><td>79</td><td>1</td><td>2014</td><td>6th</td></tr>\n",
       "\t<tr><td>53</td><td>1</td><td>2015</td><td>4th</td></tr>\n",
       "\t<tr><td>72</td><td>1</td><td>2015</td><td>5th</td></tr>\n",
       "\t<tr><td>56</td><td>1</td><td>2016</td><td>4th</td></tr>\n",
       "\t<tr><td>53</td><td>0</td><td>2014</td><td>4th</td></tr>\n",
       "\t<tr><td>74</td><td>0</td><td>2014</td><td>5th</td></tr>\n",
       "\t<tr><td>78</td><td>0</td><td>2014</td><td>6th</td></tr>\n",
       "\t<tr><td>55</td><td>0</td><td>2015</td><td>4th</td></tr>\n",
       "\t<tr><td>74</td><td>0</td><td>2015</td><td>5th</td></tr>\n",
       "\t<tr><td>60</td><td>0</td><td>2016</td><td>4th</td></tr>\n",
       "</tbody>\n",
       "</table>\n"
      ],
      "text/latex": [
       "A data.frame: 12 × 4\n",
       "\\begin{tabular}{llll}\n",
       " Student\\_Percentage & Rural\\_or\\_not & Year & Fall\\_semester\\\\\n",
       " <dbl> & <int> & <int> & <chr>\\\\\n",
       "\\hline\n",
       "\t 56 & 1 & 2014 & 4th\\\\\n",
       "\t 75 & 1 & 2014 & 5th\\\\\n",
       "\t 79 & 1 & 2014 & 6th\\\\\n",
       "\t 53 & 1 & 2015 & 4th\\\\\n",
       "\t 72 & 1 & 2015 & 5th\\\\\n",
       "\t 56 & 1 & 2016 & 4th\\\\\n",
       "\t 53 & 0 & 2014 & 4th\\\\\n",
       "\t 74 & 0 & 2014 & 5th\\\\\n",
       "\t 78 & 0 & 2014 & 6th\\\\\n",
       "\t 55 & 0 & 2015 & 4th\\\\\n",
       "\t 74 & 0 & 2015 & 5th\\\\\n",
       "\t 60 & 0 & 2016 & 4th\\\\\n",
       "\\end{tabular}\n"
      ],
      "text/markdown": [
       "\n",
       "A data.frame: 12 × 4\n",
       "\n",
       "| Student_Percentage &lt;dbl&gt; | Rural_or_not &lt;int&gt; | Year &lt;int&gt; | Fall_semester &lt;chr&gt; |\n",
       "|---|---|---|---|\n",
       "| 56 | 1 | 2014 | 4th |\n",
       "| 75 | 1 | 2014 | 5th |\n",
       "| 79 | 1 | 2014 | 6th |\n",
       "| 53 | 1 | 2015 | 4th |\n",
       "| 72 | 1 | 2015 | 5th |\n",
       "| 56 | 1 | 2016 | 4th |\n",
       "| 53 | 0 | 2014 | 4th |\n",
       "| 74 | 0 | 2014 | 5th |\n",
       "| 78 | 0 | 2014 | 6th |\n",
       "| 55 | 0 | 2015 | 4th |\n",
       "| 74 | 0 | 2015 | 5th |\n",
       "| 60 | 0 | 2016 | 4th |\n",
       "\n"
      ],
      "text/plain": [
       "   Student_Percentage Rural_or_not Year Fall_semester\n",
       "1  56                 1            2014 4th          \n",
       "2  75                 1            2014 5th          \n",
       "3  79                 1            2014 6th          \n",
       "4  53                 1            2015 4th          \n",
       "5  72                 1            2015 5th          \n",
       "6  56                 1            2016 4th          \n",
       "7  53                 0            2014 4th          \n",
       "8  74                 0            2014 5th          \n",
       "9  78                 0            2014 6th          \n",
       "10 55                 0            2015 4th          \n",
       "11 74                 0            2015 5th          \n",
       "12 60                 0            2016 4th          "
      ]
     },
     "metadata": {},
     "output_type": "display_data"
    }
   ],
   "source": [
    "GraduationData = read.csv(file = 'GraduationData_for_Anova.csv')\n",
    "GraduationData"
   ]
  },
  {
   "cell_type": "code",
   "execution_count": 20,
   "id": "yellow-techno",
   "metadata": {},
   "outputs": [],
   "source": [
    "GraduationData$Rural_or_not = as.factor(GraduationData$Rural_or_not)"
   ]
  },
  {
   "cell_type": "code",
   "execution_count": 21,
   "id": "soviet-edmonton",
   "metadata": {},
   "outputs": [],
   "source": [
    "GraduationData$Year = as.factor(GraduationData$Year)\n",
    "GraduationData$Fall_semester = as.factor(GraduationData$Fall_semester)"
   ]
  },
  {
   "cell_type": "code",
   "execution_count": 22,
   "id": "appointed-contact",
   "metadata": {},
   "outputs": [
    {
     "data": {
      "text/html": [
       "<table class=\"dataframe\">\n",
       "<caption>A data.frame: 6 × 4</caption>\n",
       "<thead>\n",
       "\t<tr><th></th><th scope=col>Student_Percentage</th><th scope=col>Rural_or_not</th><th scope=col>Year</th><th scope=col>Fall_semester</th></tr>\n",
       "\t<tr><th></th><th scope=col>&lt;dbl&gt;</th><th scope=col>&lt;fct&gt;</th><th scope=col>&lt;fct&gt;</th><th scope=col>&lt;fct&gt;</th></tr>\n",
       "</thead>\n",
       "<tbody>\n",
       "\t<tr><th scope=row>1</th><td>56</td><td>1</td><td>2014</td><td>4th</td></tr>\n",
       "\t<tr><th scope=row>2</th><td>75</td><td>1</td><td>2014</td><td>5th</td></tr>\n",
       "\t<tr><th scope=row>3</th><td>79</td><td>1</td><td>2014</td><td>6th</td></tr>\n",
       "\t<tr><th scope=row>4</th><td>53</td><td>1</td><td>2015</td><td>4th</td></tr>\n",
       "\t<tr><th scope=row>5</th><td>72</td><td>1</td><td>2015</td><td>5th</td></tr>\n",
       "\t<tr><th scope=row>6</th><td>56</td><td>1</td><td>2016</td><td>4th</td></tr>\n",
       "</tbody>\n",
       "</table>\n"
      ],
      "text/latex": [
       "A data.frame: 6 × 4\n",
       "\\begin{tabular}{r|llll}\n",
       "  & Student\\_Percentage & Rural\\_or\\_not & Year & Fall\\_semester\\\\\n",
       "  & <dbl> & <fct> & <fct> & <fct>\\\\\n",
       "\\hline\n",
       "\t1 & 56 & 1 & 2014 & 4th\\\\\n",
       "\t2 & 75 & 1 & 2014 & 5th\\\\\n",
       "\t3 & 79 & 1 & 2014 & 6th\\\\\n",
       "\t4 & 53 & 1 & 2015 & 4th\\\\\n",
       "\t5 & 72 & 1 & 2015 & 5th\\\\\n",
       "\t6 & 56 & 1 & 2016 & 4th\\\\\n",
       "\\end{tabular}\n"
      ],
      "text/markdown": [
       "\n",
       "A data.frame: 6 × 4\n",
       "\n",
       "| <!--/--> | Student_Percentage &lt;dbl&gt; | Rural_or_not &lt;fct&gt; | Year &lt;fct&gt; | Fall_semester &lt;fct&gt; |\n",
       "|---|---|---|---|---|\n",
       "| 1 | 56 | 1 | 2014 | 4th |\n",
       "| 2 | 75 | 1 | 2014 | 5th |\n",
       "| 3 | 79 | 1 | 2014 | 6th |\n",
       "| 4 | 53 | 1 | 2015 | 4th |\n",
       "| 5 | 72 | 1 | 2015 | 5th |\n",
       "| 6 | 56 | 1 | 2016 | 4th |\n",
       "\n"
      ],
      "text/plain": [
       "  Student_Percentage Rural_or_not Year Fall_semester\n",
       "1 56                 1            2014 4th          \n",
       "2 75                 1            2014 5th          \n",
       "3 79                 1            2014 6th          \n",
       "4 53                 1            2015 4th          \n",
       "5 72                 1            2015 5th          \n",
       "6 56                 1            2016 4th          "
      ]
     },
     "metadata": {},
     "output_type": "display_data"
    }
   ],
   "source": [
    "head(GraduationData)"
   ]
  },
  {
   "cell_type": "code",
   "execution_count": 5,
   "id": "silent-excuse",
   "metadata": {
    "scrolled": true
   },
   "outputs": [
    {
     "data": {
      "text/plain": [
       "\n",
       "Call:\n",
       "lm(formula = Student_Percentage ~ Rural_or_not + Year + Rural_or_not:Year + \n",
       "    Rural_or_not:Fall_semester + Fall_semester:Year, data = GraduationData)\n",
       "\n",
       "Residuals:\n",
       "         1          2          3          4          5          6          7 \n",
       " 2.500e-01 -2.500e-01  0.000e+00 -2.500e-01  2.500e-01 -3.469e-17 -2.500e-01 \n",
       "         8          9         10         11         12 \n",
       " 2.500e-01  6.245e-17  2.500e-01 -2.500e-01 -7.633e-17 \n",
       "\n",
       "Coefficients: (3 not defined because of singularities)\n",
       "                               Estimate Std. Error t value Pr(>|t|)   \n",
       "(Intercept)                     53.2500     0.6614  80.506  0.00791 **\n",
       "Rural_or_not1                    2.5000     0.8660   2.887  0.21230   \n",
       "Year2015                         1.5000     0.8660   1.732  0.33333   \n",
       "Year2016                         6.7500     0.9682   6.971  0.09070 . \n",
       "Rural_or_not1:Year2015          -4.0000     1.0000  -4.000  0.15596   \n",
       "Rural_or_not1:Year2016          -6.5000     1.3229  -4.914  0.12782   \n",
       "Rural_or_not0:Fall_semester5th  20.5000     0.8660  23.671  0.02688 * \n",
       "Rural_or_not1:Fall_semester5th  19.5000     0.8660  22.517  0.02825 * \n",
       "Rural_or_not0:Fall_semester6th -52.4500     0.9682 -54.170  0.01175 * \n",
       "Rural_or_not1:Fall_semester6th -54.9500     0.9682 -56.752  0.01122 * \n",
       "Year2015:Fall_semester5th       -1.0000     1.0000  -1.000  0.50000   \n",
       "Year2016:Fall_semester5th            NA         NA      NA       NA   \n",
       "Year2015:Fall_semester6th            NA         NA      NA       NA   \n",
       "Year2016:Fall_semester6th            NA         NA      NA       NA   \n",
       "---\n",
       "Signif. codes:  0 ‘***’ 0.001 ‘**’ 0.01 ‘*’ 0.05 ‘.’ 0.1 ‘ ’ 1\n",
       "\n",
       "Residual standard error: 0.7071 on 1 degrees of freedom\n",
       "Multiple R-squared:  0.9999,\tAdjusted R-squared:  0.9992 \n",
       "F-statistic:  1449 on 10 and 1 DF,  p-value: 0.02044\n"
      ]
     },
     "metadata": {},
     "output_type": "display_data"
    }
   ],
   "source": [
    "lmod_graduation1 = lm(Student_Percentage ~ Rural_or_not + Year + Rural_or_not:Year + Rural_or_not:Fall_semester + Fall_semester:Year, data = GraduationData)\n",
    "summary(lmod_graduation1)"
   ]
  },
  {
   "cell_type": "code",
   "execution_count": 7,
   "id": "extra-enzyme",
   "metadata": {
    "scrolled": true
   },
   "outputs": [
    {
     "data": {
      "text/plain": [
       "\n",
       "Call:\n",
       "lm(formula = Student_Percentage ~ Rural_or_not + Fall_semester + \n",
       "    Year, data = GraduationData)\n",
       "\n",
       "Residuals:\n",
       "    Min      1Q  Median      3Q     Max \n",
       "-2.0000 -0.8125  0.0000  1.0000  1.7500 \n",
       "\n",
       "Coefficients:\n",
       "                 Estimate Std. Error t value Pr(>|t|)    \n",
       "(Intercept)       55.0000     1.1479  47.913 5.54e-09 ***\n",
       "Rural_or_not1     -0.5000     0.9789  -0.511   0.6278    \n",
       "Fall_semester5th  19.5000     1.1990  16.264 3.44e-06 ***\n",
       "Fall_semester6th  23.7500     1.5861  14.974 5.59e-06 ***\n",
       "Year2015          -1.0000     1.1990  -0.834   0.4362    \n",
       "Year2016           3.2500     1.5861   2.049   0.0864 .  \n",
       "---\n",
       "Signif. codes:  0 ‘***’ 0.001 ‘**’ 0.01 ‘*’ 0.05 ‘.’ 0.1 ‘ ’ 1\n",
       "\n",
       "Residual standard error: 1.696 on 6 degrees of freedom\n",
       "Multiple R-squared:  0.9862,\tAdjusted R-squared:  0.9747 \n",
       "F-statistic: 85.68 on 5 and 6 DF,  p-value: 1.702e-05\n"
      ]
     },
     "metadata": {},
     "output_type": "display_data"
    }
   ],
   "source": [
    "lmod_graduation2 = lm(Student_Percentage ~ Rural_or_not + Fall_semester + Year, data = GraduationData)\n",
    "summary(lmod_graduation2)"
   ]
  },
  {
   "cell_type": "code",
   "execution_count": 8,
   "id": "increasing-highway",
   "metadata": {
    "scrolled": true
   },
   "outputs": [
    {
     "data": {
      "text/plain": [
       "\n",
       "Call:\n",
       "lm(formula = Student_Percentage ~ Rural_or_not + Fall_semester, \n",
       "    data = GraduationData)\n",
       "\n",
       "Residuals:\n",
       "    Min      1Q  Median      3Q     Max \n",
       "-2.7500 -0.9375  0.0000  0.7500  4.2500 \n",
       "\n",
       "Coefficients:\n",
       "                 Estimate Std. Error t value Pr(>|t|)    \n",
       "(Intercept)        55.750      1.090  51.160 2.36e-11 ***\n",
       "Rural_or_not1      -0.500      1.258  -0.397    0.701    \n",
       "Fall_semester5th   18.250      1.407  12.972 1.18e-06 ***\n",
       "Fall_semester6th   23.000      1.780  12.925 1.22e-06 ***\n",
       "---\n",
       "Signif. codes:  0 ‘***’ 0.001 ‘**’ 0.01 ‘*’ 0.05 ‘.’ 0.1 ‘ ’ 1\n",
       "\n",
       "Residual standard error: 2.179 on 8 degrees of freedom\n",
       "Multiple R-squared:  0.9696,\tAdjusted R-squared:  0.9582 \n",
       "F-statistic: 84.98 on 3 and 8 DF,  p-value: 2.083e-06\n"
      ]
     },
     "metadata": {},
     "output_type": "display_data"
    }
   ],
   "source": [
    "lmod_graduation3 = lm(Student_Percentage ~ Rural_or_not + Fall_semester, data = GraduationData)\n",
    "summary(lmod_graduation3)"
   ]
  },
  {
   "cell_type": "code",
   "execution_count": 9,
   "id": "humanitarian-bachelor",
   "metadata": {
    "scrolled": false
   },
   "outputs": [
    {
     "data": {
      "text/plain": [
       "\n",
       "Call:\n",
       "lm(formula = Student_Percentage ~ Rural_or_not, data = GraduationData)\n",
       "\n",
       "Residuals:\n",
       "     Min       1Q   Median       3Q      Max \n",
       "-12.6667  -9.5417   0.5833   8.7083  13.8333 \n",
       "\n",
       "Coefficients:\n",
       "              Estimate Std. Error t value Pr(>|t|)    \n",
       "(Intercept)     65.667      4.561  14.397 5.18e-08 ***\n",
       "Rural_or_not1   -0.500      6.450  -0.078     0.94    \n",
       "---\n",
       "Signif. codes:  0 ‘***’ 0.001 ‘**’ 0.01 ‘*’ 0.05 ‘.’ 0.1 ‘ ’ 1\n",
       "\n",
       "Residual standard error: 11.17 on 10 degrees of freedom\n",
       "Multiple R-squared:  0.0006005,\tAdjusted R-squared:  -0.09934 \n",
       "F-statistic: 0.006009 on 1 and 10 DF,  p-value: 0.9397\n"
      ]
     },
     "metadata": {},
     "output_type": "display_data"
    }
   ],
   "source": [
    "lmod_graduation4 = lm(Student_Percentage ~ Rural_or_not, data = GraduationData)\n",
    "summary(lmod_graduation4)"
   ]
  },
  {
   "cell_type": "code",
   "execution_count": 10,
   "id": "jewish-calendar",
   "metadata": {},
   "outputs": [
    {
     "data": {
      "text/plain": [
       "\n",
       "Call:\n",
       "lm(formula = Student_Percentage ~ Rural_or_not + Fall_semester + \n",
       "    Rural_or_not:Fall_semester, data = GraduationData)\n",
       "\n",
       "Residuals:\n",
       "   Min     1Q Median     3Q    Max \n",
       "-3.000 -1.125  0.000  1.000  4.000 \n",
       "\n",
       "Coefficients:\n",
       "                               Estimate Std. Error t value Pr(>|t|)    \n",
       "(Intercept)                      56.000      1.424  39.326 1.81e-08 ***\n",
       "Rural_or_not1                    -1.000      2.014  -0.497 0.637162    \n",
       "Fall_semester5th                 18.000      2.252   7.995 0.000204 ***\n",
       "Fall_semester6th                 22.000      2.848   7.725 0.000247 ***\n",
       "Rural_or_not1:Fall_semester5th    0.500      3.184   0.157 0.880374    \n",
       "Rural_or_not1:Fall_semester6th    2.000      4.028   0.497 0.637162    \n",
       "---\n",
       "Signif. codes:  0 ‘***’ 0.001 ‘**’ 0.01 ‘*’ 0.05 ‘.’ 0.1 ‘ ’ 1\n",
       "\n",
       "Residual standard error: 2.466 on 6 degrees of freedom\n",
       "Multiple R-squared:  0.9708,\tAdjusted R-squared:  0.9464 \n",
       "F-statistic: 39.86 on 5 and 6 DF,  p-value: 0.0001585\n"
      ]
     },
     "metadata": {},
     "output_type": "display_data"
    }
   ],
   "source": [
    "lmod_graduation5 = lm(Student_Percentage ~ Rural_or_not + Fall_semester + Rural_or_not:Fall_semester, data = GraduationData)\n",
    "summary(lmod_graduation5)"
   ]
  },
  {
   "cell_type": "code",
   "execution_count": 13,
   "id": "universal-briefing",
   "metadata": {},
   "outputs": [
    {
     "data": {
      "text/html": [
       "<table class=\"dataframe\">\n",
       "<caption>A anova: 2 × 6</caption>\n",
       "<thead>\n",
       "\t<tr><th></th><th scope=col>Res.Df</th><th scope=col>RSS</th><th scope=col>Df</th><th scope=col>Sum of Sq</th><th scope=col>F</th><th scope=col>Pr(&gt;F)</th></tr>\n",
       "\t<tr><th></th><th scope=col>&lt;dbl&gt;</th><th scope=col>&lt;dbl&gt;</th><th scope=col>&lt;dbl&gt;</th><th scope=col>&lt;dbl&gt;</th><th scope=col>&lt;dbl&gt;</th><th scope=col>&lt;dbl&gt;</th></tr>\n",
       "</thead>\n",
       "<tbody>\n",
       "\t<tr><th scope=row>1</th><td>8</td><td>38.00</td><td>NA</td><td>   NA</td><td>      NA</td><td>        NA</td></tr>\n",
       "\t<tr><th scope=row>2</th><td>6</td><td>17.25</td><td> 2</td><td>20.75</td><td>3.608696</td><td>0.09354412</td></tr>\n",
       "</tbody>\n",
       "</table>\n"
      ],
      "text/latex": [
       "A anova: 2 × 6\n",
       "\\begin{tabular}{r|llllll}\n",
       "  & Res.Df & RSS & Df & Sum of Sq & F & Pr(>F)\\\\\n",
       "  & <dbl> & <dbl> & <dbl> & <dbl> & <dbl> & <dbl>\\\\\n",
       "\\hline\n",
       "\t1 & 8 & 38.00 & NA &    NA &       NA &         NA\\\\\n",
       "\t2 & 6 & 17.25 &  2 & 20.75 & 3.608696 & 0.09354412\\\\\n",
       "\\end{tabular}\n"
      ],
      "text/markdown": [
       "\n",
       "A anova: 2 × 6\n",
       "\n",
       "| <!--/--> | Res.Df &lt;dbl&gt; | RSS &lt;dbl&gt; | Df &lt;dbl&gt; | Sum of Sq &lt;dbl&gt; | F &lt;dbl&gt; | Pr(&gt;F) &lt;dbl&gt; |\n",
       "|---|---|---|---|---|---|---|\n",
       "| 1 | 8 | 38.00 | NA |    NA |       NA |         NA |\n",
       "| 2 | 6 | 17.25 |  2 | 20.75 | 3.608696 | 0.09354412 |\n",
       "\n"
      ],
      "text/plain": [
       "  Res.Df RSS   Df Sum of Sq F        Pr(>F)    \n",
       "1 8      38.00 NA    NA           NA         NA\n",
       "2 6      17.25  2 20.75     3.608696 0.09354412"
      ]
     },
     "metadata": {},
     "output_type": "display_data"
    }
   ],
   "source": [
    "anova(lmod_graduation3, lmod_graduation2)"
   ]
  },
  {
   "cell_type": "code",
   "execution_count": 14,
   "id": "completed-safety",
   "metadata": {},
   "outputs": [
    {
     "data": {
      "text/html": [
       "<table class=\"dataframe\">\n",
       "<caption>A anova: 2 × 6</caption>\n",
       "<thead>\n",
       "\t<tr><th></th><th scope=col>Res.Df</th><th scope=col>RSS</th><th scope=col>Df</th><th scope=col>Sum of Sq</th><th scope=col>F</th><th scope=col>Pr(&gt;F)</th></tr>\n",
       "\t<tr><th></th><th scope=col>&lt;dbl&gt;</th><th scope=col>&lt;dbl&gt;</th><th scope=col>&lt;dbl&gt;</th><th scope=col>&lt;dbl&gt;</th><th scope=col>&lt;dbl&gt;</th><th scope=col>&lt;dbl&gt;</th></tr>\n",
       "</thead>\n",
       "<tbody>\n",
       "\t<tr><th scope=row>1</th><td>6</td><td>17.25</td><td>NA</td><td>    NA</td><td>      NA</td><td>        NA</td></tr>\n",
       "\t<tr><th scope=row>2</th><td>8</td><td>38.00</td><td>-2</td><td>-20.75</td><td>3.608696</td><td>0.09354412</td></tr>\n",
       "</tbody>\n",
       "</table>\n"
      ],
      "text/latex": [
       "A anova: 2 × 6\n",
       "\\begin{tabular}{r|llllll}\n",
       "  & Res.Df & RSS & Df & Sum of Sq & F & Pr(>F)\\\\\n",
       "  & <dbl> & <dbl> & <dbl> & <dbl> & <dbl> & <dbl>\\\\\n",
       "\\hline\n",
       "\t1 & 6 & 17.25 & NA &     NA &       NA &         NA\\\\\n",
       "\t2 & 8 & 38.00 & -2 & -20.75 & 3.608696 & 0.09354412\\\\\n",
       "\\end{tabular}\n"
      ],
      "text/markdown": [
       "\n",
       "A anova: 2 × 6\n",
       "\n",
       "| <!--/--> | Res.Df &lt;dbl&gt; | RSS &lt;dbl&gt; | Df &lt;dbl&gt; | Sum of Sq &lt;dbl&gt; | F &lt;dbl&gt; | Pr(&gt;F) &lt;dbl&gt; |\n",
       "|---|---|---|---|---|---|---|\n",
       "| 1 | 6 | 17.25 | NA |     NA |       NA |         NA |\n",
       "| 2 | 8 | 38.00 | -2 | -20.75 | 3.608696 | 0.09354412 |\n",
       "\n"
      ],
      "text/plain": [
       "  Res.Df RSS   Df Sum of Sq F        Pr(>F)    \n",
       "1 6      17.25 NA     NA          NA         NA\n",
       "2 8      38.00 -2 -20.75    3.608696 0.09354412"
      ]
     },
     "metadata": {},
     "output_type": "display_data"
    }
   ],
   "source": [
    "anova(lmod_graduation2, lmod_graduation3) # Hence only Rural_or_not and Fall_semester is sufficient, Year not needed."
   ]
  },
  {
   "cell_type": "code",
   "execution_count": 15,
   "id": "angry-luxembourg",
   "metadata": {},
   "outputs": [
    {
     "data": {
      "text/html": [
       "<table class=\"dataframe\">\n",
       "<caption>A anova: 2 × 6</caption>\n",
       "<thead>\n",
       "\t<tr><th></th><th scope=col>Res.Df</th><th scope=col>RSS</th><th scope=col>Df</th><th scope=col>Sum of Sq</th><th scope=col>F</th><th scope=col>Pr(&gt;F)</th></tr>\n",
       "\t<tr><th></th><th scope=col>&lt;dbl&gt;</th><th scope=col>&lt;dbl&gt;</th><th scope=col>&lt;dbl&gt;</th><th scope=col>&lt;dbl&gt;</th><th scope=col>&lt;dbl&gt;</th><th scope=col>&lt;dbl&gt;</th></tr>\n",
       "</thead>\n",
       "<tbody>\n",
       "\t<tr><th scope=row>1</th><td> 6</td><td>  17.250</td><td>NA</td><td>       NA</td><td>      NA</td><td>          NA</td></tr>\n",
       "\t<tr><th scope=row>2</th><td>10</td><td>1248.167</td><td>-4</td><td>-1230.917</td><td>107.0362</td><td>1.044924e-05</td></tr>\n",
       "</tbody>\n",
       "</table>\n"
      ],
      "text/latex": [
       "A anova: 2 × 6\n",
       "\\begin{tabular}{r|llllll}\n",
       "  & Res.Df & RSS & Df & Sum of Sq & F & Pr(>F)\\\\\n",
       "  & <dbl> & <dbl> & <dbl> & <dbl> & <dbl> & <dbl>\\\\\n",
       "\\hline\n",
       "\t1 &  6 &   17.250 & NA &        NA &       NA &           NA\\\\\n",
       "\t2 & 10 & 1248.167 & -4 & -1230.917 & 107.0362 & 1.044924e-05\\\\\n",
       "\\end{tabular}\n"
      ],
      "text/markdown": [
       "\n",
       "A anova: 2 × 6\n",
       "\n",
       "| <!--/--> | Res.Df &lt;dbl&gt; | RSS &lt;dbl&gt; | Df &lt;dbl&gt; | Sum of Sq &lt;dbl&gt; | F &lt;dbl&gt; | Pr(&gt;F) &lt;dbl&gt; |\n",
       "|---|---|---|---|---|---|---|\n",
       "| 1 |  6 |   17.250 | NA |        NA |       NA |           NA |\n",
       "| 2 | 10 | 1248.167 | -4 | -1230.917 | 107.0362 | 1.044924e-05 |\n",
       "\n"
      ],
      "text/plain": [
       "  Res.Df RSS      Df Sum of Sq F        Pr(>F)      \n",
       "1  6       17.250 NA        NA       NA           NA\n",
       "2 10     1248.167 -4 -1230.917 107.0362 1.044924e-05"
      ]
     },
     "metadata": {},
     "output_type": "display_data"
    }
   ],
   "source": [
    "anova(lmod_graduation2, lmod_graduation4)"
   ]
  },
  {
   "cell_type": "code",
   "execution_count": 16,
   "id": "criminal-nation",
   "metadata": {},
   "outputs": [
    {
     "data": {
      "text/html": [
       "<table class=\"dataframe\">\n",
       "<caption>A anova: 2 × 6</caption>\n",
       "<thead>\n",
       "\t<tr><th></th><th scope=col>Res.Df</th><th scope=col>RSS</th><th scope=col>Df</th><th scope=col>Sum of Sq</th><th scope=col>F</th><th scope=col>Pr(&gt;F)</th></tr>\n",
       "\t<tr><th></th><th scope=col>&lt;dbl&gt;</th><th scope=col>&lt;dbl&gt;</th><th scope=col>&lt;dbl&gt;</th><th scope=col>&lt;dbl&gt;</th><th scope=col>&lt;dbl&gt;</th><th scope=col>&lt;dbl&gt;</th></tr>\n",
       "</thead>\n",
       "<tbody>\n",
       "\t<tr><th scope=row>1</th><td> 8</td><td>  38.000</td><td>NA</td><td>       NA</td><td>     NA</td><td>          NA</td></tr>\n",
       "\t<tr><th scope=row>2</th><td>10</td><td>1248.167</td><td>-2</td><td>-1210.167</td><td>127.386</td><td>8.591007e-07</td></tr>\n",
       "</tbody>\n",
       "</table>\n"
      ],
      "text/latex": [
       "A anova: 2 × 6\n",
       "\\begin{tabular}{r|llllll}\n",
       "  & Res.Df & RSS & Df & Sum of Sq & F & Pr(>F)\\\\\n",
       "  & <dbl> & <dbl> & <dbl> & <dbl> & <dbl> & <dbl>\\\\\n",
       "\\hline\n",
       "\t1 &  8 &   38.000 & NA &        NA &      NA &           NA\\\\\n",
       "\t2 & 10 & 1248.167 & -2 & -1210.167 & 127.386 & 8.591007e-07\\\\\n",
       "\\end{tabular}\n"
      ],
      "text/markdown": [
       "\n",
       "A anova: 2 × 6\n",
       "\n",
       "| <!--/--> | Res.Df &lt;dbl&gt; | RSS &lt;dbl&gt; | Df &lt;dbl&gt; | Sum of Sq &lt;dbl&gt; | F &lt;dbl&gt; | Pr(&gt;F) &lt;dbl&gt; |\n",
       "|---|---|---|---|---|---|---|\n",
       "| 1 |  8 |   38.000 | NA |        NA |      NA |           NA |\n",
       "| 2 | 10 | 1248.167 | -2 | -1210.167 | 127.386 | 8.591007e-07 |\n",
       "\n"
      ],
      "text/plain": [
       "  Res.Df RSS      Df Sum of Sq F       Pr(>F)      \n",
       "1  8       38.000 NA        NA      NA           NA\n",
       "2 10     1248.167 -2 -1210.167 127.386 8.591007e-07"
      ]
     },
     "metadata": {},
     "output_type": "display_data"
    }
   ],
   "source": [
    "anova(lmod_graduation3, lmod_graduation4) # Hence only Rural_or_not is not sufficient, Fall_semester is required."
   ]
  },
  {
   "cell_type": "code",
   "execution_count": 17,
   "id": "described-sandwich",
   "metadata": {},
   "outputs": [
    {
     "data": {
      "text/html": [
       "<table class=\"dataframe\">\n",
       "<caption>A anova: 2 × 6</caption>\n",
       "<thead>\n",
       "\t<tr><th></th><th scope=col>Res.Df</th><th scope=col>RSS</th><th scope=col>Df</th><th scope=col>Sum of Sq</th><th scope=col>F</th><th scope=col>Pr(&gt;F)</th></tr>\n",
       "\t<tr><th></th><th scope=col>&lt;dbl&gt;</th><th scope=col>&lt;dbl&gt;</th><th scope=col>&lt;dbl&gt;</th><th scope=col>&lt;dbl&gt;</th><th scope=col>&lt;dbl&gt;</th><th scope=col>&lt;dbl&gt;</th></tr>\n",
       "</thead>\n",
       "<tbody>\n",
       "\t<tr><th scope=row>1</th><td>6</td><td>36.5</td><td>NA</td><td>  NA</td><td>       NA</td><td>      NA</td></tr>\n",
       "\t<tr><th scope=row>2</th><td>8</td><td>38.0</td><td>-2</td><td>-1.5</td><td>0.1232877</td><td>0.886192</td></tr>\n",
       "</tbody>\n",
       "</table>\n"
      ],
      "text/latex": [
       "A anova: 2 × 6\n",
       "\\begin{tabular}{r|llllll}\n",
       "  & Res.Df & RSS & Df & Sum of Sq & F & Pr(>F)\\\\\n",
       "  & <dbl> & <dbl> & <dbl> & <dbl> & <dbl> & <dbl>\\\\\n",
       "\\hline\n",
       "\t1 & 6 & 36.5 & NA &   NA &        NA &       NA\\\\\n",
       "\t2 & 8 & 38.0 & -2 & -1.5 & 0.1232877 & 0.886192\\\\\n",
       "\\end{tabular}\n"
      ],
      "text/markdown": [
       "\n",
       "A anova: 2 × 6\n",
       "\n",
       "| <!--/--> | Res.Df &lt;dbl&gt; | RSS &lt;dbl&gt; | Df &lt;dbl&gt; | Sum of Sq &lt;dbl&gt; | F &lt;dbl&gt; | Pr(&gt;F) &lt;dbl&gt; |\n",
       "|---|---|---|---|---|---|---|\n",
       "| 1 | 6 | 36.5 | NA |   NA |        NA |       NA |\n",
       "| 2 | 8 | 38.0 | -2 | -1.5 | 0.1232877 | 0.886192 |\n",
       "\n"
      ],
      "text/plain": [
       "  Res.Df RSS  Df Sum of Sq F         Pr(>F)  \n",
       "1 6      36.5 NA   NA             NA       NA\n",
       "2 8      38.0 -2 -1.5      0.1232877 0.886192"
      ]
     },
     "metadata": {},
     "output_type": "display_data"
    }
   ],
   "source": [
    "anova(lmod_graduation5, lmod_graduation3)  # Interation term Fall_semester:Rural_or_not is not required."
   ]
  },
  {
   "cell_type": "code",
   "execution_count": 18,
   "id": "amended-cinema",
   "metadata": {
    "scrolled": true
   },
   "outputs": [
    {
     "data": {
      "text/plain": [
       "\n",
       "Call:\n",
       "lm(formula = Student_Percentage ~ Rural_or_not + Fall_semester, \n",
       "    data = GraduationData)\n",
       "\n",
       "Residuals:\n",
       "    Min      1Q  Median      3Q     Max \n",
       "-2.7500 -0.9375  0.0000  0.7500  4.2500 \n",
       "\n",
       "Coefficients:\n",
       "                 Estimate Std. Error t value Pr(>|t|)    \n",
       "(Intercept)        55.750      1.090  51.160 2.36e-11 ***\n",
       "Rural_or_not1      -0.500      1.258  -0.397    0.701    \n",
       "Fall_semester5th   18.250      1.407  12.972 1.18e-06 ***\n",
       "Fall_semester6th   23.000      1.780  12.925 1.22e-06 ***\n",
       "---\n",
       "Signif. codes:  0 ‘***’ 0.001 ‘**’ 0.01 ‘*’ 0.05 ‘.’ 0.1 ‘ ’ 1\n",
       "\n",
       "Residual standard error: 2.179 on 8 degrees of freedom\n",
       "Multiple R-squared:  0.9696,\tAdjusted R-squared:  0.9582 \n",
       "F-statistic: 84.98 on 3 and 8 DF,  p-value: 2.083e-06\n"
      ]
     },
     "metadata": {},
     "output_type": "display_data"
    }
   ],
   "source": [
    "final_graduation_model = lmod_graduation3\n",
    "summary(final_graduation_model)"
   ]
  },
  {
   "cell_type": "markdown",
   "id": "accepted-museum",
   "metadata": {},
   "source": [
    "$\\textbf{Interpretation}:$\n",
    "1. The reduced model without the interations is sufficient.\n",
    "2. The reduced model with only Rural_or_not and Fall_semester but not the Year is sufficient\n",
    "3. The reduced model with only Rural_or_not but not the Fall_semester is NOT sufficient.\n",
    "4. So our chosen model would be model3 with Rural_or_not and Fall_semester and predictors.\n",
    "\n",
    "$\\\\\\\\$\n",
    "\n",
    "5. The average graduation rate of NON-rural students in 4th Fall semester = 55.8% which is statistically significant.\n",
    "6. Holding the semester constant, the graduation rates of rural and non-rural students, on average, are same.\n",
    "7. Since the model without the Rural_or_not:Fall_semester interaction term is sufficient compared to the one with it, we conclude that the difference in graduation rates between rural and non-rural remains constant across the semesters, on average.\n",
    "8. Keeping the type of student constant, the difference in graduation rate across semesters is statistically significant (makes sense).\n",
    "\n"
   ]
  },
  {
   "cell_type": "markdown",
   "id": "institutional-puppy",
   "metadata": {},
   "source": [
    "## Next analysis would be look at the level of gender, BIPOC status, etc, as per Karen's email."
   ]
  },
  {
   "cell_type": "code",
   "execution_count": null,
   "id": "former-destruction",
   "metadata": {},
   "outputs": [],
   "source": []
  }
 ],
 "metadata": {
  "kernelspec": {
   "display_name": "R",
   "language": "R",
   "name": "ir"
  },
  "language_info": {
   "codemirror_mode": "r",
   "file_extension": ".r",
   "mimetype": "text/x-r-source",
   "name": "R",
   "pygments_lexer": "r",
   "version": "4.0.3"
  }
 },
 "nbformat": 4,
 "nbformat_minor": 5
}
