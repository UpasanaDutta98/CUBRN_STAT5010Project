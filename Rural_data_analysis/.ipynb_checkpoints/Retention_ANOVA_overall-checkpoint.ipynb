{
 "cells": [
  {
   "cell_type": "code",
   "execution_count": 1,
   "id": "optional-outdoors",
   "metadata": {
    "scrolled": true
   },
   "outputs": [
    {
     "data": {
      "text/html": [
       "<table class=\"dataframe\">\n",
       "<caption>A data.frame: 30 × 4</caption>\n",
       "<thead>\n",
       "\t<tr><th scope=col>Student_Percentage</th><th scope=col>Rural_or_not</th><th scope=col>Year</th><th scope=col>Fall_semester</th></tr>\n",
       "\t<tr><th scope=col>&lt;dbl&gt;</th><th scope=col>&lt;int&gt;</th><th scope=col>&lt;int&gt;</th><th scope=col>&lt;chr&gt;</th></tr>\n",
       "</thead>\n",
       "<tbody>\n",
       "\t<tr><td>89</td><td>1</td><td>2014</td><td>2nd</td></tr>\n",
       "\t<tr><td>83</td><td>1</td><td>2014</td><td>3rd</td></tr>\n",
       "\t<tr><td>80</td><td>1</td><td>2014</td><td>4th</td></tr>\n",
       "\t<tr><td>86</td><td>1</td><td>2015</td><td>2nd</td></tr>\n",
       "\t<tr><td>82</td><td>1</td><td>2015</td><td>3rd</td></tr>\n",
       "\t<tr><td>78</td><td>1</td><td>2015</td><td>4th</td></tr>\n",
       "\t<tr><td>88</td><td>1</td><td>2016</td><td>2nd</td></tr>\n",
       "\t<tr><td>80</td><td>1</td><td>2016</td><td>3rd</td></tr>\n",
       "\t<tr><td>75</td><td>1</td><td>2016</td><td>4th</td></tr>\n",
       "\t<tr><td>85</td><td>1</td><td>2017</td><td>2nd</td></tr>\n",
       "\t<tr><td>81</td><td>1</td><td>2017</td><td>3rd</td></tr>\n",
       "\t<tr><td>79</td><td>1</td><td>2017</td><td>4th</td></tr>\n",
       "\t<tr><td>90</td><td>1</td><td>2018</td><td>2nd</td></tr>\n",
       "\t<tr><td>82</td><td>1</td><td>2018</td><td>3rd</td></tr>\n",
       "\t<tr><td>89</td><td>1</td><td>2019</td><td>2nd</td></tr>\n",
       "\t<tr><td>89</td><td>0</td><td>2014</td><td>2nd</td></tr>\n",
       "\t<tr><td>84</td><td>0</td><td>2014</td><td>3rd</td></tr>\n",
       "\t<tr><td>82</td><td>0</td><td>2014</td><td>4th</td></tr>\n",
       "\t<tr><td>89</td><td>0</td><td>2015</td><td>2nd</td></tr>\n",
       "\t<tr><td>83</td><td>0</td><td>2015</td><td>3rd</td></tr>\n",
       "\t<tr><td>81</td><td>0</td><td>2015</td><td>4th</td></tr>\n",
       "\t<tr><td>90</td><td>0</td><td>2016</td><td>2nd</td></tr>\n",
       "\t<tr><td>84</td><td>0</td><td>2016</td><td>3rd</td></tr>\n",
       "\t<tr><td>82</td><td>0</td><td>2016</td><td>4th</td></tr>\n",
       "\t<tr><td>90</td><td>0</td><td>2017</td><td>2nd</td></tr>\n",
       "\t<tr><td>85</td><td>0</td><td>2017</td><td>3rd</td></tr>\n",
       "\t<tr><td>81</td><td>0</td><td>2017</td><td>4th</td></tr>\n",
       "\t<tr><td>90</td><td>0</td><td>2018</td><td>2nd</td></tr>\n",
       "\t<tr><td>82</td><td>0</td><td>2018</td><td>3rd</td></tr>\n",
       "\t<tr><td>89</td><td>0</td><td>2019</td><td>2nd</td></tr>\n",
       "</tbody>\n",
       "</table>\n"
      ],
      "text/latex": [
       "A data.frame: 30 × 4\n",
       "\\begin{tabular}{llll}\n",
       " Student\\_Percentage & Rural\\_or\\_not & Year & Fall\\_semester\\\\\n",
       " <dbl> & <int> & <int> & <chr>\\\\\n",
       "\\hline\n",
       "\t 89 & 1 & 2014 & 2nd\\\\\n",
       "\t 83 & 1 & 2014 & 3rd\\\\\n",
       "\t 80 & 1 & 2014 & 4th\\\\\n",
       "\t 86 & 1 & 2015 & 2nd\\\\\n",
       "\t 82 & 1 & 2015 & 3rd\\\\\n",
       "\t 78 & 1 & 2015 & 4th\\\\\n",
       "\t 88 & 1 & 2016 & 2nd\\\\\n",
       "\t 80 & 1 & 2016 & 3rd\\\\\n",
       "\t 75 & 1 & 2016 & 4th\\\\\n",
       "\t 85 & 1 & 2017 & 2nd\\\\\n",
       "\t 81 & 1 & 2017 & 3rd\\\\\n",
       "\t 79 & 1 & 2017 & 4th\\\\\n",
       "\t 90 & 1 & 2018 & 2nd\\\\\n",
       "\t 82 & 1 & 2018 & 3rd\\\\\n",
       "\t 89 & 1 & 2019 & 2nd\\\\\n",
       "\t 89 & 0 & 2014 & 2nd\\\\\n",
       "\t 84 & 0 & 2014 & 3rd\\\\\n",
       "\t 82 & 0 & 2014 & 4th\\\\\n",
       "\t 89 & 0 & 2015 & 2nd\\\\\n",
       "\t 83 & 0 & 2015 & 3rd\\\\\n",
       "\t 81 & 0 & 2015 & 4th\\\\\n",
       "\t 90 & 0 & 2016 & 2nd\\\\\n",
       "\t 84 & 0 & 2016 & 3rd\\\\\n",
       "\t 82 & 0 & 2016 & 4th\\\\\n",
       "\t 90 & 0 & 2017 & 2nd\\\\\n",
       "\t 85 & 0 & 2017 & 3rd\\\\\n",
       "\t 81 & 0 & 2017 & 4th\\\\\n",
       "\t 90 & 0 & 2018 & 2nd\\\\\n",
       "\t 82 & 0 & 2018 & 3rd\\\\\n",
       "\t 89 & 0 & 2019 & 2nd\\\\\n",
       "\\end{tabular}\n"
      ],
      "text/markdown": [
       "\n",
       "A data.frame: 30 × 4\n",
       "\n",
       "| Student_Percentage &lt;dbl&gt; | Rural_or_not &lt;int&gt; | Year &lt;int&gt; | Fall_semester &lt;chr&gt; |\n",
       "|---|---|---|---|\n",
       "| 89 | 1 | 2014 | 2nd |\n",
       "| 83 | 1 | 2014 | 3rd |\n",
       "| 80 | 1 | 2014 | 4th |\n",
       "| 86 | 1 | 2015 | 2nd |\n",
       "| 82 | 1 | 2015 | 3rd |\n",
       "| 78 | 1 | 2015 | 4th |\n",
       "| 88 | 1 | 2016 | 2nd |\n",
       "| 80 | 1 | 2016 | 3rd |\n",
       "| 75 | 1 | 2016 | 4th |\n",
       "| 85 | 1 | 2017 | 2nd |\n",
       "| 81 | 1 | 2017 | 3rd |\n",
       "| 79 | 1 | 2017 | 4th |\n",
       "| 90 | 1 | 2018 | 2nd |\n",
       "| 82 | 1 | 2018 | 3rd |\n",
       "| 89 | 1 | 2019 | 2nd |\n",
       "| 89 | 0 | 2014 | 2nd |\n",
       "| 84 | 0 | 2014 | 3rd |\n",
       "| 82 | 0 | 2014 | 4th |\n",
       "| 89 | 0 | 2015 | 2nd |\n",
       "| 83 | 0 | 2015 | 3rd |\n",
       "| 81 | 0 | 2015 | 4th |\n",
       "| 90 | 0 | 2016 | 2nd |\n",
       "| 84 | 0 | 2016 | 3rd |\n",
       "| 82 | 0 | 2016 | 4th |\n",
       "| 90 | 0 | 2017 | 2nd |\n",
       "| 85 | 0 | 2017 | 3rd |\n",
       "| 81 | 0 | 2017 | 4th |\n",
       "| 90 | 0 | 2018 | 2nd |\n",
       "| 82 | 0 | 2018 | 3rd |\n",
       "| 89 | 0 | 2019 | 2nd |\n",
       "\n"
      ],
      "text/plain": [
       "   Student_Percentage Rural_or_not Year Fall_semester\n",
       "1  89                 1            2014 2nd          \n",
       "2  83                 1            2014 3rd          \n",
       "3  80                 1            2014 4th          \n",
       "4  86                 1            2015 2nd          \n",
       "5  82                 1            2015 3rd          \n",
       "6  78                 1            2015 4th          \n",
       "7  88                 1            2016 2nd          \n",
       "8  80                 1            2016 3rd          \n",
       "9  75                 1            2016 4th          \n",
       "10 85                 1            2017 2nd          \n",
       "11 81                 1            2017 3rd          \n",
       "12 79                 1            2017 4th          \n",
       "13 90                 1            2018 2nd          \n",
       "14 82                 1            2018 3rd          \n",
       "15 89                 1            2019 2nd          \n",
       "16 89                 0            2014 2nd          \n",
       "17 84                 0            2014 3rd          \n",
       "18 82                 0            2014 4th          \n",
       "19 89                 0            2015 2nd          \n",
       "20 83                 0            2015 3rd          \n",
       "21 81                 0            2015 4th          \n",
       "22 90                 0            2016 2nd          \n",
       "23 84                 0            2016 3rd          \n",
       "24 82                 0            2016 4th          \n",
       "25 90                 0            2017 2nd          \n",
       "26 85                 0            2017 3rd          \n",
       "27 81                 0            2017 4th          \n",
       "28 90                 0            2018 2nd          \n",
       "29 82                 0            2018 3rd          \n",
       "30 89                 0            2019 2nd          "
      ]
     },
     "metadata": {},
     "output_type": "display_data"
    }
   ],
   "source": [
    "RententionData = read.csv(file = 'RententionData_for_Anova.csv')\n",
    "#head(RententionData)\n",
    "RententionData"
   ]
  },
  {
   "cell_type": "code",
   "execution_count": null,
   "id": "rocky-teacher",
   "metadata": {},
   "outputs": [],
   "source": []
  },
  {
   "cell_type": "code",
   "execution_count": null,
   "id": "round-impossible",
   "metadata": {},
   "outputs": [],
   "source": []
  },
  {
   "cell_type": "code",
   "execution_count": 2,
   "id": "intensive-antarctica",
   "metadata": {},
   "outputs": [
    {
     "ename": "ERROR",
     "evalue": "Error in pd.read_csv(\"../RuralData/admissions2020_wFilters.csv\"): could not find function \"pd.read_csv\"\n",
     "output_type": "error",
     "traceback": [
      "Error in pd.read_csv(\"../RuralData/admissions2020_wFilters.csv\"): could not find function \"pd.read_csv\"\nTraceback:\n"
     ]
    }
   ],
   "source": [
    "\n",
    "df = pd.read_csv('../RuralData/admissions2020_wFilters.csv')"
   ]
  },
  {
   "cell_type": "code",
   "execution_count": 3,
   "id": "precious-running",
   "metadata": {},
   "outputs": [
    {
     "data": {
      "text/html": [
       "<pre class=language-r><code>function (x, df1, df2, ncp, log = FALSE) \n",
       "{\n",
       "<span style=white-space:pre-wrap>    if (missing(ncp)) </span>\n",
       "<span style=white-space:pre-wrap>        .Call(C_df, x, df1, df2, log)</span>\n",
       "<span style=white-space:pre-wrap>    else .Call(C_dnf, x, df1, df2, ncp, log)</span>\n",
       "}</code></pre>"
      ],
      "text/latex": [
       "\\begin{minted}{r}\n",
       "function (x, df1, df2, ncp, log = FALSE) \n",
       "\\{\n",
       "    if (missing(ncp)) \n",
       "        .Call(C\\_df, x, df1, df2, log)\n",
       "    else .Call(C\\_dnf, x, df1, df2, ncp, log)\n",
       "\\}\n",
       "\\end{minted}"
      ],
      "text/markdown": [
       "```r\n",
       "function (x, df1, df2, ncp, log = FALSE) \n",
       "{\n",
       "    if (missing(ncp)) \n",
       "        .Call(C_df, x, df1, df2, log)\n",
       "    else .Call(C_dnf, x, df1, df2, ncp, log)\n",
       "}\n",
       "```"
      ],
      "text/plain": [
       "function (x, df1, df2, ncp, log = FALSE) \n",
       "{\n",
       "    if (missing(ncp)) \n",
       "        .Call(C_df, x, df1, df2, log)\n",
       "    else .Call(C_dnf, x, df1, df2, ncp, log)\n",
       "}\n",
       "<bytecode: 0x7faf58f5a978>\n",
       "<environment: namespace:stats>"
      ]
     },
     "metadata": {},
     "output_type": "display_data"
    }
   ],
   "source": [
    "df"
   ]
  },
  {
   "cell_type": "code",
   "execution_count": 6,
   "id": "difficult-barrier",
   "metadata": {},
   "outputs": [
    {
     "data": {
      "text/plain": [
       "3600"
      ]
     },
     "execution_count": 6,
     "metadata": {},
     "output_type": "execute_result"
    }
   ],
   "source": [
    "sum(df['N'])"
   ]
  },
  {
   "cell_type": "code",
   "execution_count": null,
   "id": "timely-attachment",
   "metadata": {},
   "outputs": [],
   "source": []
  },
  {
   "cell_type": "code",
   "execution_count": 4,
   "id": "imperial-transfer",
   "metadata": {},
   "outputs": [
    {
     "data": {
      "text/html": [
       "<ol>\n",
       "\t<li><style>\n",
       ".list-inline {list-style: none; margin:0; padding: 0}\n",
       ".list-inline>li {display: inline-block}\n",
       ".list-inline>li:not(:last-child)::after {content: \"\\00b7\"; padding: 0 .5ex}\n",
       "</style>\n",
       "<ol class=list-inline><li>89</li><li>83</li><li>80</li><li>86</li><li>82</li><li>78</li><li>88</li><li>80</li><li>75</li><li>85</li><li>81</li><li>79</li><li>90</li><li>82</li><li>89</li><li>89</li><li>84</li><li>82</li><li>89</li><li>83</li><li>81</li><li>90</li><li>84</li><li>82</li><li>90</li><li>85</li><li>81</li><li>90</li><li>82</li><li>89</li></ol>\n",
       "</li>\n",
       "</ol>\n"
      ],
      "text/latex": [
       "\\begin{enumerate}\n",
       "\\item \\begin{enumerate*}\n",
       "\\item 89\n",
       "\\item 83\n",
       "\\item 80\n",
       "\\item 86\n",
       "\\item 82\n",
       "\\item 78\n",
       "\\item 88\n",
       "\\item 80\n",
       "\\item 75\n",
       "\\item 85\n",
       "\\item 81\n",
       "\\item 79\n",
       "\\item 90\n",
       "\\item 82\n",
       "\\item 89\n",
       "\\item 89\n",
       "\\item 84\n",
       "\\item 82\n",
       "\\item 89\n",
       "\\item 83\n",
       "\\item 81\n",
       "\\item 90\n",
       "\\item 84\n",
       "\\item 82\n",
       "\\item 90\n",
       "\\item 85\n",
       "\\item 81\n",
       "\\item 90\n",
       "\\item 82\n",
       "\\item 89\n",
       "\\end{enumerate*}\n",
       "\n",
       "\\end{enumerate}\n"
      ],
      "text/markdown": [
       "1. 1. 89\n",
       "2. 83\n",
       "3. 80\n",
       "4. 86\n",
       "5. 82\n",
       "6. 78\n",
       "7. 88\n",
       "8. 80\n",
       "9. 75\n",
       "10. 85\n",
       "11. 81\n",
       "12. 79\n",
       "13. 90\n",
       "14. 82\n",
       "15. 89\n",
       "16. 89\n",
       "17. 84\n",
       "18. 82\n",
       "19. 89\n",
       "20. 83\n",
       "21. 81\n",
       "22. 90\n",
       "23. 84\n",
       "24. 82\n",
       "25. 90\n",
       "26. 85\n",
       "27. 81\n",
       "28. 90\n",
       "29. 82\n",
       "30. 89\n",
       "\n",
       "\n",
       "\n",
       "\n",
       "\n"
      ],
      "text/plain": [
       "[[1]]\n",
       " [1] 89 83 80 86 82 78 88 80 75 85 81 79 90 82 89 89 84 82 89 83 81 90 84 82 90\n",
       "[26] 85 81 90 82 89\n"
      ]
     },
     "metadata": {},
     "output_type": "display_data"
    }
   ],
   "source": [
    "list(RententionData$Student_Percentage)"
   ]
  },
  {
   "cell_type": "code",
   "execution_count": 5,
   "id": "yellow-techno",
   "metadata": {},
   "outputs": [],
   "source": [
    "RententionData$Rural_or_not = as.factor(RententionData$Rural_or_not)\n",
    "RententionData$Rural_or_not = relevel(RententionData$Rural_or_not, ref = \"1\")"
   ]
  },
  {
   "cell_type": "code",
   "execution_count": 6,
   "id": "soviet-edmonton",
   "metadata": {},
   "outputs": [],
   "source": [
    "RententionData$Year = as.factor(RententionData$Year)\n",
    "RententionData$Fall_semester = as.factor(RententionData$Fall_semester)"
   ]
  },
  {
   "cell_type": "code",
   "execution_count": 7,
   "id": "appointed-contact",
   "metadata": {},
   "outputs": [
    {
     "data": {
      "text/html": [
       "<table class=\"dataframe\">\n",
       "<caption>A data.frame: 6 × 4</caption>\n",
       "<thead>\n",
       "\t<tr><th></th><th scope=col>Student_Percentage</th><th scope=col>Rural_or_not</th><th scope=col>Year</th><th scope=col>Fall_semester</th></tr>\n",
       "\t<tr><th></th><th scope=col>&lt;dbl&gt;</th><th scope=col>&lt;fct&gt;</th><th scope=col>&lt;fct&gt;</th><th scope=col>&lt;fct&gt;</th></tr>\n",
       "</thead>\n",
       "<tbody>\n",
       "\t<tr><th scope=row>1</th><td>89</td><td>1</td><td>2014</td><td>2nd</td></tr>\n",
       "\t<tr><th scope=row>2</th><td>83</td><td>1</td><td>2014</td><td>3rd</td></tr>\n",
       "\t<tr><th scope=row>3</th><td>80</td><td>1</td><td>2014</td><td>4th</td></tr>\n",
       "\t<tr><th scope=row>4</th><td>86</td><td>1</td><td>2015</td><td>2nd</td></tr>\n",
       "\t<tr><th scope=row>5</th><td>82</td><td>1</td><td>2015</td><td>3rd</td></tr>\n",
       "\t<tr><th scope=row>6</th><td>78</td><td>1</td><td>2015</td><td>4th</td></tr>\n",
       "</tbody>\n",
       "</table>\n"
      ],
      "text/latex": [
       "A data.frame: 6 × 4\n",
       "\\begin{tabular}{r|llll}\n",
       "  & Student\\_Percentage & Rural\\_or\\_not & Year & Fall\\_semester\\\\\n",
       "  & <dbl> & <fct> & <fct> & <fct>\\\\\n",
       "\\hline\n",
       "\t1 & 89 & 1 & 2014 & 2nd\\\\\n",
       "\t2 & 83 & 1 & 2014 & 3rd\\\\\n",
       "\t3 & 80 & 1 & 2014 & 4th\\\\\n",
       "\t4 & 86 & 1 & 2015 & 2nd\\\\\n",
       "\t5 & 82 & 1 & 2015 & 3rd\\\\\n",
       "\t6 & 78 & 1 & 2015 & 4th\\\\\n",
       "\\end{tabular}\n"
      ],
      "text/markdown": [
       "\n",
       "A data.frame: 6 × 4\n",
       "\n",
       "| <!--/--> | Student_Percentage &lt;dbl&gt; | Rural_or_not &lt;fct&gt; | Year &lt;fct&gt; | Fall_semester &lt;fct&gt; |\n",
       "|---|---|---|---|---|\n",
       "| 1 | 89 | 1 | 2014 | 2nd |\n",
       "| 2 | 83 | 1 | 2014 | 3rd |\n",
       "| 3 | 80 | 1 | 2014 | 4th |\n",
       "| 4 | 86 | 1 | 2015 | 2nd |\n",
       "| 5 | 82 | 1 | 2015 | 3rd |\n",
       "| 6 | 78 | 1 | 2015 | 4th |\n",
       "\n"
      ],
      "text/plain": [
       "  Student_Percentage Rural_or_not Year Fall_semester\n",
       "1 89                 1            2014 2nd          \n",
       "2 83                 1            2014 3rd          \n",
       "3 80                 1            2014 4th          \n",
       "4 86                 1            2015 2nd          \n",
       "5 82                 1            2015 3rd          \n",
       "6 78                 1            2015 4th          "
      ]
     },
     "metadata": {},
     "output_type": "display_data"
    }
   ],
   "source": [
    "head(RententionData)"
   ]
  },
  {
   "cell_type": "code",
   "execution_count": 8,
   "id": "silent-excuse",
   "metadata": {
    "scrolled": true
   },
   "outputs": [
    {
     "data": {
      "text/plain": [
       "\n",
       "Call:\n",
       "lm(formula = Student_Percentage ~ Rural_or_not + Year + Rural_or_not:Year + \n",
       "    Rural_or_not:Fall_semester + Fall_semester:Year, data = RententionData)\n",
       "\n",
       "Residuals:\n",
       "    Min      1Q  Median      3Q     Max \n",
       "-1.1667 -0.2917  0.0000  0.2917  1.1667 \n",
       "\n",
       "Coefficients: (3 not defined because of singularities)\n",
       "                                 Estimate Std. Error t value Pr(>|t|)    \n",
       "(Intercept)                     8.867e+01  1.009e+00  87.860 6.52e-12 ***\n",
       "Rural_or_not0                   6.667e-01  1.145e+00   0.582 0.578791    \n",
       "Year2015                       -2.167e+00  1.357e+00  -1.597 0.154355    \n",
       "Year2016                       -1.667e+00  1.357e+00  -1.228 0.259041    \n",
       "Year2017                       -2.833e+00  1.357e+00  -2.088 0.075187 .  \n",
       "Year2018                        1.333e+00  1.409e+00   0.946 0.375490    \n",
       "Year2019                        3.333e-01  1.549e+00   0.215 0.835753    \n",
       "Rural_or_not0:Year2015          1.333e+00  1.357e+00   0.983 0.358535    \n",
       "Rural_or_not0:Year2016          3.333e+00  1.357e+00   2.457 0.043688 *  \n",
       "Rural_or_not0:Year2017          2.667e+00  1.357e+00   1.965 0.090125 .  \n",
       "Rural_or_not0:Year2018         -6.667e-01  1.555e+00  -0.429 0.680924    \n",
       "Rural_or_not0:Year2019         -6.667e-01  2.018e+00  -0.330 0.750839    \n",
       "Rural_or_not1:Fall_semester3rd -5.500e+00  1.287e+00  -4.273 0.003689 ** \n",
       "Rural_or_not0:Fall_semester3rd -5.500e+00  1.287e+00  -4.273 0.003689 ** \n",
       "Rural_or_not1:Fall_semester4th -8.500e+00  1.307e+00  -6.502 0.000333 ***\n",
       "Rural_or_not0:Fall_semester4th -7.500e+00  1.307e+00  -5.737 0.000708 ***\n",
       "Year2015:Fall_semester3rd       5.000e-01  1.662e+00   0.301 0.772260    \n",
       "Year2016:Fall_semester3rd      -1.500e+00  1.662e+00  -0.903 0.396742    \n",
       "Year2017:Fall_semester3rd       1.000e+00  1.662e+00   0.602 0.566329    \n",
       "Year2018:Fall_semester3rd      -2.500e+00  1.662e+00  -1.504 0.176215    \n",
       "Year2019:Fall_semester3rd              NA         NA      NA       NA    \n",
       "Year2015:Fall_semester4th      -7.192e-14  1.662e+00   0.000 1.000000    \n",
       "Year2016:Fall_semester4th      -2.500e+00  1.662e+00  -1.504 0.176215    \n",
       "Year2017:Fall_semester4th       5.000e-01  1.662e+00   0.301 0.772260    \n",
       "Year2018:Fall_semester4th              NA         NA      NA       NA    \n",
       "Year2019:Fall_semester4th              NA         NA      NA       NA    \n",
       "---\n",
       "Signif. codes:  0 ‘***’ 0.001 ‘**’ 0.01 ‘*’ 0.05 ‘.’ 0.1 ‘ ’ 1\n",
       "\n",
       "Residual standard error: 1.175 on 7 degrees of freedom\n",
       "Multiple R-squared:  0.9811,\tAdjusted R-squared:  0.9218 \n",
       "F-statistic: 16.53 on 22 and 7 DF,  p-value: 0.000437\n"
      ]
     },
     "metadata": {},
     "output_type": "display_data"
    }
   ],
   "source": [
    "lmod_retention1 = lm(Student_Percentage ~ Rural_or_not + Year + Rural_or_not:Year + Rural_or_not:Fall_semester + Fall_semester:Year, data = RententionData)\n",
    "summary(lmod_retention1)"
   ]
  },
  {
   "cell_type": "code",
   "execution_count": 9,
   "id": "extra-enzyme",
   "metadata": {
    "scrolled": true
   },
   "outputs": [
    {
     "data": {
      "text/plain": [
       "\n",
       "Call:\n",
       "lm(formula = Student_Percentage ~ Rural_or_not + Fall_semester + \n",
       "    Year, data = RententionData)\n",
       "\n",
       "Residuals:\n",
       "    Min      1Q  Median      3Q     Max \n",
       "-3.2000 -0.4833  0.2000  0.7667  2.1333 \n",
       "\n",
       "Coefficients:\n",
       "                 Estimate Std. Error t value Pr(>|t|)    \n",
       "(Intercept)       88.2833     0.7342 120.240  < 2e-16 ***\n",
       "Rural_or_not0      2.2667     0.5152   4.400  0.00025 ***\n",
       "Fall_semester3rd  -6.0000     0.6309  -9.510 4.64e-09 ***\n",
       "Fall_semester4th  -8.7500     0.6876 -12.726 2.45e-11 ***\n",
       "Year2015          -1.3333     0.8146  -1.637  0.11655    \n",
       "Year2016          -1.3333     0.8146  -1.637  0.11655    \n",
       "Year2017          -1.0000     0.8146  -1.228  0.23315    \n",
       "Year2018          -0.4167     0.9332  -0.446  0.65981    \n",
       "Year2019          -0.4167     1.2116  -0.344  0.73434    \n",
       "---\n",
       "Signif. codes:  0 ‘***’ 0.001 ‘**’ 0.01 ‘*’ 0.05 ‘.’ 0.1 ‘ ’ 1\n",
       "\n",
       "Residual standard error: 1.411 on 21 degrees of freedom\n",
       "Multiple R-squared:  0.9183,\tAdjusted R-squared:  0.8872 \n",
       "F-statistic: 29.52 on 8 and 21 DF,  p-value: 9.663e-10\n"
      ]
     },
     "metadata": {},
     "output_type": "display_data"
    }
   ],
   "source": [
    "lmod_retention2 = lm(Student_Percentage ~ Rural_or_not + Fall_semester + Year, data = RententionData)\n",
    "summary(lmod_retention2)"
   ]
  },
  {
   "cell_type": "code",
   "execution_count": 17,
   "id": "psychological-raise",
   "metadata": {
    "scrolled": true
   },
   "outputs": [
    {
     "data": {
      "text/plain": [
       "\n",
       "Call:\n",
       "lm(formula = Student_Percentage ~ Rural_or_not + Fall_semester + \n",
       "    Rural_or_not:Year + Year, data = RententionData)\n",
       "\n",
       "Residuals:\n",
       "   Min     1Q Median     3Q    Max \n",
       "-2.167 -0.250  0.000  0.500  2.083 \n",
       "\n",
       "Coefficients:\n",
       "                       Estimate Std. Error t value Pr(>|t|)    \n",
       "(Intercept)            88.91667    0.75110 118.382  < 2e-16 ***\n",
       "Rural_or_not0           1.00000    0.96465   1.037  0.31532    \n",
       "Fall_semester3rd       -6.00000    0.52836 -11.356 4.56e-09 ***\n",
       "Fall_semester4th       -8.75000    0.57577 -15.197 6.28e-11 ***\n",
       "Year2015               -2.00000    0.96465  -2.073  0.05465 .  \n",
       "Year2016               -3.00000    0.96465  -3.110  0.00674 ** \n",
       "Year2017               -2.33333    0.96465  -2.419  0.02785 *  \n",
       "Year2018                0.08333    1.09191   0.076  0.94011    \n",
       "Year2019                0.08333    1.39999   0.060  0.95327    \n",
       "Rural_or_not0:Year2015  1.33333    1.36423   0.977  0.34294    \n",
       "Rural_or_not0:Year2016  3.33333    1.36423   2.443  0.02652 *  \n",
       "Rural_or_not0:Year2017  2.66667    1.36423   1.955  0.06832 .  \n",
       "Rural_or_not0:Year2018 -1.00000    1.52525  -0.656  0.52138    \n",
       "Rural_or_not0:Year2019 -1.00000    1.92931  -0.518  0.61133    \n",
       "---\n",
       "Signif. codes:  0 ‘***’ 0.001 ‘**’ 0.01 ‘*’ 0.05 ‘.’ 0.1 ‘ ’ 1\n",
       "\n",
       "Residual standard error: 1.181 on 16 degrees of freedom\n",
       "Multiple R-squared:  0.9564,\tAdjusted R-squared:  0.9209 \n",
       "F-statistic: 26.98 on 13 and 16 DF,  p-value: 2.102e-08\n"
      ]
     },
     "metadata": {},
     "output_type": "display_data"
    }
   ],
   "source": [
    "lmod_retentionT1 = lm(Student_Percentage ~ Rural_or_not  + Fall_semester + Rural_or_not:Year + Year, data = RententionData)\n",
    "summary(lmod_retentionT1)"
   ]
  },
  {
   "cell_type": "code",
   "execution_count": 20,
   "id": "heavy-military",
   "metadata": {
    "scrolled": true
   },
   "outputs": [
    {
     "data": {
      "text/plain": [
       "\n",
       "Call:\n",
       "lm(formula = Student_Percentage ~ Rural_or_not + Fall_semester + \n",
       "    Year, data = RententionData)\n",
       "\n",
       "Residuals:\n",
       "    Min      1Q  Median      3Q     Max \n",
       "-3.2000 -0.4833  0.2000  0.7667  2.1333 \n",
       "\n",
       "Coefficients:\n",
       "                 Estimate Std. Error t value Pr(>|t|)    \n",
       "(Intercept)       88.2833     0.7342 120.240  < 2e-16 ***\n",
       "Rural_or_not0      2.2667     0.5152   4.400  0.00025 ***\n",
       "Fall_semester3rd  -6.0000     0.6309  -9.510 4.64e-09 ***\n",
       "Fall_semester4th  -8.7500     0.6876 -12.726 2.45e-11 ***\n",
       "Year2015          -1.3333     0.8146  -1.637  0.11655    \n",
       "Year2016          -1.3333     0.8146  -1.637  0.11655    \n",
       "Year2017          -1.0000     0.8146  -1.228  0.23315    \n",
       "Year2018          -0.4167     0.9332  -0.446  0.65981    \n",
       "Year2019          -0.4167     1.2116  -0.344  0.73434    \n",
       "---\n",
       "Signif. codes:  0 ‘***’ 0.001 ‘**’ 0.01 ‘*’ 0.05 ‘.’ 0.1 ‘ ’ 1\n",
       "\n",
       "Residual standard error: 1.411 on 21 degrees of freedom\n",
       "Multiple R-squared:  0.9183,\tAdjusted R-squared:  0.8872 \n",
       "F-statistic: 29.52 on 8 and 21 DF,  p-value: 9.663e-10\n"
      ]
     },
     "metadata": {},
     "output_type": "display_data"
    },
    {
     "data": {
      "text/html": [
       "<table class=\"dataframe\">\n",
       "<caption>A anova: 2 × 6</caption>\n",
       "<thead>\n",
       "\t<tr><th></th><th scope=col>Res.Df</th><th scope=col>RSS</th><th scope=col>Df</th><th scope=col>Sum of Sq</th><th scope=col>F</th><th scope=col>Pr(&gt;F)</th></tr>\n",
       "\t<tr><th></th><th scope=col>&lt;dbl&gt;</th><th scope=col>&lt;dbl&gt;</th><th scope=col>&lt;dbl&gt;</th><th scope=col>&lt;dbl&gt;</th><th scope=col>&lt;dbl&gt;</th><th scope=col>&lt;dbl&gt;</th></tr>\n",
       "</thead>\n",
       "<tbody>\n",
       "\t<tr><th scope=row>1</th><td>21</td><td>41.80000</td><td>NA</td><td>      NA</td><td>      NA</td><td>        NA</td></tr>\n",
       "\t<tr><th scope=row>2</th><td>16</td><td>22.33333</td><td> 5</td><td>19.46667</td><td>2.789254</td><td>0.05362382</td></tr>\n",
       "</tbody>\n",
       "</table>\n"
      ],
      "text/latex": [
       "A anova: 2 × 6\n",
       "\\begin{tabular}{r|llllll}\n",
       "  & Res.Df & RSS & Df & Sum of Sq & F & Pr(>F)\\\\\n",
       "  & <dbl> & <dbl> & <dbl> & <dbl> & <dbl> & <dbl>\\\\\n",
       "\\hline\n",
       "\t1 & 21 & 41.80000 & NA &       NA &       NA &         NA\\\\\n",
       "\t2 & 16 & 22.33333 &  5 & 19.46667 & 2.789254 & 0.05362382\\\\\n",
       "\\end{tabular}\n"
      ],
      "text/markdown": [
       "\n",
       "A anova: 2 × 6\n",
       "\n",
       "| <!--/--> | Res.Df &lt;dbl&gt; | RSS &lt;dbl&gt; | Df &lt;dbl&gt; | Sum of Sq &lt;dbl&gt; | F &lt;dbl&gt; | Pr(&gt;F) &lt;dbl&gt; |\n",
       "|---|---|---|---|---|---|---|\n",
       "| 1 | 21 | 41.80000 | NA |       NA |       NA |         NA |\n",
       "| 2 | 16 | 22.33333 |  5 | 19.46667 | 2.789254 | 0.05362382 |\n",
       "\n"
      ],
      "text/plain": [
       "  Res.Df RSS      Df Sum of Sq F        Pr(>F)    \n",
       "1 21     41.80000 NA       NA        NA         NA\n",
       "2 16     22.33333  5 19.46667  2.789254 0.05362382"
      ]
     },
     "metadata": {},
     "output_type": "display_data"
    }
   ],
   "source": [
    "lmod_retentionT2 = lm(Student_Percentage ~ Rural_or_not  + Fall_semester + Year, data = RententionData)\n",
    "summary(lmod_retentionT2)\n",
    "\n",
    "anova(lmod_retentionT2, lmod_retentionT1)\n",
    "# We cannot reject that the model without the Rural_or_not:Year interaction term is sufficient. Hence impact of\n",
    "# your rural status does not change with the year."
   ]
  },
  {
   "cell_type": "code",
   "execution_count": 25,
   "id": "ready-sussex",
   "metadata": {
    "scrolled": true
   },
   "outputs": [
    {
     "data": {
      "text/html": [
       "<table class=\"dataframe\">\n",
       "<caption>A anova: 2 × 6</caption>\n",
       "<thead>\n",
       "\t<tr><th></th><th scope=col>Res.Df</th><th scope=col>RSS</th><th scope=col>Df</th><th scope=col>Sum of Sq</th><th scope=col>F</th><th scope=col>Pr(&gt;F)</th></tr>\n",
       "\t<tr><th></th><th scope=col>&lt;dbl&gt;</th><th scope=col>&lt;dbl&gt;</th><th scope=col>&lt;dbl&gt;</th><th scope=col>&lt;dbl&gt;</th><th scope=col>&lt;dbl&gt;</th><th scope=col>&lt;dbl&gt;</th></tr>\n",
       "</thead>\n",
       "<tbody>\n",
       "\t<tr><th scope=row>1</th><td>21</td><td>41.8</td><td>NA</td><td> NA</td><td>      NA</td><td>       NA</td></tr>\n",
       "\t<tr><th scope=row>2</th><td>19</td><td>37.5</td><td> 2</td><td>4.3</td><td>1.089333</td><td>0.3565516</td></tr>\n",
       "</tbody>\n",
       "</table>\n"
      ],
      "text/latex": [
       "A anova: 2 × 6\n",
       "\\begin{tabular}{r|llllll}\n",
       "  & Res.Df & RSS & Df & Sum of Sq & F & Pr(>F)\\\\\n",
       "  & <dbl> & <dbl> & <dbl> & <dbl> & <dbl> & <dbl>\\\\\n",
       "\\hline\n",
       "\t1 & 21 & 41.8 & NA &  NA &       NA &        NA\\\\\n",
       "\t2 & 19 & 37.5 &  2 & 4.3 & 1.089333 & 0.3565516\\\\\n",
       "\\end{tabular}\n"
      ],
      "text/markdown": [
       "\n",
       "A anova: 2 × 6\n",
       "\n",
       "| <!--/--> | Res.Df &lt;dbl&gt; | RSS &lt;dbl&gt; | Df &lt;dbl&gt; | Sum of Sq &lt;dbl&gt; | F &lt;dbl&gt; | Pr(&gt;F) &lt;dbl&gt; |\n",
       "|---|---|---|---|---|---|---|\n",
       "| 1 | 21 | 41.8 | NA |  NA |       NA |        NA |\n",
       "| 2 | 19 | 37.5 |  2 | 4.3 | 1.089333 | 0.3565516 |\n",
       "\n"
      ],
      "text/plain": [
       "  Res.Df RSS  Df Sum of Sq F        Pr(>F)   \n",
       "1 21     41.8 NA  NA             NA        NA\n",
       "2 19     37.5  2 4.3       1.089333 0.3565516"
      ]
     },
     "metadata": {},
     "output_type": "display_data"
    }
   ],
   "source": [
    "lmod_retentionT1 = lm(Student_Percentage ~ Rural_or_not  + Fall_semester + Rural_or_not:Fall_semester + Year, data = RententionData)\n",
    "\n",
    "lmod_retentionT2 = lm(Student_Percentage ~ Rural_or_not  + Fall_semester + Year, data = RententionData)\n",
    "\n",
    "anova(lmod_retentionT2, lmod_retentionT1)\n",
    "\n",
    "# The fact that we cannot reject that the reduced model without the interaction term is sufficient tells us that\n",
    "# there is no significant interaction between semesters and rural and not, in terms of retention."
   ]
  },
  {
   "cell_type": "code",
   "execution_count": null,
   "id": "gross-partner",
   "metadata": {},
   "outputs": [],
   "source": []
  },
  {
   "cell_type": "code",
   "execution_count": null,
   "id": "specialized-austin",
   "metadata": {},
   "outputs": [],
   "source": []
  },
  {
   "cell_type": "code",
   "execution_count": 9,
   "id": "increasing-highway",
   "metadata": {
    "scrolled": true
   },
   "outputs": [
    {
     "data": {
      "text/plain": [
       "\n",
       "Call:\n",
       "lm(formula = Student_Percentage ~ Rural_or_not + Fall_semester, \n",
       "    data = RententionData)\n",
       "\n",
       "Residuals:\n",
       "    Min      1Q  Median      3Q     Max \n",
       "-3.6167 -0.7833  0.2000  0.9708  2.4667 \n",
       "\n",
       "Coefficients:\n",
       "                 Estimate Std. Error t value Pr(>|t|)    \n",
       "(Intercept)       87.5333     0.4738 184.738  < 2e-16 ***\n",
       "Rural_or_not0      2.2667     0.5065   4.475 0.000134 ***\n",
       "Fall_semester3rd  -6.0667     0.5940 -10.214 1.36e-10 ***\n",
       "Fall_semester4th  -8.9167     0.6332 -14.083 1.12e-13 ***\n",
       "---\n",
       "Signif. codes:  0 ‘***’ 0.001 ‘**’ 0.01 ‘*’ 0.05 ‘.’ 0.1 ‘ ’ 1\n",
       "\n",
       "Residual standard error: 1.387 on 26 degrees of freedom\n",
       "Multiple R-squared:  0.9023,\tAdjusted R-squared:  0.891 \n",
       "F-statistic:    80 on 3 and 26 DF,  p-value: 2.967e-13\n"
      ]
     },
     "metadata": {},
     "output_type": "display_data"
    },
    {
     "data": {
      "text/html": [
       "<table class=\"dataframe\">\n",
       "<caption>A anova: 3 × 5</caption>\n",
       "<thead>\n",
       "\t<tr><th></th><th scope=col>Df</th><th scope=col>Sum Sq</th><th scope=col>Mean Sq</th><th scope=col>F value</th><th scope=col>Pr(&gt;F)</th></tr>\n",
       "\t<tr><th></th><th scope=col>&lt;int&gt;</th><th scope=col>&lt;dbl&gt;</th><th scope=col>&lt;dbl&gt;</th><th scope=col>&lt;dbl&gt;</th><th scope=col>&lt;dbl&gt;</th></tr>\n",
       "</thead>\n",
       "<tbody>\n",
       "\t<tr><th scope=row>Rural_or_not</th><td> 1</td><td> 38.53333</td><td> 38.533333</td><td> 20.02398</td><td>1.344392e-04</td></tr>\n",
       "\t<tr><th scope=row>Fall_semester</th><td> 2</td><td>423.30000</td><td>211.650000</td><td>109.98468</td><td>2.056840e-13</td></tr>\n",
       "\t<tr><th scope=row>Residuals</th><td>26</td><td> 50.03333</td><td>  1.924359</td><td>       NA</td><td>          NA</td></tr>\n",
       "</tbody>\n",
       "</table>\n"
      ],
      "text/latex": [
       "A anova: 3 × 5\n",
       "\\begin{tabular}{r|lllll}\n",
       "  & Df & Sum Sq & Mean Sq & F value & Pr(>F)\\\\\n",
       "  & <int> & <dbl> & <dbl> & <dbl> & <dbl>\\\\\n",
       "\\hline\n",
       "\tRural\\_or\\_not &  1 &  38.53333 &  38.533333 &  20.02398 & 1.344392e-04\\\\\n",
       "\tFall\\_semester &  2 & 423.30000 & 211.650000 & 109.98468 & 2.056840e-13\\\\\n",
       "\tResiduals & 26 &  50.03333 &   1.924359 &        NA &           NA\\\\\n",
       "\\end{tabular}\n"
      ],
      "text/markdown": [
       "\n",
       "A anova: 3 × 5\n",
       "\n",
       "| <!--/--> | Df &lt;int&gt; | Sum Sq &lt;dbl&gt; | Mean Sq &lt;dbl&gt; | F value &lt;dbl&gt; | Pr(&gt;F) &lt;dbl&gt; |\n",
       "|---|---|---|---|---|---|\n",
       "| Rural_or_not |  1 |  38.53333 |  38.533333 |  20.02398 | 1.344392e-04 |\n",
       "| Fall_semester |  2 | 423.30000 | 211.650000 | 109.98468 | 2.056840e-13 |\n",
       "| Residuals | 26 |  50.03333 |   1.924359 |        NA |           NA |\n",
       "\n"
      ],
      "text/plain": [
       "              Df Sum Sq    Mean Sq    F value   Pr(>F)      \n",
       "Rural_or_not   1  38.53333  38.533333  20.02398 1.344392e-04\n",
       "Fall_semester  2 423.30000 211.650000 109.98468 2.056840e-13\n",
       "Residuals     26  50.03333   1.924359        NA           NA"
      ]
     },
     "metadata": {},
     "output_type": "display_data"
    },
    {
     "data": {
      "text/plain": [
       "\n",
       "Call:\n",
       "lm(formula = Student_Percentage ~ Rural_or_not, data = RententionData)\n",
       "\n",
       "Residuals:\n",
       "   Min     1Q Median     3Q    Max \n",
       "-8.133 -3.333 -1.133  3.600  6.867 \n",
       "\n",
       "Coefficients:\n",
       "              Estimate Std. Error t value Pr(>|t|)    \n",
       "(Intercept)     83.133      1.062   78.31   <2e-16 ***\n",
       "Rural_or_not0    2.267      1.501    1.51    0.142    \n",
       "---\n",
       "Signif. codes:  0 ‘***’ 0.001 ‘**’ 0.01 ‘*’ 0.05 ‘.’ 0.1 ‘ ’ 1\n",
       "\n",
       "Residual standard error: 4.112 on 28 degrees of freedom\n",
       "Multiple R-squared:  0.07528,\tAdjusted R-squared:  0.04225 \n",
       "F-statistic: 2.279 on 1 and 28 DF,  p-value: 0.1423\n"
      ]
     },
     "metadata": {},
     "output_type": "display_data"
    },
    {
     "data": {
      "text/html": [
       "<table class=\"dataframe\">\n",
       "<caption>A anova: 2 × 5</caption>\n",
       "<thead>\n",
       "\t<tr><th></th><th scope=col>Df</th><th scope=col>Sum Sq</th><th scope=col>Mean Sq</th><th scope=col>F value</th><th scope=col>Pr(&gt;F)</th></tr>\n",
       "\t<tr><th></th><th scope=col>&lt;int&gt;</th><th scope=col>&lt;dbl&gt;</th><th scope=col>&lt;dbl&gt;</th><th scope=col>&lt;dbl&gt;</th><th scope=col>&lt;dbl&gt;</th></tr>\n",
       "</thead>\n",
       "<tbody>\n",
       "\t<tr><th scope=row>Rural_or_not</th><td> 1</td><td> 38.53333</td><td>38.53333</td><td>2.279437</td><td>0.1423028</td></tr>\n",
       "\t<tr><th scope=row>Residuals</th><td>28</td><td>473.33333</td><td>16.90476</td><td>      NA</td><td>       NA</td></tr>\n",
       "</tbody>\n",
       "</table>\n"
      ],
      "text/latex": [
       "A anova: 2 × 5\n",
       "\\begin{tabular}{r|lllll}\n",
       "  & Df & Sum Sq & Mean Sq & F value & Pr(>F)\\\\\n",
       "  & <int> & <dbl> & <dbl> & <dbl> & <dbl>\\\\\n",
       "\\hline\n",
       "\tRural\\_or\\_not &  1 &  38.53333 & 38.53333 & 2.279437 & 0.1423028\\\\\n",
       "\tResiduals & 28 & 473.33333 & 16.90476 &       NA &        NA\\\\\n",
       "\\end{tabular}\n"
      ],
      "text/markdown": [
       "\n",
       "A anova: 2 × 5\n",
       "\n",
       "| <!--/--> | Df &lt;int&gt; | Sum Sq &lt;dbl&gt; | Mean Sq &lt;dbl&gt; | F value &lt;dbl&gt; | Pr(&gt;F) &lt;dbl&gt; |\n",
       "|---|---|---|---|---|---|\n",
       "| Rural_or_not |  1 |  38.53333 | 38.53333 | 2.279437 | 0.1423028 |\n",
       "| Residuals | 28 | 473.33333 | 16.90476 |       NA |        NA |\n",
       "\n"
      ],
      "text/plain": [
       "             Df Sum Sq    Mean Sq  F value  Pr(>F)   \n",
       "Rural_or_not  1  38.53333 38.53333 2.279437 0.1423028\n",
       "Residuals    28 473.33333 16.90476       NA        NA"
      ]
     },
     "metadata": {},
     "output_type": "display_data"
    }
   ],
   "source": [
    "lmod_retention3 = lm(Student_Percentage ~ Rural_or_not + Fall_semester, data = RententionData)\n",
    "summary(lmod_retention3)\n",
    "anova(lmod_retention3)\n",
    "lmod_retention3new = lm(Student_Percentage ~ Rural_or_not, data = RententionData)\n",
    "summary(lmod_retention3new)\n",
    "anova(lmod_retention3new)\n",
    "# Then you can compute the relative efficiency: how much more efficient have you made your model by including the blocking factor."
   ]
  },
  {
   "cell_type": "code",
   "execution_count": 10,
   "id": "humanitarian-bachelor",
   "metadata": {
    "scrolled": false
   },
   "outputs": [
    {
     "data": {
      "text/plain": [
       "\n",
       "Call:\n",
       "lm(formula = Student_Percentage ~ Rural_or_not, data = RententionData)\n",
       "\n",
       "Residuals:\n",
       "   Min     1Q Median     3Q    Max \n",
       "-8.133 -3.333 -1.133  3.600  6.867 \n",
       "\n",
       "Coefficients:\n",
       "              Estimate Std. Error t value Pr(>|t|)    \n",
       "(Intercept)     83.133      1.062   78.31   <2e-16 ***\n",
       "Rural_or_not0    2.267      1.501    1.51    0.142    \n",
       "---\n",
       "Signif. codes:  0 ‘***’ 0.001 ‘**’ 0.01 ‘*’ 0.05 ‘.’ 0.1 ‘ ’ 1\n",
       "\n",
       "Residual standard error: 4.112 on 28 degrees of freedom\n",
       "Multiple R-squared:  0.07528,\tAdjusted R-squared:  0.04225 \n",
       "F-statistic: 2.279 on 1 and 28 DF,  p-value: 0.1423\n"
      ]
     },
     "metadata": {},
     "output_type": "display_data"
    }
   ],
   "source": [
    "lmod_retention4 = lm(Student_Percentage ~ Rural_or_not, data = RententionData)\n",
    "summary(lmod_retention4)"
   ]
  },
  {
   "cell_type": "code",
   "execution_count": 11,
   "id": "jewish-calendar",
   "metadata": {},
   "outputs": [
    {
     "data": {
      "text/plain": [
       "\n",
       "Call:\n",
       "lm(formula = Student_Percentage ~ Rural_or_not + Fall_semester + \n",
       "    Rural_or_not:Fall_semester, data = RententionData)\n",
       "\n",
       "Residuals:\n",
       "   Min     1Q Median     3Q    Max \n",
       "-3.000 -0.500  0.400  0.500  2.167 \n",
       "\n",
       "Coefficients:\n",
       "                               Estimate Std. Error t value Pr(>|t|)    \n",
       "(Intercept)                     87.8333     0.5636 155.856  < 2e-16 ***\n",
       "Rural_or_not0                    1.6667     0.7970   2.091   0.0473 *  \n",
       "Fall_semester3rd                -6.2333     0.8359  -7.457 1.07e-07 ***\n",
       "Fall_semester4th                -9.8333     0.8911 -11.036 6.94e-11 ***\n",
       "Rural_or_not0:Fall_semester3rd   0.3333     1.1821   0.282   0.7804    \n",
       "Rural_or_not0:Fall_semester4th   1.8333     1.2601   1.455   0.1587    \n",
       "---\n",
       "Signif. codes:  0 ‘***’ 0.001 ‘**’ 0.01 ‘*’ 0.05 ‘.’ 0.1 ‘ ’ 1\n",
       "\n",
       "Residual standard error: 1.38 on 24 degrees of freedom\n",
       "Multiple R-squared:  0.9107,\tAdjusted R-squared:  0.892 \n",
       "F-statistic: 48.92 on 5 and 24 DF,  p-value: 8.248e-12\n"
      ]
     },
     "metadata": {},
     "output_type": "display_data"
    }
   ],
   "source": [
    "lmod_retention5 = lm(Student_Percentage ~ Rural_or_not + Fall_semester + Rural_or_not:Fall_semester, data = RententionData)\n",
    "summary(lmod_retention5)"
   ]
  },
  {
   "cell_type": "code",
   "execution_count": 12,
   "id": "universal-briefing",
   "metadata": {},
   "outputs": [
    {
     "data": {
      "text/html": [
       "<table class=\"dataframe\">\n",
       "<caption>A anova: 2 × 6</caption>\n",
       "<thead>\n",
       "\t<tr><th></th><th scope=col>Res.Df</th><th scope=col>RSS</th><th scope=col>Df</th><th scope=col>Sum of Sq</th><th scope=col>F</th><th scope=col>Pr(&gt;F)</th></tr>\n",
       "\t<tr><th></th><th scope=col>&lt;dbl&gt;</th><th scope=col>&lt;dbl&gt;</th><th scope=col>&lt;dbl&gt;</th><th scope=col>&lt;dbl&gt;</th><th scope=col>&lt;dbl&gt;</th><th scope=col>&lt;dbl&gt;</th></tr>\n",
       "</thead>\n",
       "<tbody>\n",
       "\t<tr><th scope=row>1</th><td> 7</td><td> 9.666667</td><td> NA</td><td>       NA</td><td>      NA</td><td>       NA</td></tr>\n",
       "\t<tr><th scope=row>2</th><td>21</td><td>41.800000</td><td>-14</td><td>-32.13333</td><td>1.662069</td><td>0.2547638</td></tr>\n",
       "</tbody>\n",
       "</table>\n"
      ],
      "text/latex": [
       "A anova: 2 × 6\n",
       "\\begin{tabular}{r|llllll}\n",
       "  & Res.Df & RSS & Df & Sum of Sq & F & Pr(>F)\\\\\n",
       "  & <dbl> & <dbl> & <dbl> & <dbl> & <dbl> & <dbl>\\\\\n",
       "\\hline\n",
       "\t1 &  7 &  9.666667 &  NA &        NA &       NA &        NA\\\\\n",
       "\t2 & 21 & 41.800000 & -14 & -32.13333 & 1.662069 & 0.2547638\\\\\n",
       "\\end{tabular}\n"
      ],
      "text/markdown": [
       "\n",
       "A anova: 2 × 6\n",
       "\n",
       "| <!--/--> | Res.Df &lt;dbl&gt; | RSS &lt;dbl&gt; | Df &lt;dbl&gt; | Sum of Sq &lt;dbl&gt; | F &lt;dbl&gt; | Pr(&gt;F) &lt;dbl&gt; |\n",
       "|---|---|---|---|---|---|---|\n",
       "| 1 |  7 |  9.666667 |  NA |        NA |       NA |        NA |\n",
       "| 2 | 21 | 41.800000 | -14 | -32.13333 | 1.662069 | 0.2547638 |\n",
       "\n"
      ],
      "text/plain": [
       "  Res.Df RSS       Df  Sum of Sq F        Pr(>F)   \n",
       "1  7      9.666667  NA        NA       NA        NA\n",
       "2 21     41.800000 -14 -32.13333 1.662069 0.2547638"
      ]
     },
     "metadata": {},
     "output_type": "display_data"
    }
   ],
   "source": [
    "anova(lmod_retention1, lmod_retention2)"
   ]
  },
  {
   "cell_type": "code",
   "execution_count": 13,
   "id": "completed-safety",
   "metadata": {},
   "outputs": [
    {
     "data": {
      "text/html": [
       "<table class=\"dataframe\">\n",
       "<caption>A anova: 2 × 6</caption>\n",
       "<thead>\n",
       "\t<tr><th></th><th scope=col>Res.Df</th><th scope=col>RSS</th><th scope=col>Df</th><th scope=col>Sum of Sq</th><th scope=col>F</th><th scope=col>Pr(&gt;F)</th></tr>\n",
       "\t<tr><th></th><th scope=col>&lt;dbl&gt;</th><th scope=col>&lt;dbl&gt;</th><th scope=col>&lt;dbl&gt;</th><th scope=col>&lt;dbl&gt;</th><th scope=col>&lt;dbl&gt;</th><th scope=col>&lt;dbl&gt;</th></tr>\n",
       "</thead>\n",
       "<tbody>\n",
       "\t<tr><th scope=row>1</th><td>21</td><td>41.80000</td><td>NA</td><td>       NA</td><td>       NA</td><td>       NA</td></tr>\n",
       "\t<tr><th scope=row>2</th><td>26</td><td>50.03333</td><td>-5</td><td>-8.233333</td><td>0.8272727</td><td>0.5444872</td></tr>\n",
       "</tbody>\n",
       "</table>\n"
      ],
      "text/latex": [
       "A anova: 2 × 6\n",
       "\\begin{tabular}{r|llllll}\n",
       "  & Res.Df & RSS & Df & Sum of Sq & F & Pr(>F)\\\\\n",
       "  & <dbl> & <dbl> & <dbl> & <dbl> & <dbl> & <dbl>\\\\\n",
       "\\hline\n",
       "\t1 & 21 & 41.80000 & NA &        NA &        NA &        NA\\\\\n",
       "\t2 & 26 & 50.03333 & -5 & -8.233333 & 0.8272727 & 0.5444872\\\\\n",
       "\\end{tabular}\n"
      ],
      "text/markdown": [
       "\n",
       "A anova: 2 × 6\n",
       "\n",
       "| <!--/--> | Res.Df &lt;dbl&gt; | RSS &lt;dbl&gt; | Df &lt;dbl&gt; | Sum of Sq &lt;dbl&gt; | F &lt;dbl&gt; | Pr(&gt;F) &lt;dbl&gt; |\n",
       "|---|---|---|---|---|---|---|\n",
       "| 1 | 21 | 41.80000 | NA |        NA |        NA |        NA |\n",
       "| 2 | 26 | 50.03333 | -5 | -8.233333 | 0.8272727 | 0.5444872 |\n",
       "\n"
      ],
      "text/plain": [
       "  Res.Df RSS      Df Sum of Sq F         Pr(>F)   \n",
       "1 21     41.80000 NA        NA        NA        NA\n",
       "2 26     50.03333 -5 -8.233333 0.8272727 0.5444872"
      ]
     },
     "metadata": {},
     "output_type": "display_data"
    }
   ],
   "source": [
    "anova(lmod_retention2, lmod_retention3)"
   ]
  },
  {
   "cell_type": "code",
   "execution_count": 14,
   "id": "angry-luxembourg",
   "metadata": {},
   "outputs": [
    {
     "data": {
      "text/html": [
       "<table class=\"dataframe\">\n",
       "<caption>A anova: 2 × 6</caption>\n",
       "<thead>\n",
       "\t<tr><th></th><th scope=col>Res.Df</th><th scope=col>RSS</th><th scope=col>Df</th><th scope=col>Sum of Sq</th><th scope=col>F</th><th scope=col>Pr(&gt;F)</th></tr>\n",
       "\t<tr><th></th><th scope=col>&lt;dbl&gt;</th><th scope=col>&lt;dbl&gt;</th><th scope=col>&lt;dbl&gt;</th><th scope=col>&lt;dbl&gt;</th><th scope=col>&lt;dbl&gt;</th><th scope=col>&lt;dbl&gt;</th></tr>\n",
       "</thead>\n",
       "<tbody>\n",
       "\t<tr><th scope=row>1</th><td>21</td><td> 41.8000</td><td>NA</td><td>       NA</td><td>      NA</td><td>          NA</td></tr>\n",
       "\t<tr><th scope=row>2</th><td>28</td><td>473.3333</td><td>-7</td><td>-431.5333</td><td>30.97129</td><td>1.094076e-09</td></tr>\n",
       "</tbody>\n",
       "</table>\n"
      ],
      "text/latex": [
       "A anova: 2 × 6\n",
       "\\begin{tabular}{r|llllll}\n",
       "  & Res.Df & RSS & Df & Sum of Sq & F & Pr(>F)\\\\\n",
       "  & <dbl> & <dbl> & <dbl> & <dbl> & <dbl> & <dbl>\\\\\n",
       "\\hline\n",
       "\t1 & 21 &  41.8000 & NA &        NA &       NA &           NA\\\\\n",
       "\t2 & 28 & 473.3333 & -7 & -431.5333 & 30.97129 & 1.094076e-09\\\\\n",
       "\\end{tabular}\n"
      ],
      "text/markdown": [
       "\n",
       "A anova: 2 × 6\n",
       "\n",
       "| <!--/--> | Res.Df &lt;dbl&gt; | RSS &lt;dbl&gt; | Df &lt;dbl&gt; | Sum of Sq &lt;dbl&gt; | F &lt;dbl&gt; | Pr(&gt;F) &lt;dbl&gt; |\n",
       "|---|---|---|---|---|---|---|\n",
       "| 1 | 21 |  41.8000 | NA |        NA |       NA |           NA |\n",
       "| 2 | 28 | 473.3333 | -7 | -431.5333 | 30.97129 | 1.094076e-09 |\n",
       "\n"
      ],
      "text/plain": [
       "  Res.Df RSS      Df Sum of Sq F        Pr(>F)      \n",
       "1 21      41.8000 NA        NA       NA           NA\n",
       "2 28     473.3333 -7 -431.5333 30.97129 1.094076e-09"
      ]
     },
     "metadata": {},
     "output_type": "display_data"
    }
   ],
   "source": [
    "anova(lmod_retention2, lmod_retention4)"
   ]
  },
  {
   "cell_type": "code",
   "execution_count": 15,
   "id": "described-sandwich",
   "metadata": {},
   "outputs": [
    {
     "data": {
      "text/html": [
       "<table class=\"dataframe\">\n",
       "<caption>A anova: 2 × 6</caption>\n",
       "<thead>\n",
       "\t<tr><th></th><th scope=col>Res.Df</th><th scope=col>RSS</th><th scope=col>Df</th><th scope=col>Sum of Sq</th><th scope=col>F</th><th scope=col>Pr(&gt;F)</th></tr>\n",
       "\t<tr><th></th><th scope=col>&lt;dbl&gt;</th><th scope=col>&lt;dbl&gt;</th><th scope=col>&lt;dbl&gt;</th><th scope=col>&lt;dbl&gt;</th><th scope=col>&lt;dbl&gt;</th><th scope=col>&lt;dbl&gt;</th></tr>\n",
       "</thead>\n",
       "<tbody>\n",
       "\t<tr><th scope=row>1</th><td>24</td><td>45.73333</td><td>NA</td><td>  NA</td><td>     NA</td><td>       NA</td></tr>\n",
       "\t<tr><th scope=row>2</th><td>26</td><td>50.03333</td><td>-2</td><td>-4.3</td><td>1.12828</td><td>0.3401583</td></tr>\n",
       "</tbody>\n",
       "</table>\n"
      ],
      "text/latex": [
       "A anova: 2 × 6\n",
       "\\begin{tabular}{r|llllll}\n",
       "  & Res.Df & RSS & Df & Sum of Sq & F & Pr(>F)\\\\\n",
       "  & <dbl> & <dbl> & <dbl> & <dbl> & <dbl> & <dbl>\\\\\n",
       "\\hline\n",
       "\t1 & 24 & 45.73333 & NA &   NA &      NA &        NA\\\\\n",
       "\t2 & 26 & 50.03333 & -2 & -4.3 & 1.12828 & 0.3401583\\\\\n",
       "\\end{tabular}\n"
      ],
      "text/markdown": [
       "\n",
       "A anova: 2 × 6\n",
       "\n",
       "| <!--/--> | Res.Df &lt;dbl&gt; | RSS &lt;dbl&gt; | Df &lt;dbl&gt; | Sum of Sq &lt;dbl&gt; | F &lt;dbl&gt; | Pr(&gt;F) &lt;dbl&gt; |\n",
       "|---|---|---|---|---|---|---|\n",
       "| 1 | 24 | 45.73333 | NA |   NA |      NA |        NA |\n",
       "| 2 | 26 | 50.03333 | -2 | -4.3 | 1.12828 | 0.3401583 |\n",
       "\n"
      ],
      "text/plain": [
       "  Res.Df RSS      Df Sum of Sq F       Pr(>F)   \n",
       "1 24     45.73333 NA   NA           NA        NA\n",
       "2 26     50.03333 -2 -4.3      1.12828 0.3401583"
      ]
     },
     "metadata": {},
     "output_type": "display_data"
    }
   ],
   "source": [
    "anova(lmod_retention5, lmod_retention3)"
   ]
  },
  {
   "cell_type": "code",
   "execution_count": 16,
   "id": "amended-cinema",
   "metadata": {
    "scrolled": true
   },
   "outputs": [
    {
     "data": {
      "text/plain": [
       "\n",
       "Call:\n",
       "lm(formula = Student_Percentage ~ Rural_or_not + Fall_semester, \n",
       "    data = RententionData)\n",
       "\n",
       "Residuals:\n",
       "    Min      1Q  Median      3Q     Max \n",
       "-3.6167 -0.7833  0.2000  0.9708  2.4667 \n",
       "\n",
       "Coefficients:\n",
       "                 Estimate Std. Error t value Pr(>|t|)    \n",
       "(Intercept)       87.5333     0.4738 184.738  < 2e-16 ***\n",
       "Rural_or_not0      2.2667     0.5065   4.475 0.000134 ***\n",
       "Fall_semester3rd  -6.0667     0.5940 -10.214 1.36e-10 ***\n",
       "Fall_semester4th  -8.9167     0.6332 -14.083 1.12e-13 ***\n",
       "---\n",
       "Signif. codes:  0 ‘***’ 0.001 ‘**’ 0.01 ‘*’ 0.05 ‘.’ 0.1 ‘ ’ 1\n",
       "\n",
       "Residual standard error: 1.387 on 26 degrees of freedom\n",
       "Multiple R-squared:  0.9023,\tAdjusted R-squared:  0.891 \n",
       "F-statistic:    80 on 3 and 26 DF,  p-value: 2.967e-13\n"
      ]
     },
     "metadata": {},
     "output_type": "display_data"
    }
   ],
   "source": [
    "final_retention_model = lmod_retention3\n",
    "summary(final_retention_model)"
   ]
  },
  {
   "cell_type": "markdown",
   "id": "accepted-museum",
   "metadata": {},
   "source": [
    "$\\textbf{Interpretation}:$\n",
    "1. The reduced model without the interations is sufficient.\n",
    "2. The reduced model with only Rural_or_not and Fall_semester but not the Year is sufficient\n",
    "3. The reduced model with only Rural_or_not but not the Fall_semester is NOT sufficient.\n",
    "4. So our chosen model would be model3 with Rural_or_not and Fall_semester and predictors.\n",
    "\n",
    "$\\\\\\\\$\n",
    "\n",
    "5. The retention rate (averaged over all years) of rural students to 2nd Fall semester = 87.5% which is statistically significant, 81.47% to 3rd Fall semester, and 78.6% to 4th Fall semester.\n",
    "6. Holding the semester constant, averaged over all years, rural students have a retention rate 2.3% lesser than their non-rural counterparts and this result is statistically significant.\n",
    "7. Since the model without the Rural_or_not:Fall_semester interaction term is sufficient compared to the one with it, we conclude that the difference in retention rates between rural and non-rural remains constant across the semesters, on average.\n",
    "8. Year is insignificant when included in model and model without year appears sufficient.\n",
    "9. Keeping the type of student constant (rural or non-rural), the retention rates have significantly decreased in 3rd and 4th semester, on average (makes sense).\n",
    "\n"
   ]
  },
  {
   "cell_type": "code",
   "execution_count": null,
   "id": "silent-portal",
   "metadata": {},
   "outputs": [],
   "source": []
  },
  {
   "cell_type": "markdown",
   "id": "surprising-passion",
   "metadata": {},
   "source": [
    "From above we will also report that year is not important, and no interaction between semester and rural_or_not."
   ]
  },
  {
   "cell_type": "markdown",
   "id": "invisible-vietnam",
   "metadata": {},
   "source": [
    "After the above analysis, a table would be helpful where on one side we have rural and on the other we have non-rural, or maybe above and below, and we display their total count, and then we say what percentage of rural and non-rural were females, BIPOC, etc etc. THEN we should the singular plots of rural, non_rural and each other 4 filters. AND THEN\n",
    "we run our model and show once we control for variables properly, we see Pell has now changed."
   ]
  },
  {
   "cell_type": "code",
   "execution_count": null,
   "id": "three-authentication",
   "metadata": {},
   "outputs": [],
   "source": []
  }
 ],
 "metadata": {
  "kernelspec": {
   "display_name": "R",
   "language": "R",
   "name": "ir"
  },
  "language_info": {
   "codemirror_mode": "r",
   "file_extension": ".r",
   "mimetype": "text/x-r-source",
   "name": "R",
   "pygments_lexer": "r",
   "version": "4.0.3"
  }
 },
 "nbformat": 4,
 "nbformat_minor": 5
}
