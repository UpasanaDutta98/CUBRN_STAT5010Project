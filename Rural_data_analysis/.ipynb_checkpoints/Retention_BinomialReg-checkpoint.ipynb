{
 "cells": [
  {
   "cell_type": "code",
   "execution_count": 99,
   "id": "regulation-venice",
   "metadata": {
    "scrolled": true
   },
   "outputs": [
    {
     "data": {
      "text/html": [
       "<table class=\"dataframe\">\n",
       "<caption>A data.frame: 44579 × 8</caption>\n",
       "<thead>\n",
       "\t<tr><th scope=col>Gender</th><th scope=col>BIPOC_or_not</th><th scope=col>FirstGen_or_not</th><th scope=col>PellGrant</th><th scope=col>Rural_or_not</th><th scope=col>EntryYear</th><th scope=col>Fall_Sem</th><th scope=col>Retained_or_not</th></tr>\n",
       "\t<tr><th scope=col>&lt;chr&gt;</th><th scope=col>&lt;int&gt;</th><th scope=col>&lt;int&gt;</th><th scope=col>&lt;int&gt;</th><th scope=col>&lt;int&gt;</th><th scope=col>&lt;int&gt;</th><th scope=col>&lt;chr&gt;</th><th scope=col>&lt;int&gt;</th></tr>\n",
       "</thead>\n",
       "<tbody>\n",
       "\t<tr><td>F</td><td>1</td><td>1</td><td>0</td><td>1</td><td>2014</td><td>2nd</td><td>1</td></tr>\n",
       "\t<tr><td>F</td><td>1</td><td>1</td><td>0</td><td>1</td><td>2014</td><td>2nd</td><td>1</td></tr>\n",
       "\t<tr><td>F</td><td>1</td><td>1</td><td>0</td><td>1</td><td>2014</td><td>2nd</td><td>1</td></tr>\n",
       "\t<tr><td>F</td><td>1</td><td>1</td><td>0</td><td>1</td><td>2014</td><td>3rd</td><td>1</td></tr>\n",
       "\t<tr><td>F</td><td>1</td><td>1</td><td>0</td><td>1</td><td>2014</td><td>3rd</td><td>1</td></tr>\n",
       "\t<tr><td>F</td><td>1</td><td>1</td><td>0</td><td>1</td><td>2014</td><td>3rd</td><td>1</td></tr>\n",
       "\t<tr><td>F</td><td>1</td><td>1</td><td>0</td><td>1</td><td>2014</td><td>4th</td><td>1</td></tr>\n",
       "\t<tr><td>F</td><td>1</td><td>1</td><td>0</td><td>1</td><td>2014</td><td>4th</td><td>1</td></tr>\n",
       "\t<tr><td>F</td><td>1</td><td>1</td><td>0</td><td>1</td><td>2014</td><td>4th</td><td>1</td></tr>\n",
       "\t<tr><td>F</td><td>1</td><td>1</td><td>0</td><td>1</td><td>2015</td><td>2nd</td><td>1</td></tr>\n",
       "\t<tr><td>F</td><td>1</td><td>1</td><td>0</td><td>1</td><td>2015</td><td>2nd</td><td>1</td></tr>\n",
       "\t<tr><td>F</td><td>1</td><td>1</td><td>0</td><td>1</td><td>2015</td><td>2nd</td><td>1</td></tr>\n",
       "\t<tr><td>F</td><td>1</td><td>1</td><td>0</td><td>1</td><td>2015</td><td>3rd</td><td>1</td></tr>\n",
       "\t<tr><td>F</td><td>1</td><td>1</td><td>0</td><td>1</td><td>2015</td><td>3rd</td><td>1</td></tr>\n",
       "\t<tr><td>F</td><td>1</td><td>1</td><td>0</td><td>1</td><td>2015</td><td>3rd</td><td>1</td></tr>\n",
       "\t<tr><td>F</td><td>1</td><td>1</td><td>0</td><td>1</td><td>2015</td><td>4th</td><td>1</td></tr>\n",
       "\t<tr><td>F</td><td>1</td><td>1</td><td>0</td><td>1</td><td>2015</td><td>4th</td><td>1</td></tr>\n",
       "\t<tr><td>F</td><td>1</td><td>1</td><td>0</td><td>1</td><td>2015</td><td>4th</td><td>1</td></tr>\n",
       "\t<tr><td>F</td><td>1</td><td>1</td><td>0</td><td>1</td><td>2016</td><td>2nd</td><td>1</td></tr>\n",
       "\t<tr><td>F</td><td>1</td><td>1</td><td>0</td><td>1</td><td>2016</td><td>2nd</td><td>1</td></tr>\n",
       "\t<tr><td>F</td><td>1</td><td>1</td><td>0</td><td>1</td><td>2016</td><td>2nd</td><td>1</td></tr>\n",
       "\t<tr><td>F</td><td>1</td><td>1</td><td>0</td><td>1</td><td>2016</td><td>2nd</td><td>1</td></tr>\n",
       "\t<tr><td>F</td><td>1</td><td>1</td><td>0</td><td>1</td><td>2016</td><td>3rd</td><td>1</td></tr>\n",
       "\t<tr><td>F</td><td>1</td><td>1</td><td>0</td><td>1</td><td>2016</td><td>3rd</td><td>1</td></tr>\n",
       "\t<tr><td>F</td><td>1</td><td>1</td><td>0</td><td>1</td><td>2016</td><td>3rd</td><td>1</td></tr>\n",
       "\t<tr><td>F</td><td>1</td><td>1</td><td>0</td><td>1</td><td>2016</td><td>3rd</td><td>1</td></tr>\n",
       "\t<tr><td>F</td><td>1</td><td>1</td><td>0</td><td>1</td><td>2016</td><td>4th</td><td>1</td></tr>\n",
       "\t<tr><td>F</td><td>1</td><td>1</td><td>0</td><td>1</td><td>2016</td><td>4th</td><td>1</td></tr>\n",
       "\t<tr><td>F</td><td>1</td><td>1</td><td>0</td><td>1</td><td>2016</td><td>4th</td><td>1</td></tr>\n",
       "\t<tr><td>F</td><td>1</td><td>1</td><td>0</td><td>1</td><td>2016</td><td>4th</td><td>1</td></tr>\n",
       "\t<tr><td>⋮</td><td>⋮</td><td>⋮</td><td>⋮</td><td>⋮</td><td>⋮</td><td>⋮</td><td>⋮</td></tr>\n",
       "\t<tr><td>M</td><td>0</td><td>0</td><td>1</td><td>0</td><td>2019</td><td>2nd</td><td>1</td></tr>\n",
       "\t<tr><td>M</td><td>0</td><td>0</td><td>1</td><td>0</td><td>2019</td><td>2nd</td><td>1</td></tr>\n",
       "\t<tr><td>M</td><td>0</td><td>0</td><td>1</td><td>0</td><td>2019</td><td>2nd</td><td>1</td></tr>\n",
       "\t<tr><td>M</td><td>0</td><td>0</td><td>1</td><td>0</td><td>2019</td><td>2nd</td><td>1</td></tr>\n",
       "\t<tr><td>M</td><td>0</td><td>0</td><td>1</td><td>0</td><td>2019</td><td>2nd</td><td>1</td></tr>\n",
       "\t<tr><td>M</td><td>0</td><td>0</td><td>1</td><td>0</td><td>2019</td><td>2nd</td><td>1</td></tr>\n",
       "\t<tr><td>M</td><td>0</td><td>0</td><td>1</td><td>0</td><td>2019</td><td>2nd</td><td>1</td></tr>\n",
       "\t<tr><td>M</td><td>0</td><td>0</td><td>1</td><td>0</td><td>2019</td><td>2nd</td><td>1</td></tr>\n",
       "\t<tr><td>M</td><td>0</td><td>0</td><td>1</td><td>0</td><td>2019</td><td>2nd</td><td>1</td></tr>\n",
       "\t<tr><td>M</td><td>0</td><td>0</td><td>1</td><td>0</td><td>2019</td><td>2nd</td><td>1</td></tr>\n",
       "\t<tr><td>M</td><td>0</td><td>0</td><td>1</td><td>0</td><td>2019</td><td>2nd</td><td>1</td></tr>\n",
       "\t<tr><td>M</td><td>0</td><td>0</td><td>1</td><td>0</td><td>2019</td><td>2nd</td><td>1</td></tr>\n",
       "\t<tr><td>M</td><td>0</td><td>0</td><td>1</td><td>0</td><td>2019</td><td>2nd</td><td>1</td></tr>\n",
       "\t<tr><td>M</td><td>0</td><td>0</td><td>1</td><td>0</td><td>2019</td><td>2nd</td><td>1</td></tr>\n",
       "\t<tr><td>M</td><td>0</td><td>0</td><td>1</td><td>0</td><td>2019</td><td>2nd</td><td>1</td></tr>\n",
       "\t<tr><td>M</td><td>0</td><td>0</td><td>1</td><td>0</td><td>2019</td><td>2nd</td><td>1</td></tr>\n",
       "\t<tr><td>M</td><td>0</td><td>0</td><td>1</td><td>0</td><td>2019</td><td>2nd</td><td>1</td></tr>\n",
       "\t<tr><td>M</td><td>0</td><td>0</td><td>1</td><td>0</td><td>2019</td><td>2nd</td><td>0</td></tr>\n",
       "\t<tr><td>M</td><td>0</td><td>0</td><td>1</td><td>0</td><td>2019</td><td>2nd</td><td>0</td></tr>\n",
       "\t<tr><td>M</td><td>0</td><td>0</td><td>1</td><td>0</td><td>2019</td><td>2nd</td><td>0</td></tr>\n",
       "\t<tr><td>M</td><td>0</td><td>0</td><td>1</td><td>0</td><td>2019</td><td>2nd</td><td>0</td></tr>\n",
       "\t<tr><td>M</td><td>0</td><td>0</td><td>1</td><td>0</td><td>2019</td><td>2nd</td><td>0</td></tr>\n",
       "\t<tr><td>M</td><td>0</td><td>0</td><td>1</td><td>0</td><td>2019</td><td>2nd</td><td>0</td></tr>\n",
       "\t<tr><td>M</td><td>0</td><td>0</td><td>1</td><td>0</td><td>2019</td><td>2nd</td><td>0</td></tr>\n",
       "\t<tr><td>M</td><td>0</td><td>0</td><td>1</td><td>0</td><td>2019</td><td>2nd</td><td>0</td></tr>\n",
       "\t<tr><td>M</td><td>0</td><td>0</td><td>1</td><td>0</td><td>2019</td><td>2nd</td><td>0</td></tr>\n",
       "\t<tr><td>M</td><td>0</td><td>0</td><td>1</td><td>0</td><td>2019</td><td>2nd</td><td>0</td></tr>\n",
       "\t<tr><td>M</td><td>0</td><td>0</td><td>1</td><td>0</td><td>2019</td><td>2nd</td><td>0</td></tr>\n",
       "\t<tr><td>M</td><td>0</td><td>0</td><td>1</td><td>0</td><td>2019</td><td>2nd</td><td>0</td></tr>\n",
       "\t<tr><td>M</td><td>0</td><td>0</td><td>1</td><td>0</td><td>2019</td><td>2nd</td><td>0</td></tr>\n",
       "</tbody>\n",
       "</table>\n"
      ],
      "text/latex": [
       "A data.frame: 44579 × 8\n",
       "\\begin{tabular}{llllllll}\n",
       " Gender & BIPOC\\_or\\_not & FirstGen\\_or\\_not & PellGrant & Rural\\_or\\_not & EntryYear & Fall\\_Sem & Retained\\_or\\_not\\\\\n",
       " <chr> & <int> & <int> & <int> & <int> & <int> & <chr> & <int>\\\\\n",
       "\\hline\n",
       "\t F & 1 & 1 & 0 & 1 & 2014 & 2nd & 1\\\\\n",
       "\t F & 1 & 1 & 0 & 1 & 2014 & 2nd & 1\\\\\n",
       "\t F & 1 & 1 & 0 & 1 & 2014 & 2nd & 1\\\\\n",
       "\t F & 1 & 1 & 0 & 1 & 2014 & 3rd & 1\\\\\n",
       "\t F & 1 & 1 & 0 & 1 & 2014 & 3rd & 1\\\\\n",
       "\t F & 1 & 1 & 0 & 1 & 2014 & 3rd & 1\\\\\n",
       "\t F & 1 & 1 & 0 & 1 & 2014 & 4th & 1\\\\\n",
       "\t F & 1 & 1 & 0 & 1 & 2014 & 4th & 1\\\\\n",
       "\t F & 1 & 1 & 0 & 1 & 2014 & 4th & 1\\\\\n",
       "\t F & 1 & 1 & 0 & 1 & 2015 & 2nd & 1\\\\\n",
       "\t F & 1 & 1 & 0 & 1 & 2015 & 2nd & 1\\\\\n",
       "\t F & 1 & 1 & 0 & 1 & 2015 & 2nd & 1\\\\\n",
       "\t F & 1 & 1 & 0 & 1 & 2015 & 3rd & 1\\\\\n",
       "\t F & 1 & 1 & 0 & 1 & 2015 & 3rd & 1\\\\\n",
       "\t F & 1 & 1 & 0 & 1 & 2015 & 3rd & 1\\\\\n",
       "\t F & 1 & 1 & 0 & 1 & 2015 & 4th & 1\\\\\n",
       "\t F & 1 & 1 & 0 & 1 & 2015 & 4th & 1\\\\\n",
       "\t F & 1 & 1 & 0 & 1 & 2015 & 4th & 1\\\\\n",
       "\t F & 1 & 1 & 0 & 1 & 2016 & 2nd & 1\\\\\n",
       "\t F & 1 & 1 & 0 & 1 & 2016 & 2nd & 1\\\\\n",
       "\t F & 1 & 1 & 0 & 1 & 2016 & 2nd & 1\\\\\n",
       "\t F & 1 & 1 & 0 & 1 & 2016 & 2nd & 1\\\\\n",
       "\t F & 1 & 1 & 0 & 1 & 2016 & 3rd & 1\\\\\n",
       "\t F & 1 & 1 & 0 & 1 & 2016 & 3rd & 1\\\\\n",
       "\t F & 1 & 1 & 0 & 1 & 2016 & 3rd & 1\\\\\n",
       "\t F & 1 & 1 & 0 & 1 & 2016 & 3rd & 1\\\\\n",
       "\t F & 1 & 1 & 0 & 1 & 2016 & 4th & 1\\\\\n",
       "\t F & 1 & 1 & 0 & 1 & 2016 & 4th & 1\\\\\n",
       "\t F & 1 & 1 & 0 & 1 & 2016 & 4th & 1\\\\\n",
       "\t F & 1 & 1 & 0 & 1 & 2016 & 4th & 1\\\\\n",
       "\t ⋮ & ⋮ & ⋮ & ⋮ & ⋮ & ⋮ & ⋮ & ⋮\\\\\n",
       "\t M & 0 & 0 & 1 & 0 & 2019 & 2nd & 1\\\\\n",
       "\t M & 0 & 0 & 1 & 0 & 2019 & 2nd & 1\\\\\n",
       "\t M & 0 & 0 & 1 & 0 & 2019 & 2nd & 1\\\\\n",
       "\t M & 0 & 0 & 1 & 0 & 2019 & 2nd & 1\\\\\n",
       "\t M & 0 & 0 & 1 & 0 & 2019 & 2nd & 1\\\\\n",
       "\t M & 0 & 0 & 1 & 0 & 2019 & 2nd & 1\\\\\n",
       "\t M & 0 & 0 & 1 & 0 & 2019 & 2nd & 1\\\\\n",
       "\t M & 0 & 0 & 1 & 0 & 2019 & 2nd & 1\\\\\n",
       "\t M & 0 & 0 & 1 & 0 & 2019 & 2nd & 1\\\\\n",
       "\t M & 0 & 0 & 1 & 0 & 2019 & 2nd & 1\\\\\n",
       "\t M & 0 & 0 & 1 & 0 & 2019 & 2nd & 1\\\\\n",
       "\t M & 0 & 0 & 1 & 0 & 2019 & 2nd & 1\\\\\n",
       "\t M & 0 & 0 & 1 & 0 & 2019 & 2nd & 1\\\\\n",
       "\t M & 0 & 0 & 1 & 0 & 2019 & 2nd & 1\\\\\n",
       "\t M & 0 & 0 & 1 & 0 & 2019 & 2nd & 1\\\\\n",
       "\t M & 0 & 0 & 1 & 0 & 2019 & 2nd & 1\\\\\n",
       "\t M & 0 & 0 & 1 & 0 & 2019 & 2nd & 1\\\\\n",
       "\t M & 0 & 0 & 1 & 0 & 2019 & 2nd & 0\\\\\n",
       "\t M & 0 & 0 & 1 & 0 & 2019 & 2nd & 0\\\\\n",
       "\t M & 0 & 0 & 1 & 0 & 2019 & 2nd & 0\\\\\n",
       "\t M & 0 & 0 & 1 & 0 & 2019 & 2nd & 0\\\\\n",
       "\t M & 0 & 0 & 1 & 0 & 2019 & 2nd & 0\\\\\n",
       "\t M & 0 & 0 & 1 & 0 & 2019 & 2nd & 0\\\\\n",
       "\t M & 0 & 0 & 1 & 0 & 2019 & 2nd & 0\\\\\n",
       "\t M & 0 & 0 & 1 & 0 & 2019 & 2nd & 0\\\\\n",
       "\t M & 0 & 0 & 1 & 0 & 2019 & 2nd & 0\\\\\n",
       "\t M & 0 & 0 & 1 & 0 & 2019 & 2nd & 0\\\\\n",
       "\t M & 0 & 0 & 1 & 0 & 2019 & 2nd & 0\\\\\n",
       "\t M & 0 & 0 & 1 & 0 & 2019 & 2nd & 0\\\\\n",
       "\t M & 0 & 0 & 1 & 0 & 2019 & 2nd & 0\\\\\n",
       "\\end{tabular}\n"
      ],
      "text/markdown": [
       "\n",
       "A data.frame: 44579 × 8\n",
       "\n",
       "| Gender &lt;chr&gt; | BIPOC_or_not &lt;int&gt; | FirstGen_or_not &lt;int&gt; | PellGrant &lt;int&gt; | Rural_or_not &lt;int&gt; | EntryYear &lt;int&gt; | Fall_Sem &lt;chr&gt; | Retained_or_not &lt;int&gt; |\n",
       "|---|---|---|---|---|---|---|---|\n",
       "| F | 1 | 1 | 0 | 1 | 2014 | 2nd | 1 |\n",
       "| F | 1 | 1 | 0 | 1 | 2014 | 2nd | 1 |\n",
       "| F | 1 | 1 | 0 | 1 | 2014 | 2nd | 1 |\n",
       "| F | 1 | 1 | 0 | 1 | 2014 | 3rd | 1 |\n",
       "| F | 1 | 1 | 0 | 1 | 2014 | 3rd | 1 |\n",
       "| F | 1 | 1 | 0 | 1 | 2014 | 3rd | 1 |\n",
       "| F | 1 | 1 | 0 | 1 | 2014 | 4th | 1 |\n",
       "| F | 1 | 1 | 0 | 1 | 2014 | 4th | 1 |\n",
       "| F | 1 | 1 | 0 | 1 | 2014 | 4th | 1 |\n",
       "| F | 1 | 1 | 0 | 1 | 2015 | 2nd | 1 |\n",
       "| F | 1 | 1 | 0 | 1 | 2015 | 2nd | 1 |\n",
       "| F | 1 | 1 | 0 | 1 | 2015 | 2nd | 1 |\n",
       "| F | 1 | 1 | 0 | 1 | 2015 | 3rd | 1 |\n",
       "| F | 1 | 1 | 0 | 1 | 2015 | 3rd | 1 |\n",
       "| F | 1 | 1 | 0 | 1 | 2015 | 3rd | 1 |\n",
       "| F | 1 | 1 | 0 | 1 | 2015 | 4th | 1 |\n",
       "| F | 1 | 1 | 0 | 1 | 2015 | 4th | 1 |\n",
       "| F | 1 | 1 | 0 | 1 | 2015 | 4th | 1 |\n",
       "| F | 1 | 1 | 0 | 1 | 2016 | 2nd | 1 |\n",
       "| F | 1 | 1 | 0 | 1 | 2016 | 2nd | 1 |\n",
       "| F | 1 | 1 | 0 | 1 | 2016 | 2nd | 1 |\n",
       "| F | 1 | 1 | 0 | 1 | 2016 | 2nd | 1 |\n",
       "| F | 1 | 1 | 0 | 1 | 2016 | 3rd | 1 |\n",
       "| F | 1 | 1 | 0 | 1 | 2016 | 3rd | 1 |\n",
       "| F | 1 | 1 | 0 | 1 | 2016 | 3rd | 1 |\n",
       "| F | 1 | 1 | 0 | 1 | 2016 | 3rd | 1 |\n",
       "| F | 1 | 1 | 0 | 1 | 2016 | 4th | 1 |\n",
       "| F | 1 | 1 | 0 | 1 | 2016 | 4th | 1 |\n",
       "| F | 1 | 1 | 0 | 1 | 2016 | 4th | 1 |\n",
       "| F | 1 | 1 | 0 | 1 | 2016 | 4th | 1 |\n",
       "| ⋮ | ⋮ | ⋮ | ⋮ | ⋮ | ⋮ | ⋮ | ⋮ |\n",
       "| M | 0 | 0 | 1 | 0 | 2019 | 2nd | 1 |\n",
       "| M | 0 | 0 | 1 | 0 | 2019 | 2nd | 1 |\n",
       "| M | 0 | 0 | 1 | 0 | 2019 | 2nd | 1 |\n",
       "| M | 0 | 0 | 1 | 0 | 2019 | 2nd | 1 |\n",
       "| M | 0 | 0 | 1 | 0 | 2019 | 2nd | 1 |\n",
       "| M | 0 | 0 | 1 | 0 | 2019 | 2nd | 1 |\n",
       "| M | 0 | 0 | 1 | 0 | 2019 | 2nd | 1 |\n",
       "| M | 0 | 0 | 1 | 0 | 2019 | 2nd | 1 |\n",
       "| M | 0 | 0 | 1 | 0 | 2019 | 2nd | 1 |\n",
       "| M | 0 | 0 | 1 | 0 | 2019 | 2nd | 1 |\n",
       "| M | 0 | 0 | 1 | 0 | 2019 | 2nd | 1 |\n",
       "| M | 0 | 0 | 1 | 0 | 2019 | 2nd | 1 |\n",
       "| M | 0 | 0 | 1 | 0 | 2019 | 2nd | 1 |\n",
       "| M | 0 | 0 | 1 | 0 | 2019 | 2nd | 1 |\n",
       "| M | 0 | 0 | 1 | 0 | 2019 | 2nd | 1 |\n",
       "| M | 0 | 0 | 1 | 0 | 2019 | 2nd | 1 |\n",
       "| M | 0 | 0 | 1 | 0 | 2019 | 2nd | 1 |\n",
       "| M | 0 | 0 | 1 | 0 | 2019 | 2nd | 0 |\n",
       "| M | 0 | 0 | 1 | 0 | 2019 | 2nd | 0 |\n",
       "| M | 0 | 0 | 1 | 0 | 2019 | 2nd | 0 |\n",
       "| M | 0 | 0 | 1 | 0 | 2019 | 2nd | 0 |\n",
       "| M | 0 | 0 | 1 | 0 | 2019 | 2nd | 0 |\n",
       "| M | 0 | 0 | 1 | 0 | 2019 | 2nd | 0 |\n",
       "| M | 0 | 0 | 1 | 0 | 2019 | 2nd | 0 |\n",
       "| M | 0 | 0 | 1 | 0 | 2019 | 2nd | 0 |\n",
       "| M | 0 | 0 | 1 | 0 | 2019 | 2nd | 0 |\n",
       "| M | 0 | 0 | 1 | 0 | 2019 | 2nd | 0 |\n",
       "| M | 0 | 0 | 1 | 0 | 2019 | 2nd | 0 |\n",
       "| M | 0 | 0 | 1 | 0 | 2019 | 2nd | 0 |\n",
       "| M | 0 | 0 | 1 | 0 | 2019 | 2nd | 0 |\n",
       "\n"
      ],
      "text/plain": [
       "      Gender BIPOC_or_not FirstGen_or_not PellGrant Rural_or_not EntryYear\n",
       "1     F      1            1               0         1            2014     \n",
       "2     F      1            1               0         1            2014     \n",
       "3     F      1            1               0         1            2014     \n",
       "4     F      1            1               0         1            2014     \n",
       "5     F      1            1               0         1            2014     \n",
       "6     F      1            1               0         1            2014     \n",
       "7     F      1            1               0         1            2014     \n",
       "8     F      1            1               0         1            2014     \n",
       "9     F      1            1               0         1            2014     \n",
       "10    F      1            1               0         1            2015     \n",
       "11    F      1            1               0         1            2015     \n",
       "12    F      1            1               0         1            2015     \n",
       "13    F      1            1               0         1            2015     \n",
       "14    F      1            1               0         1            2015     \n",
       "15    F      1            1               0         1            2015     \n",
       "16    F      1            1               0         1            2015     \n",
       "17    F      1            1               0         1            2015     \n",
       "18    F      1            1               0         1            2015     \n",
       "19    F      1            1               0         1            2016     \n",
       "20    F      1            1               0         1            2016     \n",
       "21    F      1            1               0         1            2016     \n",
       "22    F      1            1               0         1            2016     \n",
       "23    F      1            1               0         1            2016     \n",
       "24    F      1            1               0         1            2016     \n",
       "25    F      1            1               0         1            2016     \n",
       "26    F      1            1               0         1            2016     \n",
       "27    F      1            1               0         1            2016     \n",
       "28    F      1            1               0         1            2016     \n",
       "29    F      1            1               0         1            2016     \n",
       "30    F      1            1               0         1            2016     \n",
       "⋮     ⋮      ⋮            ⋮               ⋮         ⋮            ⋮        \n",
       "44550 M      0            0               1         0            2019     \n",
       "44551 M      0            0               1         0            2019     \n",
       "44552 M      0            0               1         0            2019     \n",
       "44553 M      0            0               1         0            2019     \n",
       "44554 M      0            0               1         0            2019     \n",
       "44555 M      0            0               1         0            2019     \n",
       "44556 M      0            0               1         0            2019     \n",
       "44557 M      0            0               1         0            2019     \n",
       "44558 M      0            0               1         0            2019     \n",
       "44559 M      0            0               1         0            2019     \n",
       "44560 M      0            0               1         0            2019     \n",
       "44561 M      0            0               1         0            2019     \n",
       "44562 M      0            0               1         0            2019     \n",
       "44563 M      0            0               1         0            2019     \n",
       "44564 M      0            0               1         0            2019     \n",
       "44565 M      0            0               1         0            2019     \n",
       "44566 M      0            0               1         0            2019     \n",
       "44567 M      0            0               1         0            2019     \n",
       "44568 M      0            0               1         0            2019     \n",
       "44569 M      0            0               1         0            2019     \n",
       "44570 M      0            0               1         0            2019     \n",
       "44571 M      0            0               1         0            2019     \n",
       "44572 M      0            0               1         0            2019     \n",
       "44573 M      0            0               1         0            2019     \n",
       "44574 M      0            0               1         0            2019     \n",
       "44575 M      0            0               1         0            2019     \n",
       "44576 M      0            0               1         0            2019     \n",
       "44577 M      0            0               1         0            2019     \n",
       "44578 M      0            0               1         0            2019     \n",
       "44579 M      0            0               1         0            2019     \n",
       "      Fall_Sem Retained_or_not\n",
       "1     2nd      1              \n",
       "2     2nd      1              \n",
       "3     2nd      1              \n",
       "4     3rd      1              \n",
       "5     3rd      1              \n",
       "6     3rd      1              \n",
       "7     4th      1              \n",
       "8     4th      1              \n",
       "9     4th      1              \n",
       "10    2nd      1              \n",
       "11    2nd      1              \n",
       "12    2nd      1              \n",
       "13    3rd      1              \n",
       "14    3rd      1              \n",
       "15    3rd      1              \n",
       "16    4th      1              \n",
       "17    4th      1              \n",
       "18    4th      1              \n",
       "19    2nd      1              \n",
       "20    2nd      1              \n",
       "21    2nd      1              \n",
       "22    2nd      1              \n",
       "23    3rd      1              \n",
       "24    3rd      1              \n",
       "25    3rd      1              \n",
       "26    3rd      1              \n",
       "27    4th      1              \n",
       "28    4th      1              \n",
       "29    4th      1              \n",
       "30    4th      1              \n",
       "⋮     ⋮        ⋮              \n",
       "44550 2nd      1              \n",
       "44551 2nd      1              \n",
       "44552 2nd      1              \n",
       "44553 2nd      1              \n",
       "44554 2nd      1              \n",
       "44555 2nd      1              \n",
       "44556 2nd      1              \n",
       "44557 2nd      1              \n",
       "44558 2nd      1              \n",
       "44559 2nd      1              \n",
       "44560 2nd      1              \n",
       "44561 2nd      1              \n",
       "44562 2nd      1              \n",
       "44563 2nd      1              \n",
       "44564 2nd      1              \n",
       "44565 2nd      1              \n",
       "44566 2nd      1              \n",
       "44567 2nd      0              \n",
       "44568 2nd      0              \n",
       "44569 2nd      0              \n",
       "44570 2nd      0              \n",
       "44571 2nd      0              \n",
       "44572 2nd      0              \n",
       "44573 2nd      0              \n",
       "44574 2nd      0              \n",
       "44575 2nd      0              \n",
       "44576 2nd      0              \n",
       "44577 2nd      0              \n",
       "44578 2nd      0              \n",
       "44579 2nd      0              "
      ]
     },
     "metadata": {},
     "output_type": "display_data"
    }
   ],
   "source": [
    "RententionData = read.csv(file = '../RuralData/RetentionData_Final.csv')\n",
    "RententionData"
   ]
  },
  {
   "cell_type": "code",
   "execution_count": 100,
   "id": "severe-wilson",
   "metadata": {},
   "outputs": [],
   "source": [
    "RententionData$Gender = as.factor(RententionData$Gender)\n",
    "RententionData$BIPOC_or_not = as.factor(RententionData$BIPOC_or_not)\n",
    "RententionData$FirstGen_or_not = as.factor(RententionData$FirstGen_or_not)\n",
    "RententionData$PellGrant = as.factor(RententionData$PellGrant)\n",
    "RententionData$Rural_or_not = as.factor(RententionData$Rural_or_not)\n",
    "RententionData$EntryYear = as.factor(RententionData$EntryYear)\n",
    "RententionData$Fall_Sem = as.factor(RententionData$Fall_Sem)\n",
    "RententionData$Retained_or_not = as.factor(RententionData$Retained_or_not)"
   ]
  },
  {
   "cell_type": "code",
   "execution_count": 101,
   "id": "worthy-winter",
   "metadata": {
    "scrolled": true
   },
   "outputs": [
    {
     "data": {
      "text/html": [
       "<table class=\"dataframe\">\n",
       "<caption>A data.frame: 44579 × 8</caption>\n",
       "<thead>\n",
       "\t<tr><th scope=col>Gender</th><th scope=col>BIPOC_or_not</th><th scope=col>FirstGen_or_not</th><th scope=col>PellGrant</th><th scope=col>Rural_or_not</th><th scope=col>EntryYear</th><th scope=col>Fall_Sem</th><th scope=col>Retained_or_not</th></tr>\n",
       "\t<tr><th scope=col>&lt;fct&gt;</th><th scope=col>&lt;fct&gt;</th><th scope=col>&lt;fct&gt;</th><th scope=col>&lt;fct&gt;</th><th scope=col>&lt;fct&gt;</th><th scope=col>&lt;fct&gt;</th><th scope=col>&lt;fct&gt;</th><th scope=col>&lt;fct&gt;</th></tr>\n",
       "</thead>\n",
       "<tbody>\n",
       "\t<tr><td>F</td><td>1</td><td>1</td><td>0</td><td>1</td><td>2014</td><td>2nd</td><td>1</td></tr>\n",
       "\t<tr><td>F</td><td>1</td><td>1</td><td>0</td><td>1</td><td>2014</td><td>2nd</td><td>1</td></tr>\n",
       "\t<tr><td>F</td><td>1</td><td>1</td><td>0</td><td>1</td><td>2014</td><td>2nd</td><td>1</td></tr>\n",
       "\t<tr><td>F</td><td>1</td><td>1</td><td>0</td><td>1</td><td>2014</td><td>3rd</td><td>1</td></tr>\n",
       "\t<tr><td>F</td><td>1</td><td>1</td><td>0</td><td>1</td><td>2014</td><td>3rd</td><td>1</td></tr>\n",
       "\t<tr><td>F</td><td>1</td><td>1</td><td>0</td><td>1</td><td>2014</td><td>3rd</td><td>1</td></tr>\n",
       "\t<tr><td>F</td><td>1</td><td>1</td><td>0</td><td>1</td><td>2014</td><td>4th</td><td>1</td></tr>\n",
       "\t<tr><td>F</td><td>1</td><td>1</td><td>0</td><td>1</td><td>2014</td><td>4th</td><td>1</td></tr>\n",
       "\t<tr><td>F</td><td>1</td><td>1</td><td>0</td><td>1</td><td>2014</td><td>4th</td><td>1</td></tr>\n",
       "\t<tr><td>F</td><td>1</td><td>1</td><td>0</td><td>1</td><td>2015</td><td>2nd</td><td>1</td></tr>\n",
       "\t<tr><td>F</td><td>1</td><td>1</td><td>0</td><td>1</td><td>2015</td><td>2nd</td><td>1</td></tr>\n",
       "\t<tr><td>F</td><td>1</td><td>1</td><td>0</td><td>1</td><td>2015</td><td>2nd</td><td>1</td></tr>\n",
       "\t<tr><td>F</td><td>1</td><td>1</td><td>0</td><td>1</td><td>2015</td><td>3rd</td><td>1</td></tr>\n",
       "\t<tr><td>F</td><td>1</td><td>1</td><td>0</td><td>1</td><td>2015</td><td>3rd</td><td>1</td></tr>\n",
       "\t<tr><td>F</td><td>1</td><td>1</td><td>0</td><td>1</td><td>2015</td><td>3rd</td><td>1</td></tr>\n",
       "\t<tr><td>F</td><td>1</td><td>1</td><td>0</td><td>1</td><td>2015</td><td>4th</td><td>1</td></tr>\n",
       "\t<tr><td>F</td><td>1</td><td>1</td><td>0</td><td>1</td><td>2015</td><td>4th</td><td>1</td></tr>\n",
       "\t<tr><td>F</td><td>1</td><td>1</td><td>0</td><td>1</td><td>2015</td><td>4th</td><td>1</td></tr>\n",
       "\t<tr><td>F</td><td>1</td><td>1</td><td>0</td><td>1</td><td>2016</td><td>2nd</td><td>1</td></tr>\n",
       "\t<tr><td>F</td><td>1</td><td>1</td><td>0</td><td>1</td><td>2016</td><td>2nd</td><td>1</td></tr>\n",
       "\t<tr><td>F</td><td>1</td><td>1</td><td>0</td><td>1</td><td>2016</td><td>2nd</td><td>1</td></tr>\n",
       "\t<tr><td>F</td><td>1</td><td>1</td><td>0</td><td>1</td><td>2016</td><td>2nd</td><td>1</td></tr>\n",
       "\t<tr><td>F</td><td>1</td><td>1</td><td>0</td><td>1</td><td>2016</td><td>3rd</td><td>1</td></tr>\n",
       "\t<tr><td>F</td><td>1</td><td>1</td><td>0</td><td>1</td><td>2016</td><td>3rd</td><td>1</td></tr>\n",
       "\t<tr><td>F</td><td>1</td><td>1</td><td>0</td><td>1</td><td>2016</td><td>3rd</td><td>1</td></tr>\n",
       "\t<tr><td>F</td><td>1</td><td>1</td><td>0</td><td>1</td><td>2016</td><td>3rd</td><td>1</td></tr>\n",
       "\t<tr><td>F</td><td>1</td><td>1</td><td>0</td><td>1</td><td>2016</td><td>4th</td><td>1</td></tr>\n",
       "\t<tr><td>F</td><td>1</td><td>1</td><td>0</td><td>1</td><td>2016</td><td>4th</td><td>1</td></tr>\n",
       "\t<tr><td>F</td><td>1</td><td>1</td><td>0</td><td>1</td><td>2016</td><td>4th</td><td>1</td></tr>\n",
       "\t<tr><td>F</td><td>1</td><td>1</td><td>0</td><td>1</td><td>2016</td><td>4th</td><td>1</td></tr>\n",
       "\t<tr><td>⋮</td><td>⋮</td><td>⋮</td><td>⋮</td><td>⋮</td><td>⋮</td><td>⋮</td><td>⋮</td></tr>\n",
       "\t<tr><td>M</td><td>0</td><td>0</td><td>1</td><td>0</td><td>2019</td><td>2nd</td><td>1</td></tr>\n",
       "\t<tr><td>M</td><td>0</td><td>0</td><td>1</td><td>0</td><td>2019</td><td>2nd</td><td>1</td></tr>\n",
       "\t<tr><td>M</td><td>0</td><td>0</td><td>1</td><td>0</td><td>2019</td><td>2nd</td><td>1</td></tr>\n",
       "\t<tr><td>M</td><td>0</td><td>0</td><td>1</td><td>0</td><td>2019</td><td>2nd</td><td>1</td></tr>\n",
       "\t<tr><td>M</td><td>0</td><td>0</td><td>1</td><td>0</td><td>2019</td><td>2nd</td><td>1</td></tr>\n",
       "\t<tr><td>M</td><td>0</td><td>0</td><td>1</td><td>0</td><td>2019</td><td>2nd</td><td>1</td></tr>\n",
       "\t<tr><td>M</td><td>0</td><td>0</td><td>1</td><td>0</td><td>2019</td><td>2nd</td><td>1</td></tr>\n",
       "\t<tr><td>M</td><td>0</td><td>0</td><td>1</td><td>0</td><td>2019</td><td>2nd</td><td>1</td></tr>\n",
       "\t<tr><td>M</td><td>0</td><td>0</td><td>1</td><td>0</td><td>2019</td><td>2nd</td><td>1</td></tr>\n",
       "\t<tr><td>M</td><td>0</td><td>0</td><td>1</td><td>0</td><td>2019</td><td>2nd</td><td>1</td></tr>\n",
       "\t<tr><td>M</td><td>0</td><td>0</td><td>1</td><td>0</td><td>2019</td><td>2nd</td><td>1</td></tr>\n",
       "\t<tr><td>M</td><td>0</td><td>0</td><td>1</td><td>0</td><td>2019</td><td>2nd</td><td>1</td></tr>\n",
       "\t<tr><td>M</td><td>0</td><td>0</td><td>1</td><td>0</td><td>2019</td><td>2nd</td><td>1</td></tr>\n",
       "\t<tr><td>M</td><td>0</td><td>0</td><td>1</td><td>0</td><td>2019</td><td>2nd</td><td>1</td></tr>\n",
       "\t<tr><td>M</td><td>0</td><td>0</td><td>1</td><td>0</td><td>2019</td><td>2nd</td><td>1</td></tr>\n",
       "\t<tr><td>M</td><td>0</td><td>0</td><td>1</td><td>0</td><td>2019</td><td>2nd</td><td>1</td></tr>\n",
       "\t<tr><td>M</td><td>0</td><td>0</td><td>1</td><td>0</td><td>2019</td><td>2nd</td><td>1</td></tr>\n",
       "\t<tr><td>M</td><td>0</td><td>0</td><td>1</td><td>0</td><td>2019</td><td>2nd</td><td>0</td></tr>\n",
       "\t<tr><td>M</td><td>0</td><td>0</td><td>1</td><td>0</td><td>2019</td><td>2nd</td><td>0</td></tr>\n",
       "\t<tr><td>M</td><td>0</td><td>0</td><td>1</td><td>0</td><td>2019</td><td>2nd</td><td>0</td></tr>\n",
       "\t<tr><td>M</td><td>0</td><td>0</td><td>1</td><td>0</td><td>2019</td><td>2nd</td><td>0</td></tr>\n",
       "\t<tr><td>M</td><td>0</td><td>0</td><td>1</td><td>0</td><td>2019</td><td>2nd</td><td>0</td></tr>\n",
       "\t<tr><td>M</td><td>0</td><td>0</td><td>1</td><td>0</td><td>2019</td><td>2nd</td><td>0</td></tr>\n",
       "\t<tr><td>M</td><td>0</td><td>0</td><td>1</td><td>0</td><td>2019</td><td>2nd</td><td>0</td></tr>\n",
       "\t<tr><td>M</td><td>0</td><td>0</td><td>1</td><td>0</td><td>2019</td><td>2nd</td><td>0</td></tr>\n",
       "\t<tr><td>M</td><td>0</td><td>0</td><td>1</td><td>0</td><td>2019</td><td>2nd</td><td>0</td></tr>\n",
       "\t<tr><td>M</td><td>0</td><td>0</td><td>1</td><td>0</td><td>2019</td><td>2nd</td><td>0</td></tr>\n",
       "\t<tr><td>M</td><td>0</td><td>0</td><td>1</td><td>0</td><td>2019</td><td>2nd</td><td>0</td></tr>\n",
       "\t<tr><td>M</td><td>0</td><td>0</td><td>1</td><td>0</td><td>2019</td><td>2nd</td><td>0</td></tr>\n",
       "\t<tr><td>M</td><td>0</td><td>0</td><td>1</td><td>0</td><td>2019</td><td>2nd</td><td>0</td></tr>\n",
       "</tbody>\n",
       "</table>\n"
      ],
      "text/latex": [
       "A data.frame: 44579 × 8\n",
       "\\begin{tabular}{llllllll}\n",
       " Gender & BIPOC\\_or\\_not & FirstGen\\_or\\_not & PellGrant & Rural\\_or\\_not & EntryYear & Fall\\_Sem & Retained\\_or\\_not\\\\\n",
       " <fct> & <fct> & <fct> & <fct> & <fct> & <fct> & <fct> & <fct>\\\\\n",
       "\\hline\n",
       "\t F & 1 & 1 & 0 & 1 & 2014 & 2nd & 1\\\\\n",
       "\t F & 1 & 1 & 0 & 1 & 2014 & 2nd & 1\\\\\n",
       "\t F & 1 & 1 & 0 & 1 & 2014 & 2nd & 1\\\\\n",
       "\t F & 1 & 1 & 0 & 1 & 2014 & 3rd & 1\\\\\n",
       "\t F & 1 & 1 & 0 & 1 & 2014 & 3rd & 1\\\\\n",
       "\t F & 1 & 1 & 0 & 1 & 2014 & 3rd & 1\\\\\n",
       "\t F & 1 & 1 & 0 & 1 & 2014 & 4th & 1\\\\\n",
       "\t F & 1 & 1 & 0 & 1 & 2014 & 4th & 1\\\\\n",
       "\t F & 1 & 1 & 0 & 1 & 2014 & 4th & 1\\\\\n",
       "\t F & 1 & 1 & 0 & 1 & 2015 & 2nd & 1\\\\\n",
       "\t F & 1 & 1 & 0 & 1 & 2015 & 2nd & 1\\\\\n",
       "\t F & 1 & 1 & 0 & 1 & 2015 & 2nd & 1\\\\\n",
       "\t F & 1 & 1 & 0 & 1 & 2015 & 3rd & 1\\\\\n",
       "\t F & 1 & 1 & 0 & 1 & 2015 & 3rd & 1\\\\\n",
       "\t F & 1 & 1 & 0 & 1 & 2015 & 3rd & 1\\\\\n",
       "\t F & 1 & 1 & 0 & 1 & 2015 & 4th & 1\\\\\n",
       "\t F & 1 & 1 & 0 & 1 & 2015 & 4th & 1\\\\\n",
       "\t F & 1 & 1 & 0 & 1 & 2015 & 4th & 1\\\\\n",
       "\t F & 1 & 1 & 0 & 1 & 2016 & 2nd & 1\\\\\n",
       "\t F & 1 & 1 & 0 & 1 & 2016 & 2nd & 1\\\\\n",
       "\t F & 1 & 1 & 0 & 1 & 2016 & 2nd & 1\\\\\n",
       "\t F & 1 & 1 & 0 & 1 & 2016 & 2nd & 1\\\\\n",
       "\t F & 1 & 1 & 0 & 1 & 2016 & 3rd & 1\\\\\n",
       "\t F & 1 & 1 & 0 & 1 & 2016 & 3rd & 1\\\\\n",
       "\t F & 1 & 1 & 0 & 1 & 2016 & 3rd & 1\\\\\n",
       "\t F & 1 & 1 & 0 & 1 & 2016 & 3rd & 1\\\\\n",
       "\t F & 1 & 1 & 0 & 1 & 2016 & 4th & 1\\\\\n",
       "\t F & 1 & 1 & 0 & 1 & 2016 & 4th & 1\\\\\n",
       "\t F & 1 & 1 & 0 & 1 & 2016 & 4th & 1\\\\\n",
       "\t F & 1 & 1 & 0 & 1 & 2016 & 4th & 1\\\\\n",
       "\t ⋮ & ⋮ & ⋮ & ⋮ & ⋮ & ⋮ & ⋮ & ⋮\\\\\n",
       "\t M & 0 & 0 & 1 & 0 & 2019 & 2nd & 1\\\\\n",
       "\t M & 0 & 0 & 1 & 0 & 2019 & 2nd & 1\\\\\n",
       "\t M & 0 & 0 & 1 & 0 & 2019 & 2nd & 1\\\\\n",
       "\t M & 0 & 0 & 1 & 0 & 2019 & 2nd & 1\\\\\n",
       "\t M & 0 & 0 & 1 & 0 & 2019 & 2nd & 1\\\\\n",
       "\t M & 0 & 0 & 1 & 0 & 2019 & 2nd & 1\\\\\n",
       "\t M & 0 & 0 & 1 & 0 & 2019 & 2nd & 1\\\\\n",
       "\t M & 0 & 0 & 1 & 0 & 2019 & 2nd & 1\\\\\n",
       "\t M & 0 & 0 & 1 & 0 & 2019 & 2nd & 1\\\\\n",
       "\t M & 0 & 0 & 1 & 0 & 2019 & 2nd & 1\\\\\n",
       "\t M & 0 & 0 & 1 & 0 & 2019 & 2nd & 1\\\\\n",
       "\t M & 0 & 0 & 1 & 0 & 2019 & 2nd & 1\\\\\n",
       "\t M & 0 & 0 & 1 & 0 & 2019 & 2nd & 1\\\\\n",
       "\t M & 0 & 0 & 1 & 0 & 2019 & 2nd & 1\\\\\n",
       "\t M & 0 & 0 & 1 & 0 & 2019 & 2nd & 1\\\\\n",
       "\t M & 0 & 0 & 1 & 0 & 2019 & 2nd & 1\\\\\n",
       "\t M & 0 & 0 & 1 & 0 & 2019 & 2nd & 1\\\\\n",
       "\t M & 0 & 0 & 1 & 0 & 2019 & 2nd & 0\\\\\n",
       "\t M & 0 & 0 & 1 & 0 & 2019 & 2nd & 0\\\\\n",
       "\t M & 0 & 0 & 1 & 0 & 2019 & 2nd & 0\\\\\n",
       "\t M & 0 & 0 & 1 & 0 & 2019 & 2nd & 0\\\\\n",
       "\t M & 0 & 0 & 1 & 0 & 2019 & 2nd & 0\\\\\n",
       "\t M & 0 & 0 & 1 & 0 & 2019 & 2nd & 0\\\\\n",
       "\t M & 0 & 0 & 1 & 0 & 2019 & 2nd & 0\\\\\n",
       "\t M & 0 & 0 & 1 & 0 & 2019 & 2nd & 0\\\\\n",
       "\t M & 0 & 0 & 1 & 0 & 2019 & 2nd & 0\\\\\n",
       "\t M & 0 & 0 & 1 & 0 & 2019 & 2nd & 0\\\\\n",
       "\t M & 0 & 0 & 1 & 0 & 2019 & 2nd & 0\\\\\n",
       "\t M & 0 & 0 & 1 & 0 & 2019 & 2nd & 0\\\\\n",
       "\t M & 0 & 0 & 1 & 0 & 2019 & 2nd & 0\\\\\n",
       "\\end{tabular}\n"
      ],
      "text/markdown": [
       "\n",
       "A data.frame: 44579 × 8\n",
       "\n",
       "| Gender &lt;fct&gt; | BIPOC_or_not &lt;fct&gt; | FirstGen_or_not &lt;fct&gt; | PellGrant &lt;fct&gt; | Rural_or_not &lt;fct&gt; | EntryYear &lt;fct&gt; | Fall_Sem &lt;fct&gt; | Retained_or_not &lt;fct&gt; |\n",
       "|---|---|---|---|---|---|---|---|\n",
       "| F | 1 | 1 | 0 | 1 | 2014 | 2nd | 1 |\n",
       "| F | 1 | 1 | 0 | 1 | 2014 | 2nd | 1 |\n",
       "| F | 1 | 1 | 0 | 1 | 2014 | 2nd | 1 |\n",
       "| F | 1 | 1 | 0 | 1 | 2014 | 3rd | 1 |\n",
       "| F | 1 | 1 | 0 | 1 | 2014 | 3rd | 1 |\n",
       "| F | 1 | 1 | 0 | 1 | 2014 | 3rd | 1 |\n",
       "| F | 1 | 1 | 0 | 1 | 2014 | 4th | 1 |\n",
       "| F | 1 | 1 | 0 | 1 | 2014 | 4th | 1 |\n",
       "| F | 1 | 1 | 0 | 1 | 2014 | 4th | 1 |\n",
       "| F | 1 | 1 | 0 | 1 | 2015 | 2nd | 1 |\n",
       "| F | 1 | 1 | 0 | 1 | 2015 | 2nd | 1 |\n",
       "| F | 1 | 1 | 0 | 1 | 2015 | 2nd | 1 |\n",
       "| F | 1 | 1 | 0 | 1 | 2015 | 3rd | 1 |\n",
       "| F | 1 | 1 | 0 | 1 | 2015 | 3rd | 1 |\n",
       "| F | 1 | 1 | 0 | 1 | 2015 | 3rd | 1 |\n",
       "| F | 1 | 1 | 0 | 1 | 2015 | 4th | 1 |\n",
       "| F | 1 | 1 | 0 | 1 | 2015 | 4th | 1 |\n",
       "| F | 1 | 1 | 0 | 1 | 2015 | 4th | 1 |\n",
       "| F | 1 | 1 | 0 | 1 | 2016 | 2nd | 1 |\n",
       "| F | 1 | 1 | 0 | 1 | 2016 | 2nd | 1 |\n",
       "| F | 1 | 1 | 0 | 1 | 2016 | 2nd | 1 |\n",
       "| F | 1 | 1 | 0 | 1 | 2016 | 2nd | 1 |\n",
       "| F | 1 | 1 | 0 | 1 | 2016 | 3rd | 1 |\n",
       "| F | 1 | 1 | 0 | 1 | 2016 | 3rd | 1 |\n",
       "| F | 1 | 1 | 0 | 1 | 2016 | 3rd | 1 |\n",
       "| F | 1 | 1 | 0 | 1 | 2016 | 3rd | 1 |\n",
       "| F | 1 | 1 | 0 | 1 | 2016 | 4th | 1 |\n",
       "| F | 1 | 1 | 0 | 1 | 2016 | 4th | 1 |\n",
       "| F | 1 | 1 | 0 | 1 | 2016 | 4th | 1 |\n",
       "| F | 1 | 1 | 0 | 1 | 2016 | 4th | 1 |\n",
       "| ⋮ | ⋮ | ⋮ | ⋮ | ⋮ | ⋮ | ⋮ | ⋮ |\n",
       "| M | 0 | 0 | 1 | 0 | 2019 | 2nd | 1 |\n",
       "| M | 0 | 0 | 1 | 0 | 2019 | 2nd | 1 |\n",
       "| M | 0 | 0 | 1 | 0 | 2019 | 2nd | 1 |\n",
       "| M | 0 | 0 | 1 | 0 | 2019 | 2nd | 1 |\n",
       "| M | 0 | 0 | 1 | 0 | 2019 | 2nd | 1 |\n",
       "| M | 0 | 0 | 1 | 0 | 2019 | 2nd | 1 |\n",
       "| M | 0 | 0 | 1 | 0 | 2019 | 2nd | 1 |\n",
       "| M | 0 | 0 | 1 | 0 | 2019 | 2nd | 1 |\n",
       "| M | 0 | 0 | 1 | 0 | 2019 | 2nd | 1 |\n",
       "| M | 0 | 0 | 1 | 0 | 2019 | 2nd | 1 |\n",
       "| M | 0 | 0 | 1 | 0 | 2019 | 2nd | 1 |\n",
       "| M | 0 | 0 | 1 | 0 | 2019 | 2nd | 1 |\n",
       "| M | 0 | 0 | 1 | 0 | 2019 | 2nd | 1 |\n",
       "| M | 0 | 0 | 1 | 0 | 2019 | 2nd | 1 |\n",
       "| M | 0 | 0 | 1 | 0 | 2019 | 2nd | 1 |\n",
       "| M | 0 | 0 | 1 | 0 | 2019 | 2nd | 1 |\n",
       "| M | 0 | 0 | 1 | 0 | 2019 | 2nd | 1 |\n",
       "| M | 0 | 0 | 1 | 0 | 2019 | 2nd | 0 |\n",
       "| M | 0 | 0 | 1 | 0 | 2019 | 2nd | 0 |\n",
       "| M | 0 | 0 | 1 | 0 | 2019 | 2nd | 0 |\n",
       "| M | 0 | 0 | 1 | 0 | 2019 | 2nd | 0 |\n",
       "| M | 0 | 0 | 1 | 0 | 2019 | 2nd | 0 |\n",
       "| M | 0 | 0 | 1 | 0 | 2019 | 2nd | 0 |\n",
       "| M | 0 | 0 | 1 | 0 | 2019 | 2nd | 0 |\n",
       "| M | 0 | 0 | 1 | 0 | 2019 | 2nd | 0 |\n",
       "| M | 0 | 0 | 1 | 0 | 2019 | 2nd | 0 |\n",
       "| M | 0 | 0 | 1 | 0 | 2019 | 2nd | 0 |\n",
       "| M | 0 | 0 | 1 | 0 | 2019 | 2nd | 0 |\n",
       "| M | 0 | 0 | 1 | 0 | 2019 | 2nd | 0 |\n",
       "| M | 0 | 0 | 1 | 0 | 2019 | 2nd | 0 |\n",
       "\n"
      ],
      "text/plain": [
       "      Gender BIPOC_or_not FirstGen_or_not PellGrant Rural_or_not EntryYear\n",
       "1     F      1            1               0         1            2014     \n",
       "2     F      1            1               0         1            2014     \n",
       "3     F      1            1               0         1            2014     \n",
       "4     F      1            1               0         1            2014     \n",
       "5     F      1            1               0         1            2014     \n",
       "6     F      1            1               0         1            2014     \n",
       "7     F      1            1               0         1            2014     \n",
       "8     F      1            1               0         1            2014     \n",
       "9     F      1            1               0         1            2014     \n",
       "10    F      1            1               0         1            2015     \n",
       "11    F      1            1               0         1            2015     \n",
       "12    F      1            1               0         1            2015     \n",
       "13    F      1            1               0         1            2015     \n",
       "14    F      1            1               0         1            2015     \n",
       "15    F      1            1               0         1            2015     \n",
       "16    F      1            1               0         1            2015     \n",
       "17    F      1            1               0         1            2015     \n",
       "18    F      1            1               0         1            2015     \n",
       "19    F      1            1               0         1            2016     \n",
       "20    F      1            1               0         1            2016     \n",
       "21    F      1            1               0         1            2016     \n",
       "22    F      1            1               0         1            2016     \n",
       "23    F      1            1               0         1            2016     \n",
       "24    F      1            1               0         1            2016     \n",
       "25    F      1            1               0         1            2016     \n",
       "26    F      1            1               0         1            2016     \n",
       "27    F      1            1               0         1            2016     \n",
       "28    F      1            1               0         1            2016     \n",
       "29    F      1            1               0         1            2016     \n",
       "30    F      1            1               0         1            2016     \n",
       "⋮     ⋮      ⋮            ⋮               ⋮         ⋮            ⋮        \n",
       "44550 M      0            0               1         0            2019     \n",
       "44551 M      0            0               1         0            2019     \n",
       "44552 M      0            0               1         0            2019     \n",
       "44553 M      0            0               1         0            2019     \n",
       "44554 M      0            0               1         0            2019     \n",
       "44555 M      0            0               1         0            2019     \n",
       "44556 M      0            0               1         0            2019     \n",
       "44557 M      0            0               1         0            2019     \n",
       "44558 M      0            0               1         0            2019     \n",
       "44559 M      0            0               1         0            2019     \n",
       "44560 M      0            0               1         0            2019     \n",
       "44561 M      0            0               1         0            2019     \n",
       "44562 M      0            0               1         0            2019     \n",
       "44563 M      0            0               1         0            2019     \n",
       "44564 M      0            0               1         0            2019     \n",
       "44565 M      0            0               1         0            2019     \n",
       "44566 M      0            0               1         0            2019     \n",
       "44567 M      0            0               1         0            2019     \n",
       "44568 M      0            0               1         0            2019     \n",
       "44569 M      0            0               1         0            2019     \n",
       "44570 M      0            0               1         0            2019     \n",
       "44571 M      0            0               1         0            2019     \n",
       "44572 M      0            0               1         0            2019     \n",
       "44573 M      0            0               1         0            2019     \n",
       "44574 M      0            0               1         0            2019     \n",
       "44575 M      0            0               1         0            2019     \n",
       "44576 M      0            0               1         0            2019     \n",
       "44577 M      0            0               1         0            2019     \n",
       "44578 M      0            0               1         0            2019     \n",
       "44579 M      0            0               1         0            2019     \n",
       "      Fall_Sem Retained_or_not\n",
       "1     2nd      1              \n",
       "2     2nd      1              \n",
       "3     2nd      1              \n",
       "4     3rd      1              \n",
       "5     3rd      1              \n",
       "6     3rd      1              \n",
       "7     4th      1              \n",
       "8     4th      1              \n",
       "9     4th      1              \n",
       "10    2nd      1              \n",
       "11    2nd      1              \n",
       "12    2nd      1              \n",
       "13    3rd      1              \n",
       "14    3rd      1              \n",
       "15    3rd      1              \n",
       "16    4th      1              \n",
       "17    4th      1              \n",
       "18    4th      1              \n",
       "19    2nd      1              \n",
       "20    2nd      1              \n",
       "21    2nd      1              \n",
       "22    2nd      1              \n",
       "23    3rd      1              \n",
       "24    3rd      1              \n",
       "25    3rd      1              \n",
       "26    3rd      1              \n",
       "27    4th      1              \n",
       "28    4th      1              \n",
       "29    4th      1              \n",
       "30    4th      1              \n",
       "⋮     ⋮        ⋮              \n",
       "44550 2nd      1              \n",
       "44551 2nd      1              \n",
       "44552 2nd      1              \n",
       "44553 2nd      1              \n",
       "44554 2nd      1              \n",
       "44555 2nd      1              \n",
       "44556 2nd      1              \n",
       "44557 2nd      1              \n",
       "44558 2nd      1              \n",
       "44559 2nd      1              \n",
       "44560 2nd      1              \n",
       "44561 2nd      1              \n",
       "44562 2nd      1              \n",
       "44563 2nd      1              \n",
       "44564 2nd      1              \n",
       "44565 2nd      1              \n",
       "44566 2nd      1              \n",
       "44567 2nd      0              \n",
       "44568 2nd      0              \n",
       "44569 2nd      0              \n",
       "44570 2nd      0              \n",
       "44571 2nd      0              \n",
       "44572 2nd      0              \n",
       "44573 2nd      0              \n",
       "44574 2nd      0              \n",
       "44575 2nd      0              \n",
       "44576 2nd      0              \n",
       "44577 2nd      0              \n",
       "44578 2nd      0              \n",
       "44579 2nd      0              "
      ]
     },
     "metadata": {},
     "output_type": "display_data"
    }
   ],
   "source": [
    "RententionData"
   ]
  },
  {
   "cell_type": "code",
   "execution_count": 102,
   "id": "arranged-indian",
   "metadata": {},
   "outputs": [],
   "source": [
    "RententionData$Rural_or_not = relevel(RententionData$Rural_or_not, ref = \"1\")\n",
    "RententionData$BIPOC_or_not = relevel(RententionData$BIPOC_or_not, ref = \"1\")\n",
    "RententionData$FirstGen_or_not = relevel(RententionData$FirstGen_or_not, ref = \"1\")\n",
    "RententionData$PellGrant = relevel(RententionData$PellGrant, ref = \"0\")"
   ]
  },
  {
   "cell_type": "code",
   "execution_count": 90,
   "id": "tamil-briefing",
   "metadata": {
    "scrolled": true
   },
   "outputs": [
    {
     "data": {
      "text/plain": [
       "\n",
       "Call:\n",
       "glm(formula = Retained_or_not ~ Rural_or_not + BIPOC_or_not + \n",
       "    Rural_or_not:BIPOC_or_not, family = binomial, data = RententionData)\n",
       "\n",
       "Deviance Residuals: \n",
       "    Min       1Q   Median       3Q      Max  \n",
       "-1.9915   0.5443   0.5443   0.5946   0.6163  \n",
       "\n",
       "Coefficients:\n",
       "                            Estimate Std. Error z value Pr(>|z|)    \n",
       "(Intercept)                   1.7954     0.1126  15.947  < 2e-16 ***\n",
       "Rural_or_not0                -0.1522     0.1148  -1.325 0.185189    \n",
       "BIPOC_or_not0                -0.2306     0.1248  -1.848 0.064672 .  \n",
       "Rural_or_not0:BIPOC_or_not0   0.4222     0.1281   3.297 0.000977 ***\n",
       "---\n",
       "Signif. codes:  0 ‘***’ 0.001 ‘**’ 0.01 ‘*’ 0.05 ‘.’ 0.1 ‘ ’ 1\n",
       "\n",
       "(Dispersion parameter for binomial family taken to be 1)\n",
       "\n",
       "    Null deviance: 37298  on 44578  degrees of freedom\n",
       "Residual deviance: 37241  on 44575  degrees of freedom\n",
       "AIC: 37249\n",
       "\n",
       "Number of Fisher Scoring iterations: 4\n"
      ]
     },
     "metadata": {},
     "output_type": "display_data"
    },
    {
     "data": {
      "text/plain": [
       "\n",
       "Call:\n",
       "glm(formula = Retained_or_not ~ Rural_or_not + BIPOC_or_not, \n",
       "    family = binomial, data = RententionData)\n",
       "\n",
       "Deviance Residuals: \n",
       "    Min       1Q   Median       3Q      Max  \n",
       "-1.9877   0.5464   0.5464   0.5907   0.6407  \n",
       "\n",
       "Coefficients:\n",
       "              Estimate Std. Error z value Pr(>|z|)    \n",
       "(Intercept)    1.47918    0.05310  27.857  < 2e-16 ***\n",
       "Rural_or_not0  0.17840    0.05067   3.520 0.000431 ***\n",
       "BIPOC_or_not0  0.16867    0.02789   6.049 1.46e-09 ***\n",
       "---\n",
       "Signif. codes:  0 ‘***’ 0.001 ‘**’ 0.01 ‘*’ 0.05 ‘.’ 0.1 ‘ ’ 1\n",
       "\n",
       "(Dispersion parameter for binomial family taken to be 1)\n",
       "\n",
       "    Null deviance: 37298  on 44578  degrees of freedom\n",
       "Residual deviance: 37252  on 44576  degrees of freedom\n",
       "AIC: 37258\n",
       "\n",
       "Number of Fisher Scoring iterations: 4\n"
      ]
     },
     "metadata": {},
     "output_type": "display_data"
    }
   ],
   "source": [
    "glmodT = glm(Retained_or_not ~ Rural_or_not + BIPOC_or_not + Rural_or_not:BIPOC_or_not, data = RententionData, \n",
    "             family = binomial)\n",
    "summary(glmodT)\n",
    "glmodT = glm(Retained_or_not ~ Rural_or_not + BIPOC_or_not, data = RententionData, \n",
    "             family = binomial)\n",
    "summary(glmodT)"
   ]
  },
  {
   "cell_type": "code",
   "execution_count": null,
   "id": "honey-lawyer",
   "metadata": {},
   "outputs": [],
   "source": []
  },
  {
   "cell_type": "code",
   "execution_count": 91,
   "id": "urban-wright",
   "metadata": {
    "scrolled": true
   },
   "outputs": [
    {
     "data": {
      "text/plain": [
       "\n",
       "Call:\n",
       "glm(formula = Retained_or_not ~ Rural_or_not + Fall_Sem, family = binomial, \n",
       "    data = RententionData)\n",
       "\n",
       "Deviance Residuals: \n",
       "    Min       1Q   Median       3Q      Max  \n",
       "-2.1077   0.4792   0.5156   0.5937   0.6851  \n",
       "\n",
       "Coefficients:\n",
       "              Estimate Std. Error z value Pr(>|z|)    \n",
       "(Intercept)    1.95064    0.05255  37.122  < 2e-16 ***\n",
       "Rural_or_not0  0.15584    0.05074   3.072  0.00213 ** \n",
       "Fall_Sem3rd   -0.45998    0.03262 -14.102  < 2e-16 ***\n",
       "Fall_Sem4th   -0.62067    0.03359 -18.476  < 2e-16 ***\n",
       "---\n",
       "Signif. codes:  0 ‘***’ 0.001 ‘**’ 0.01 ‘*’ 0.05 ‘.’ 0.1 ‘ ’ 1\n",
       "\n",
       "(Dispersion parameter for binomial family taken to be 1)\n",
       "\n",
       "    Null deviance: 37298  on 44578  degrees of freedom\n",
       "Residual deviance: 36905  on 44575  degrees of freedom\n",
       "AIC: 36913\n",
       "\n",
       "Number of Fisher Scoring iterations: 4\n"
      ]
     },
     "metadata": {},
     "output_type": "display_data"
    }
   ],
   "source": [
    "glmod = glm(Retained_or_not ~ Rural_or_not + Fall_Sem, data = RententionData, family = binomial)\n",
    "summary(glmod)"
   ]
  },
  {
   "cell_type": "markdown",
   "id": "thrown-gossip",
   "metadata": {},
   "source": [
    "Interpretation:\n",
    "1. The odds that a rural student retains to the 2nd Fall semester averaged over all years = e^1.95 = 7.03. So probability of retention for rural student in the 2nd Fall semester = 87.54% which is same as that obtained from our overall model.\n",
    "2. The odds that a rural student retains to the 3rd Fall semester averaged over all years = e^(1.49) = 4.437. So the probability of retention for rural student in the 3rd Fall semester = 81.6% which is very similar to that obtained from our overall model."
   ]
  },
  {
   "cell_type": "code",
   "execution_count": 6,
   "id": "requested-skating",
   "metadata": {},
   "outputs": [
    {
     "data": {
      "text/html": [
       "'Its important to note here that when Rural_or_not is used as the sole predictor, it comes out to be a significant\\npredictor even when we are not controlling for the Fall_Sem, which is surprising. Is it caused by the difference in\\nthe model, or is it that I am wrong somewhere? Also, when Entry_Year is used, none of the years are significant, but\\nEntryYear2019 is significant at 0.05 level, meaning that for rural students, the retention rate of dropped \\nsignificantly (estimate = -0.161). But this wasnt seen in my overall model. Why?\\nThe interaction between Rural_or_not and FallSem was not significant before, and it is not significant now too.'"
      ],
      "text/latex": [
       "'Its important to note here that when Rural\\_or\\_not is used as the sole predictor, it comes out to be a significant\\textbackslash{}npredictor even when we are not controlling for the Fall\\_Sem, which is surprising. Is it caused by the difference in\\textbackslash{}nthe model, or is it that I am wrong somewhere? Also, when Entry\\_Year is used, none of the years are significant, but\\textbackslash{}nEntryYear2019 is significant at 0.05 level, meaning that for rural students, the retention rate of dropped \\textbackslash{}nsignificantly (estimate = -0.161). But this wasnt seen in my overall model. Why?\\textbackslash{}nThe interaction between Rural\\_or\\_not and FallSem was not significant before, and it is not significant now too.'"
      ],
      "text/markdown": [
       "'Its important to note here that when Rural_or_not is used as the sole predictor, it comes out to be a significant\\npredictor even when we are not controlling for the Fall_Sem, which is surprising. Is it caused by the difference in\\nthe model, or is it that I am wrong somewhere? Also, when Entry_Year is used, none of the years are significant, but\\nEntryYear2019 is significant at 0.05 level, meaning that for rural students, the retention rate of dropped \\nsignificantly (estimate = -0.161). But this wasnt seen in my overall model. Why?\\nThe interaction between Rural_or_not and FallSem was not significant before, and it is not significant now too.'"
      ],
      "text/plain": [
       "[1] \"Its important to note here that when Rural_or_not is used as the sole predictor, it comes out to be a significant\\npredictor even when we are not controlling for the Fall_Sem, which is surprising. Is it caused by the difference in\\nthe model, or is it that I am wrong somewhere? Also, when Entry_Year is used, none of the years are significant, but\\nEntryYear2019 is significant at 0.05 level, meaning that for rural students, the retention rate of dropped \\nsignificantly (estimate = -0.161). But this wasnt seen in my overall model. Why?\\nThe interaction between Rural_or_not and FallSem was not significant before, and it is not significant now too.\""
      ]
     },
     "metadata": {},
     "output_type": "display_data"
    }
   ],
   "source": [
    "'Its important to note here that when Rural_or_not is used as the sole predictor, it comes out to be a significant\n",
    "predictor even when we are not controlling for the Fall_Sem, which is surprising. Is it caused by the difference in\n",
    "the model, or is it that I am wrong somewhere? Also, when Entry_Year is used, none of the years are significant, but\n",
    "EntryYear2019 is significant at 0.05 level, meaning that for rural students, the retention rate of dropped \n",
    "significantly (estimate = -0.161). But this wasnt seen in my overall model. Why?\n",
    "The interaction between Rural_or_not and FallSem was not significant before, and it is not significant now too.'"
   ]
  },
  {
   "cell_type": "markdown",
   "id": "corporate-priest",
   "metadata": {},
   "source": [
    "### For Reporting"
   ]
  },
  {
   "cell_type": "code",
   "execution_count": 103,
   "id": "arabic-reducing",
   "metadata": {
    "scrolled": true
   },
   "outputs": [
    {
     "data": {
      "text/plain": [
       "\n",
       "Call:\n",
       "glm(formula = Retained_or_not ~ Rural_or_not + Gender + BIPOC_or_not + \n",
       "    FirstGen_or_not + PellGrant + Fall_Sem + EntryYear, family = binomial, \n",
       "    data = RententionData)\n",
       "\n",
       "Deviance Residuals: \n",
       "    Min       1Q   Median       3Q      Max  \n",
       "-2.2776   0.4272   0.5292   0.5958   0.9050  \n",
       "\n",
       "Coefficients:\n",
       "                 Estimate Std. Error z value Pr(>|z|)    \n",
       "(Intercept)       1.62978    0.07153  22.785  < 2e-16 ***\n",
       "Rural_or_not0     0.14834    0.05138   2.887  0.00389 ** \n",
       "GenderM          -0.23980    0.02721  -8.814  < 2e-16 ***\n",
       "BIPOC_or_not0     0.01508    0.03055   0.494  0.62145    \n",
       "FirstGen_or_not0  0.61751    0.03376  18.293  < 2e-16 ***\n",
       "PellGrant1        0.07964    0.03333   2.389  0.01688 *  \n",
       "Fall_Sem3rd      -0.49623    0.03495 -14.199  < 2e-16 ***\n",
       "Fall_Sem4th      -0.66136    0.03693 -17.909  < 2e-16 ***\n",
       "EntryYear2015    -0.04761    0.04266  -1.116  0.26443    \n",
       "EntryYear2016     0.02237    0.04299   0.520  0.60277    \n",
       "EntryYear2017     0.02564    0.04301   0.596  0.55106    \n",
       "EntryYear2018    -0.02091    0.05053  -0.414  0.67904    \n",
       "EntryYear2019    -0.15877    0.06588  -2.410  0.01595 *  \n",
       "---\n",
       "Signif. codes:  0 ‘***’ 0.001 ‘**’ 0.01 ‘*’ 0.05 ‘.’ 0.1 ‘ ’ 1\n",
       "\n",
       "(Dispersion parameter for binomial family taken to be 1)\n",
       "\n",
       "    Null deviance: 37298  on 44578  degrees of freedom\n",
       "Residual deviance: 36452  on 44566  degrees of freedom\n",
       "AIC: 36478\n",
       "\n",
       "Number of Fisher Scoring iterations: 4\n"
      ]
     },
     "metadata": {},
     "output_type": "display_data"
    },
    {
     "data": {
      "text/html": [
       "36477.6431574158"
      ],
      "text/latex": [
       "36477.6431574158"
      ],
      "text/markdown": [
       "36477.6431574158"
      ],
      "text/plain": [
       "[1] 36477.64"
      ]
     },
     "metadata": {},
     "output_type": "display_data"
    }
   ],
   "source": [
    "glmod2 = glm(Retained_or_not ~ Rural_or_not + Gender + BIPOC_or_not + FirstGen_or_not + PellGrant + Fall_Sem + EntryYear,\n",
    "             data = RententionData, family = binomial)\n",
    "summary(glmod2)\n",
    "\n",
    "AIC(glmod2)"
   ]
  },
  {
   "cell_type": "markdown",
   "id": "buried-register",
   "metadata": {},
   "source": [
    "Interesting! \n",
    "So even if we control for the gender of the student, the BIPOC status of the student, whether the student is a FirstGen student or not, and whether the student received the Pell Grant or not, we see that the Rural_or_not is a \n",
    "statistically significant predictor at the 0.05 level. In fact controlling for others, the odds of a non-rural student to retain is more than that of a rural student on average by a multiplicative factor of e^(0.149). Calculate this. Then interpret the other estimates too, like Pell Grant recepients have higher odds, FirstGen students have higher odds, again keeping everything else fixed. Super interesting --- Given that you are a rural, female, BIPOC, First Gen student, your retention to 2nd Fall significantly increases when you are a recepient of the Pell Grant!\n",
    "\n",
    "We note that BIPOC or not is not a good predictor of your retention, once the other predictors are controlled for. We might explore this further, also let us look at the interaction terms. Since this study is primarily on the rural and non-rural students, we'll look at the interaction terms between rural_or_not and others, and we leave the interaction terms for the other combinations as future study."
   ]
  },
  {
   "cell_type": "code",
   "execution_count": 47,
   "id": "sophisticated-facing",
   "metadata": {},
   "outputs": [
    {
     "data": {
      "text/html": [
       "'Question: Can we say multiplicative factor as times? The odds of X is N times the odds of Y? Also, when we say\\ncontrolling for other factors, we mean fixing them on the baseline value right? because the beta coefficients are \\ndifference from beta0, so we should specify what this beta0 is right? But that\\'s not possible when interaction terms\\nare significant right? So how exactly should I interpret summary(glmod3)? I am mainly interested in the rural, BIPOC\\nand their interaction term interpretation.'"
      ],
      "text/latex": [
       "'Question: Can we say multiplicative factor as times? The odds of X is N times the odds of Y? Also, when we say\\textbackslash{}ncontrolling for other factors, we mean fixing them on the baseline value right? because the beta coefficients are \\textbackslash{}ndifference from beta0, so we should specify what this beta0 is right? But that\\textbackslash{}'s not possible when interaction terms\\textbackslash{}nare significant right? So how exactly should I interpret summary(glmod3)? I am mainly interested in the rural, BIPOC\\textbackslash{}nand their interaction term interpretation.'"
      ],
      "text/markdown": [
       "'Question: Can we say multiplicative factor as times? The odds of X is N times the odds of Y? Also, when we say\\ncontrolling for other factors, we mean fixing them on the baseline value right? because the beta coefficients are \\ndifference from beta0, so we should specify what this beta0 is right? But that\\'s not possible when interaction terms\\nare significant right? So how exactly should I interpret summary(glmod3)? I am mainly interested in the rural, BIPOC\\nand their interaction term interpretation.'"
      ],
      "text/plain": [
       "[1] \"Question: Can we say multiplicative factor as times? The odds of X is N times the odds of Y? Also, when we say\\ncontrolling for other factors, we mean fixing them on the baseline value right? because the beta coefficients are \\ndifference from beta0, so we should specify what this beta0 is right? But that's not possible when interaction terms\\nare significant right? So how exactly should I interpret summary(glmod3)? I am mainly interested in the rural, BIPOC\\nand their interaction term interpretation.\""
      ]
     },
     "metadata": {},
     "output_type": "display_data"
    }
   ],
   "source": [
    "\"Question: Can we say multiplicative factor as times? The odds of X is N times the odds of Y? Also, when we say\n",
    "controlling for other factors, we mean fixing them on the baseline value right? because the beta coefficients are \n",
    "difference from beta0, so we should specify what this beta0 is right? But that's not possible when interaction terms\n",
    "are significant right? So how exactly should I interpret summary(glmod3)? I am mainly interested in the rural, BIPOC\n",
    "and their interaction term interpretation.\""
   ]
  },
  {
   "cell_type": "code",
   "execution_count": 79,
   "id": "advised-protection",
   "metadata": {
    "scrolled": false
   },
   "outputs": [
    {
     "data": {
      "text/plain": [
       "\n",
       "Call:\n",
       "glm(formula = Retained_or_not ~ Rural_or_not + Gender + BIPOC_or_not + \n",
       "    FirstGen_or_not + PellGrant + Fall_Sem + Rural_or_not:Gender + \n",
       "    Rural_or_not:BIPOC_or_not + Rural_or_not:FirstGen_or_not + \n",
       "    Rural_or_not:PellGrant, family = binomial, data = RententionData)\n",
       "\n",
       "Deviance Residuals: \n",
       "    Min       1Q   Median       3Q      Max  \n",
       "-2.2744   0.4302   0.5256   0.5938   0.9469  \n",
       "\n",
       "Coefficients:\n",
       "                               Estimate Std. Error z value Pr(>|z|)    \n",
       "(Intercept)                     2.16477    0.15292  14.156  < 2e-16 ***\n",
       "Rural_or_not0                  -0.46285    0.15657  -2.956 0.003115 ** \n",
       "GenderM                        -0.36814    0.09917  -3.712 0.000205 ***\n",
       "BIPOC_or_not0                  -0.41734    0.13256  -3.148 0.001642 ** \n",
       "FirstGen_or_not0                0.52581    0.11433   4.599 4.24e-06 ***\n",
       "PellGrant1                     -0.18234    0.10592  -1.721 0.085175 .  \n",
       "Fall_Sem3rd                    -0.46603    0.03279 -14.211  < 2e-16 ***\n",
       "Fall_Sem4th                    -0.62725    0.03379 -18.562  < 2e-16 ***\n",
       "Rural_or_not0:GenderM           0.14010    0.10312   1.359 0.174270    \n",
       "Rural_or_not0:BIPOC_or_not0     0.45913    0.13624   3.370 0.000751 ***\n",
       "Rural_or_not0:FirstGen_or_not0  0.10602    0.11966   0.886 0.375650    \n",
       "Rural_or_not0:PellGrant1        0.29311    0.11160   2.626 0.008631 ** \n",
       "---\n",
       "Signif. codes:  0 ‘***’ 0.001 ‘**’ 0.01 ‘*’ 0.05 ‘.’ 0.1 ‘ ’ 1\n",
       "\n",
       "(Dispersion parameter for binomial family taken to be 1)\n",
       "\n",
       "    Null deviance: 37298  on 44578  degrees of freedom\n",
       "Residual deviance: 36442  on 44567  degrees of freedom\n",
       "AIC: 36466\n",
       "\n",
       "Number of Fisher Scoring iterations: 4\n"
      ]
     },
     "metadata": {},
     "output_type": "display_data"
    },
    {
     "data": {
      "text/html": [
       "36466.2108346004"
      ],
      "text/latex": [
       "36466.2108346004"
      ],
      "text/markdown": [
       "36466.2108346004"
      ],
      "text/plain": [
       "[1] 36466.21"
      ]
     },
     "metadata": {},
     "output_type": "display_data"
    }
   ],
   "source": [
    "glmod3 = glm(Retained_or_not ~ Rural_or_not + Gender + BIPOC_or_not + FirstGen_or_not + PellGrant + Fall_Sem\n",
    "             + Rural_or_not:Gender + Rural_or_not:BIPOC_or_not + Rural_or_not:FirstGen_or_not + \n",
    "             Rural_or_not:PellGrant,\n",
    "             data = RententionData, family = binomial)\n",
    "summary(glmod3)\n",
    "AIC(glmod3)"
   ]
  },
  {
   "cell_type": "markdown",
   "id": "vanilla-virtue",
   "metadata": {},
   "source": [
    "Firstly, since the interaction terms are significant, we cannot simply interpret the estimates of the main effects alone.\n",
    "\n",
    "Secondly, there is no significant interaction between rural_or_not and gender, and that between rural_or_not and FirstGen, but there is one between rural_or_not and BIPOC, and rural_or_not and PellGrant. For intuition, let's plot. When there are a lot of interaction terms, 4 here, interpretation does become difficult. For example, if only rural and PellGrant and their interaction term is used as predictor, that interaction term is not stat. significant, but here when other predictors are controlled for, the interaction term Rural_or_not0:PellGrant1 does become significant."
   ]
  },
  {
   "cell_type": "code",
   "execution_count": 59,
   "id": "coupled-norway",
   "metadata": {},
   "outputs": [
    {
     "data": {
      "text/plain": [
       "\n",
       "Call:\n",
       "glm(formula = Retained_or_not ~ Rural_or_not + Gender + BIPOC_or_not + \n",
       "    FirstGen_or_not + PellGrant + Fall_Sem + Rural_or_not:BIPOC_or_not + \n",
       "    Rural_or_not:PellGrant, family = binomial, data = RententionData)\n",
       "\n",
       "Deviance Residuals: \n",
       "    Min       1Q   Median       3Q      Max  \n",
       "-2.2721   0.4206   0.5244   0.5977   0.9472  \n",
       "\n",
       "Coefficients:\n",
       "                            Estimate Std. Error z value Pr(>|z|)    \n",
       "(Intercept)                  2.04099    0.13111  15.567  < 2e-16 ***\n",
       "Rural_or_not0               -0.32702    0.13063  -2.503 0.012301 *  \n",
       "GenderM                     -0.23863    0.02720  -8.772  < 2e-16 ***\n",
       "BIPOC_or_not0               -0.44560    0.12900  -3.454 0.000552 ***\n",
       "FirstGen_or_not0             0.62241    0.03377  18.431  < 2e-16 ***\n",
       "PellGrant1                  -0.16079    0.10419  -1.543 0.122755    \n",
       "Fall_Sem3rd                 -0.46593    0.03279 -14.208  < 2e-16 ***\n",
       "Fall_Sem4th                 -0.62706    0.03379 -18.558  < 2e-16 ***\n",
       "Rural_or_not0:BIPOC_or_not0  0.48977    0.13216   3.706 0.000211 ***\n",
       "Rural_or_not0:PellGrant1     0.26797    0.10928   2.452 0.014202 *  \n",
       "---\n",
       "Signif. codes:  0 ‘***’ 0.001 ‘**’ 0.01 ‘*’ 0.05 ‘.’ 0.1 ‘ ’ 1\n",
       "\n",
       "(Dispersion parameter for binomial family taken to be 1)\n",
       "\n",
       "    Null deviance: 37298  on 44578  degrees of freedom\n",
       "Residual deviance: 36445  on 44569  degrees of freedom\n",
       "AIC: 36465\n",
       "\n",
       "Number of Fisher Scoring iterations: 4\n"
      ]
     },
     "metadata": {},
     "output_type": "display_data"
    },
    {
     "data": {
      "text/html": [
       "36464.9420004051"
      ],
      "text/latex": [
       "36464.9420004051"
      ],
      "text/markdown": [
       "36464.9420004051"
      ],
      "text/plain": [
       "[1] 36464.94"
      ]
     },
     "metadata": {},
     "output_type": "display_data"
    }
   ],
   "source": [
    "glmod4 = glm(Retained_or_not ~ Rural_or_not + Gender + BIPOC_or_not + FirstGen_or_not + PellGrant + Fall_Sem\n",
    "             + Rural_or_not:BIPOC_or_not + Rural_or_not:PellGrant,\n",
    "             data = RententionData, family = binomial)\n",
    "summary(glmod4)\n",
    "AIC(glmod4)"
   ]
  },
  {
   "cell_type": "code",
   "execution_count": 24,
   "id": "floral-choice",
   "metadata": {},
   "outputs": [
    {
     "data": {
      "text/html": [
       "'Question: When only predictors are rural_or_not and gender, we find that even after controlling for gender, the\\nrural_or_not is statistically significant, as well as Gender. But when we introduce an interaction term between \\nRural_or_not:Gender, we see that this interaction term is not significant, yet now the rural_or_not predictor has \\nbecome non-significant. How does introduce a non-significant term in the model change the significance of another\\nsignificant predictor?'"
      ],
      "text/latex": [
       "'Question: When only predictors are rural\\_or\\_not and gender, we find that even after controlling for gender, the\\textbackslash{}nrural\\_or\\_not is statistically significant, as well as Gender. But when we introduce an interaction term between \\textbackslash{}nRural\\_or\\_not:Gender, we see that this interaction term is not significant, yet now the rural\\_or\\_not predictor has \\textbackslash{}nbecome non-significant. How does introduce a non-significant term in the model change the significance of another\\textbackslash{}nsignificant predictor?'"
      ],
      "text/markdown": [
       "'Question: When only predictors are rural_or_not and gender, we find that even after controlling for gender, the\\nrural_or_not is statistically significant, as well as Gender. But when we introduce an interaction term between \\nRural_or_not:Gender, we see that this interaction term is not significant, yet now the rural_or_not predictor has \\nbecome non-significant. How does introduce a non-significant term in the model change the significance of another\\nsignificant predictor?'"
      ],
      "text/plain": [
       "[1] \"Question: When only predictors are rural_or_not and gender, we find that even after controlling for gender, the\\nrural_or_not is statistically significant, as well as Gender. But when we introduce an interaction term between \\nRural_or_not:Gender, we see that this interaction term is not significant, yet now the rural_or_not predictor has \\nbecome non-significant. How does introduce a non-significant term in the model change the significance of another\\nsignificant predictor?\""
      ]
     },
     "metadata": {},
     "output_type": "display_data"
    }
   ],
   "source": [
    "\"Question: When only predictors are rural_or_not and gender, we find that even after controlling for gender, the\n",
    "rural_or_not is statistically significant, as well as Gender. But when we introduce an interaction term between \n",
    "Rural_or_not:Gender, we see that this interaction term is not significant, yet now the rural_or_not predictor has \n",
    "become non-significant. How does introduce a non-significant term in the model change the significance of another\n",
    "significant predictor?\""
   ]
  },
  {
   "cell_type": "code",
   "execution_count": 82,
   "id": "patent-cause",
   "metadata": {},
   "outputs": [
    {
     "data": {
      "text/plain": [
       "\n",
       "Call:\n",
       "glm(formula = Retained_or_not ~ Rural_or_not + Gender, family = binomial, \n",
       "    data = RententionData)\n",
       "\n",
       "Deviance Residuals: \n",
       "    Min       1Q   Median       3Q      Max  \n",
       "-2.0122   0.5322   0.5322   0.5885   0.6327  \n",
       "\n",
       "Coefficients:\n",
       "              Estimate Std. Error z value Pr(>|z|)    \n",
       "(Intercept)    1.72424    0.05073  33.991  < 2e-16 ***\n",
       "Rural_or_not0  0.15861    0.05054   3.138   0.0017 ** \n",
       "GenderM       -0.21718    0.02692  -8.068 7.12e-16 ***\n",
       "---\n",
       "Signif. codes:  0 ‘***’ 0.001 ‘**’ 0.01 ‘*’ 0.05 ‘.’ 0.1 ‘ ’ 1\n",
       "\n",
       "(Dispersion parameter for binomial family taken to be 1)\n",
       "\n",
       "    Null deviance: 37298  on 44578  degrees of freedom\n",
       "Residual deviance: 37223  on 44576  degrees of freedom\n",
       "AIC: 37229\n",
       "\n",
       "Number of Fisher Scoring iterations: 4\n"
      ]
     },
     "metadata": {},
     "output_type": "display_data"
    }
   ],
   "source": [
    "glmod2 = glm(Retained_or_not ~ Rural_or_not + Gender,\n",
    "             data = RententionData, family = binomial)\n",
    "summary(glmod2)"
   ]
  },
  {
   "cell_type": "code",
   "execution_count": 85,
   "id": "tight-class",
   "metadata": {},
   "outputs": [
    {
     "data": {
      "text/plain": [
       "\n",
       "Call:\n",
       "glm(formula = Retained_or_not ~ Rural_or_not + PellGrant, family = binomial, \n",
       "    data = RententionData)\n",
       "\n",
       "Deviance Residuals: \n",
       "    Min       1Q   Median       3Q      Max  \n",
       "-1.9776   0.5524   0.5524   0.5901   0.6300  \n",
       "\n",
       "Coefficients:\n",
       "              Estimate Std. Error z value Pr(>|z|)    \n",
       "(Intercept)    1.65987    0.04971  33.391  < 2e-16 ***\n",
       "Rural_or_not0  0.14301    0.05058   2.827  0.00469 ** \n",
       "PellGrant1    -0.14333    0.02992  -4.790 1.66e-06 ***\n",
       "---\n",
       "Signif. codes:  0 ‘***’ 0.001 ‘**’ 0.01 ‘*’ 0.05 ‘.’ 0.1 ‘ ’ 1\n",
       "\n",
       "(Dispersion parameter for binomial family taken to be 1)\n",
       "\n",
       "    Null deviance: 37298  on 44578  degrees of freedom\n",
       "Residual deviance: 37266  on 44576  degrees of freedom\n",
       "AIC: 37272\n",
       "\n",
       "Number of Fisher Scoring iterations: 4\n"
      ]
     },
     "metadata": {},
     "output_type": "display_data"
    }
   ],
   "source": [
    "glmod2 = glm(Retained_or_not ~ Rural_or_not + PellGrant,\n",
    "             data = RententionData, family = binomial)\n",
    "summary(glmod2)"
   ]
  },
  {
   "cell_type": "code",
   "execution_count": 37,
   "id": "assisted-sending",
   "metadata": {},
   "outputs": [
    {
     "data": {
      "text/plain": [
       "\n",
       "Call:\n",
       "glm(formula = Retained_or_not ~ PellGrant + Rural_or_not, family = binomial, \n",
       "    data = RententionData)\n",
       "\n",
       "Deviance Residuals: \n",
       "    Min       1Q   Median       3Q      Max  \n",
       "-1.9776   0.5524   0.5524   0.5901   0.6300  \n",
       "\n",
       "Coefficients:\n",
       "              Estimate Std. Error z value Pr(>|z|)    \n",
       "(Intercept)    1.65987    0.04971  33.391  < 2e-16 ***\n",
       "PellGrant1    -0.14333    0.02992  -4.790 1.66e-06 ***\n",
       "Rural_or_not0  0.14301    0.05058   2.827  0.00469 ** \n",
       "---\n",
       "Signif. codes:  0 ‘***’ 0.001 ‘**’ 0.01 ‘*’ 0.05 ‘.’ 0.1 ‘ ’ 1\n",
       "\n",
       "(Dispersion parameter for binomial family taken to be 1)\n",
       "\n",
       "    Null deviance: 37298  on 44578  degrees of freedom\n",
       "Residual deviance: 37266  on 44576  degrees of freedom\n",
       "AIC: 37272\n",
       "\n",
       "Number of Fisher Scoring iterations: 4\n"
      ]
     },
     "metadata": {},
     "output_type": "display_data"
    }
   ],
   "source": [
    "glmod2 = glm(Retained_or_not ~ PellGrant + Rural_or_not,\n",
    "             data = RententionData, family = binomial)\n",
    "summary(glmod2)"
   ]
  },
  {
   "cell_type": "code",
   "execution_count": 45,
   "id": "consolidated-lloyd",
   "metadata": {},
   "outputs": [
    {
     "data": {
      "text/html": [
       "'Question: When model has only pellgrant, pellgrant is significant with negative sign, meaning a pell recepient has\\nlower chance of retaining. When model has only rural_or_not, pellgrant and their interaction term, it is still\\nsignificantly negative, and being a non rural significantly increases your retention rate. When model has pellgrant, \\nrural_or_not and an interaction term, that interaction term is not significant, so maybe it is not worth keeping it in\\nthe model. So coming back to only pell and rural, pell recepient has a negative association. But when we control for\\nother factors in glmod2, meaning we fix BIPOC, FirstGen, and Gender, PellGrant1 has a positive significance. How\\nshould we interpret this change? How come in the pell + rural model, a rural student on average significantly\\ndecreases their chance of retention if they are a pell recepeint not controlling for others? How to interpret this?'"
      ],
      "text/latex": [
       "'Question: When model has only pellgrant, pellgrant is significant with negative sign, meaning a pell recepient has\\textbackslash{}nlower chance of retaining. When model has only rural\\_or\\_not, pellgrant and their interaction term, it is still\\textbackslash{}nsignificantly negative, and being a non rural significantly increases your retention rate. When model has pellgrant, \\textbackslash{}nrural\\_or\\_not and an interaction term, that interaction term is not significant, so maybe it is not worth keeping it in\\textbackslash{}nthe model. So coming back to only pell and rural, pell recepient has a negative association. But when we control for\\textbackslash{}nother factors in glmod2, meaning we fix BIPOC, FirstGen, and Gender, PellGrant1 has a positive significance. How\\textbackslash{}nshould we interpret this change? How come in the pell + rural model, a rural student on average significantly\\textbackslash{}ndecreases their chance of retention if they are a pell recepeint not controlling for others? How to interpret this?'"
      ],
      "text/markdown": [
       "'Question: When model has only pellgrant, pellgrant is significant with negative sign, meaning a pell recepient has\\nlower chance of retaining. When model has only rural_or_not, pellgrant and their interaction term, it is still\\nsignificantly negative, and being a non rural significantly increases your retention rate. When model has pellgrant, \\nrural_or_not and an interaction term, that interaction term is not significant, so maybe it is not worth keeping it in\\nthe model. So coming back to only pell and rural, pell recepient has a negative association. But when we control for\\nother factors in glmod2, meaning we fix BIPOC, FirstGen, and Gender, PellGrant1 has a positive significance. How\\nshould we interpret this change? How come in the pell + rural model, a rural student on average significantly\\ndecreases their chance of retention if they are a pell recepeint not controlling for others? How to interpret this?'"
      ],
      "text/plain": [
       "[1] \"Question: When model has only pellgrant, pellgrant is significant with negative sign, meaning a pell recepient has\\nlower chance of retaining. When model has only rural_or_not, pellgrant and their interaction term, it is still\\nsignificantly negative, and being a non rural significantly increases your retention rate. When model has pellgrant, \\nrural_or_not and an interaction term, that interaction term is not significant, so maybe it is not worth keeping it in\\nthe model. So coming back to only pell and rural, pell recepient has a negative association. But when we control for\\nother factors in glmod2, meaning we fix BIPOC, FirstGen, and Gender, PellGrant1 has a positive significance. How\\nshould we interpret this change? How come in the pell + rural model, a rural student on average significantly\\ndecreases their chance of retention if they are a pell recepeint not controlling for others? How to interpret this?\""
      ]
     },
     "metadata": {},
     "output_type": "display_data"
    }
   ],
   "source": [
    "\"Question: When model has only pellgrant, pellgrant is significant with negative sign, meaning a pell recepient has\n",
    "lower chance of retaining. When model has only rural_or_not, pellgrant and their interaction term, it is still\n",
    "significantly negative, and being a non rural significantly increases your retention rate. When model has pellgrant, \n",
    "rural_or_not and an interaction term, that interaction term is not significant, so maybe it is not worth keeping it in\n",
    "the model. So coming back to only pell and rural, pell recepient has a negative association. But when we control for\n",
    "other factors in glmod2, meaning we fix BIPOC, FirstGen, and Gender, PellGrant1 has a positive significance. How\n",
    "should we interpret this change? How come in the pell + rural model, a rural student on average significantly\n",
    "decreases their chance of retention if they are a pell recepeint not controlling for others? How to interpret this?\""
   ]
  },
  {
   "cell_type": "code",
   "execution_count": 29,
   "id": "unavailable-liability",
   "metadata": {
    "scrolled": true
   },
   "outputs": [
    {
     "data": {
      "text/plain": [
       "\n",
       "Call:\n",
       "glm(formula = Retained_or_not ~ Rural_or_not + BIPOC_or_not + \n",
       "    Rural_or_not:BIPOC_or_not, family = binomial, data = RententionData)\n",
       "\n",
       "Deviance Residuals: \n",
       "    Min       1Q   Median       3Q      Max  \n",
       "-1.9915   0.5443   0.5443   0.5946   0.6163  \n",
       "\n",
       "Coefficients:\n",
       "                            Estimate Std. Error z value Pr(>|z|)    \n",
       "(Intercept)                   1.7954     0.1126  15.947  < 2e-16 ***\n",
       "Rural_or_not0                -0.1522     0.1148  -1.325 0.185189    \n",
       "BIPOC_or_not0                -0.2306     0.1248  -1.848 0.064672 .  \n",
       "Rural_or_not0:BIPOC_or_not0   0.4222     0.1281   3.297 0.000977 ***\n",
       "---\n",
       "Signif. codes:  0 ‘***’ 0.001 ‘**’ 0.01 ‘*’ 0.05 ‘.’ 0.1 ‘ ’ 1\n",
       "\n",
       "(Dispersion parameter for binomial family taken to be 1)\n",
       "\n",
       "    Null deviance: 37298  on 44578  degrees of freedom\n",
       "Residual deviance: 37241  on 44575  degrees of freedom\n",
       "AIC: 37249\n",
       "\n",
       "Number of Fisher Scoring iterations: 4\n"
      ]
     },
     "metadata": {},
     "output_type": "display_data"
    }
   ],
   "source": [
    "glmod2 = glm(Retained_or_not ~ Rural_or_not + BIPOC_or_not + Rural_or_not:BIPOC_or_not,\n",
    "             data = RententionData, family = binomial)\n",
    "summary(glmod2)"
   ]
  },
  {
   "cell_type": "code",
   "execution_count": null,
   "id": "champion-drove",
   "metadata": {},
   "outputs": [],
   "source": []
  },
  {
   "cell_type": "code",
   "execution_count": null,
   "id": "combined-rhythm",
   "metadata": {},
   "outputs": [],
   "source": []
  },
  {
   "cell_type": "code",
   "execution_count": null,
   "id": "biblical-drama",
   "metadata": {},
   "outputs": [],
   "source": []
  },
  {
   "cell_type": "markdown",
   "id": "demographic-germany",
   "metadata": {},
   "source": [
    "## Re-working with the new dataset"
   ]
  },
  {
   "cell_type": "code",
   "execution_count": 104,
   "id": "fitted-alexander",
   "metadata": {
    "scrolled": true
   },
   "outputs": [
    {
     "data": {
      "text/html": [
       "<table class=\"dataframe\">\n",
       "<caption>A data.frame: 35256 × 8</caption>\n",
       "<thead>\n",
       "\t<tr><th scope=col>Rural_Status</th><th scope=col>Gender</th><th scope=col>BIPOC_Status</th><th scope=col>FirstGen_Status</th><th scope=col>Pell_Recepient</th><th scope=col>EntryYear</th><th scope=col>Fall_Sem</th><th scope=col>Retained_or_not</th></tr>\n",
       "\t<tr><th scope=col>&lt;int&gt;</th><th scope=col>&lt;chr&gt;</th><th scope=col>&lt;int&gt;</th><th scope=col>&lt;int&gt;</th><th scope=col>&lt;int&gt;</th><th scope=col>&lt;int&gt;</th><th scope=col>&lt;chr&gt;</th><th scope=col>&lt;dbl&gt;</th></tr>\n",
       "</thead>\n",
       "<tbody>\n",
       "\t<tr><td>0</td><td>M</td><td>1</td><td>1</td><td>1</td><td>2014</td><td>2ndFall</td><td>1</td></tr>\n",
       "\t<tr><td>0</td><td>M</td><td>1</td><td>1</td><td>1</td><td>2014</td><td>3rdFall</td><td>1</td></tr>\n",
       "\t<tr><td>0</td><td>M</td><td>1</td><td>1</td><td>1</td><td>2014</td><td>4thFall</td><td>1</td></tr>\n",
       "\t<tr><td>1</td><td>M</td><td>0</td><td>0</td><td>0</td><td>2014</td><td>2ndFall</td><td>1</td></tr>\n",
       "\t<tr><td>1</td><td>M</td><td>0</td><td>0</td><td>0</td><td>2014</td><td>3rdFall</td><td>1</td></tr>\n",
       "\t<tr><td>1</td><td>M</td><td>0</td><td>0</td><td>0</td><td>2014</td><td>4thFall</td><td>1</td></tr>\n",
       "\t<tr><td>0</td><td>M</td><td>0</td><td>0</td><td>0</td><td>2014</td><td>2ndFall</td><td>1</td></tr>\n",
       "\t<tr><td>0</td><td>M</td><td>0</td><td>0</td><td>0</td><td>2014</td><td>3rdFall</td><td>0</td></tr>\n",
       "\t<tr><td>0</td><td>M</td><td>0</td><td>0</td><td>0</td><td>2014</td><td>4thFall</td><td>0</td></tr>\n",
       "\t<tr><td>0</td><td>M</td><td>0</td><td>0</td><td>1</td><td>2014</td><td>2ndFall</td><td>1</td></tr>\n",
       "\t<tr><td>0</td><td>M</td><td>0</td><td>0</td><td>1</td><td>2014</td><td>3rdFall</td><td>1</td></tr>\n",
       "\t<tr><td>0</td><td>M</td><td>0</td><td>0</td><td>1</td><td>2014</td><td>4thFall</td><td>1</td></tr>\n",
       "\t<tr><td>1</td><td>M</td><td>0</td><td>0</td><td>1</td><td>2015</td><td>2ndFall</td><td>1</td></tr>\n",
       "\t<tr><td>1</td><td>M</td><td>0</td><td>0</td><td>1</td><td>2015</td><td>3rdFall</td><td>1</td></tr>\n",
       "\t<tr><td>1</td><td>M</td><td>0</td><td>0</td><td>1</td><td>2015</td><td>4thFall</td><td>1</td></tr>\n",
       "\t<tr><td>0</td><td>F</td><td>1</td><td>1</td><td>1</td><td>2014</td><td>2ndFall</td><td>1</td></tr>\n",
       "\t<tr><td>0</td><td>F</td><td>1</td><td>1</td><td>1</td><td>2014</td><td>3rdFall</td><td>1</td></tr>\n",
       "\t<tr><td>0</td><td>F</td><td>1</td><td>1</td><td>1</td><td>2014</td><td>4thFall</td><td>1</td></tr>\n",
       "\t<tr><td>0</td><td>F</td><td>0</td><td>0</td><td>0</td><td>2015</td><td>2ndFall</td><td>1</td></tr>\n",
       "\t<tr><td>0</td><td>F</td><td>0</td><td>0</td><td>0</td><td>2015</td><td>3rdFall</td><td>1</td></tr>\n",
       "\t<tr><td>0</td><td>F</td><td>0</td><td>0</td><td>0</td><td>2015</td><td>4thFall</td><td>1</td></tr>\n",
       "\t<tr><td>0</td><td>M</td><td>0</td><td>0</td><td>0</td><td>2015</td><td>2ndFall</td><td>1</td></tr>\n",
       "\t<tr><td>0</td><td>M</td><td>0</td><td>0</td><td>0</td><td>2015</td><td>3rdFall</td><td>1</td></tr>\n",
       "\t<tr><td>0</td><td>M</td><td>0</td><td>0</td><td>0</td><td>2015</td><td>4thFall</td><td>1</td></tr>\n",
       "\t<tr><td>0</td><td>M</td><td>0</td><td>0</td><td>0</td><td>2015</td><td>2ndFall</td><td>1</td></tr>\n",
       "\t<tr><td>0</td><td>M</td><td>0</td><td>0</td><td>0</td><td>2015</td><td>3rdFall</td><td>1</td></tr>\n",
       "\t<tr><td>0</td><td>M</td><td>0</td><td>0</td><td>0</td><td>2015</td><td>4thFall</td><td>1</td></tr>\n",
       "\t<tr><td>0</td><td>M</td><td>0</td><td>0</td><td>0</td><td>2014</td><td>2ndFall</td><td>1</td></tr>\n",
       "\t<tr><td>0</td><td>M</td><td>0</td><td>0</td><td>0</td><td>2014</td><td>3rdFall</td><td>1</td></tr>\n",
       "\t<tr><td>0</td><td>M</td><td>0</td><td>0</td><td>0</td><td>2014</td><td>4thFall</td><td>1</td></tr>\n",
       "\t<tr><td>⋮</td><td>⋮</td><td>⋮</td><td>⋮</td><td>⋮</td><td>⋮</td><td>⋮</td><td>⋮</td></tr>\n",
       "\t<tr><td>0</td><td>M</td><td>0</td><td>0</td><td>0</td><td>2017</td><td>2ndFall</td><td>1</td></tr>\n",
       "\t<tr><td>0</td><td>M</td><td>0</td><td>0</td><td>0</td><td>2017</td><td>3rdFall</td><td>1</td></tr>\n",
       "\t<tr><td>0</td><td>M</td><td>0</td><td>0</td><td>0</td><td>2017</td><td>4thFall</td><td>1</td></tr>\n",
       "\t<tr><td>0</td><td>M</td><td>1</td><td>0</td><td>0</td><td>2017</td><td>2ndFall</td><td>1</td></tr>\n",
       "\t<tr><td>0</td><td>M</td><td>1</td><td>0</td><td>0</td><td>2017</td><td>3rdFall</td><td>1</td></tr>\n",
       "\t<tr><td>0</td><td>M</td><td>1</td><td>0</td><td>0</td><td>2017</td><td>4thFall</td><td>1</td></tr>\n",
       "\t<tr><td>0</td><td>F</td><td>0</td><td>0</td><td>0</td><td>2017</td><td>2ndFall</td><td>1</td></tr>\n",
       "\t<tr><td>0</td><td>F</td><td>0</td><td>0</td><td>0</td><td>2017</td><td>3rdFall</td><td>1</td></tr>\n",
       "\t<tr><td>0</td><td>F</td><td>0</td><td>0</td><td>0</td><td>2017</td><td>4thFall</td><td>1</td></tr>\n",
       "\t<tr><td>0</td><td>M</td><td>0</td><td>0</td><td>0</td><td>2017</td><td>2ndFall</td><td>1</td></tr>\n",
       "\t<tr><td>0</td><td>M</td><td>0</td><td>0</td><td>0</td><td>2017</td><td>3rdFall</td><td>1</td></tr>\n",
       "\t<tr><td>0</td><td>M</td><td>0</td><td>0</td><td>0</td><td>2017</td><td>4thFall</td><td>0</td></tr>\n",
       "\t<tr><td>0</td><td>M</td><td>0</td><td>1</td><td>0</td><td>2014</td><td>2ndFall</td><td>0</td></tr>\n",
       "\t<tr><td>0</td><td>M</td><td>0</td><td>1</td><td>0</td><td>2014</td><td>3rdFall</td><td>0</td></tr>\n",
       "\t<tr><td>0</td><td>M</td><td>0</td><td>1</td><td>0</td><td>2014</td><td>4thFall</td><td>0</td></tr>\n",
       "\t<tr><td>0</td><td>M</td><td>0</td><td>0</td><td>0</td><td>2014</td><td>2ndFall</td><td>1</td></tr>\n",
       "\t<tr><td>0</td><td>M</td><td>0</td><td>0</td><td>0</td><td>2014</td><td>3rdFall</td><td>1</td></tr>\n",
       "\t<tr><td>0</td><td>M</td><td>0</td><td>0</td><td>0</td><td>2014</td><td>4thFall</td><td>1</td></tr>\n",
       "\t<tr><td>0</td><td>M</td><td>0</td><td>0</td><td>1</td><td>2014</td><td>2ndFall</td><td>1</td></tr>\n",
       "\t<tr><td>0</td><td>M</td><td>0</td><td>0</td><td>1</td><td>2014</td><td>3rdFall</td><td>1</td></tr>\n",
       "\t<tr><td>0</td><td>M</td><td>0</td><td>0</td><td>1</td><td>2014</td><td>4thFall</td><td>1</td></tr>\n",
       "\t<tr><td>0</td><td>M</td><td>0</td><td>1</td><td>1</td><td>2015</td><td>2ndFall</td><td>0</td></tr>\n",
       "\t<tr><td>0</td><td>M</td><td>0</td><td>1</td><td>1</td><td>2015</td><td>3rdFall</td><td>0</td></tr>\n",
       "\t<tr><td>0</td><td>M</td><td>0</td><td>1</td><td>1</td><td>2015</td><td>4thFall</td><td>0</td></tr>\n",
       "\t<tr><td>0</td><td>F</td><td>0</td><td>0</td><td>0</td><td>2014</td><td>2ndFall</td><td>1</td></tr>\n",
       "\t<tr><td>0</td><td>F</td><td>0</td><td>0</td><td>0</td><td>2014</td><td>3rdFall</td><td>1</td></tr>\n",
       "\t<tr><td>0</td><td>F</td><td>0</td><td>0</td><td>0</td><td>2014</td><td>4thFall</td><td>1</td></tr>\n",
       "\t<tr><td>1</td><td>F</td><td>0</td><td>0</td><td>0</td><td>2014</td><td>2ndFall</td><td>1</td></tr>\n",
       "\t<tr><td>1</td><td>F</td><td>0</td><td>0</td><td>0</td><td>2014</td><td>3rdFall</td><td>1</td></tr>\n",
       "\t<tr><td>1</td><td>F</td><td>0</td><td>0</td><td>0</td><td>2014</td><td>4thFall</td><td>1</td></tr>\n",
       "</tbody>\n",
       "</table>\n"
      ],
      "text/latex": [
       "A data.frame: 35256 × 8\n",
       "\\begin{tabular}{llllllll}\n",
       " Rural\\_Status & Gender & BIPOC\\_Status & FirstGen\\_Status & Pell\\_Recepient & EntryYear & Fall\\_Sem & Retained\\_or\\_not\\\\\n",
       " <int> & <chr> & <int> & <int> & <int> & <int> & <chr> & <dbl>\\\\\n",
       "\\hline\n",
       "\t 0 & M & 1 & 1 & 1 & 2014 & 2ndFall & 1\\\\\n",
       "\t 0 & M & 1 & 1 & 1 & 2014 & 3rdFall & 1\\\\\n",
       "\t 0 & M & 1 & 1 & 1 & 2014 & 4thFall & 1\\\\\n",
       "\t 1 & M & 0 & 0 & 0 & 2014 & 2ndFall & 1\\\\\n",
       "\t 1 & M & 0 & 0 & 0 & 2014 & 3rdFall & 1\\\\\n",
       "\t 1 & M & 0 & 0 & 0 & 2014 & 4thFall & 1\\\\\n",
       "\t 0 & M & 0 & 0 & 0 & 2014 & 2ndFall & 1\\\\\n",
       "\t 0 & M & 0 & 0 & 0 & 2014 & 3rdFall & 0\\\\\n",
       "\t 0 & M & 0 & 0 & 0 & 2014 & 4thFall & 0\\\\\n",
       "\t 0 & M & 0 & 0 & 1 & 2014 & 2ndFall & 1\\\\\n",
       "\t 0 & M & 0 & 0 & 1 & 2014 & 3rdFall & 1\\\\\n",
       "\t 0 & M & 0 & 0 & 1 & 2014 & 4thFall & 1\\\\\n",
       "\t 1 & M & 0 & 0 & 1 & 2015 & 2ndFall & 1\\\\\n",
       "\t 1 & M & 0 & 0 & 1 & 2015 & 3rdFall & 1\\\\\n",
       "\t 1 & M & 0 & 0 & 1 & 2015 & 4thFall & 1\\\\\n",
       "\t 0 & F & 1 & 1 & 1 & 2014 & 2ndFall & 1\\\\\n",
       "\t 0 & F & 1 & 1 & 1 & 2014 & 3rdFall & 1\\\\\n",
       "\t 0 & F & 1 & 1 & 1 & 2014 & 4thFall & 1\\\\\n",
       "\t 0 & F & 0 & 0 & 0 & 2015 & 2ndFall & 1\\\\\n",
       "\t 0 & F & 0 & 0 & 0 & 2015 & 3rdFall & 1\\\\\n",
       "\t 0 & F & 0 & 0 & 0 & 2015 & 4thFall & 1\\\\\n",
       "\t 0 & M & 0 & 0 & 0 & 2015 & 2ndFall & 1\\\\\n",
       "\t 0 & M & 0 & 0 & 0 & 2015 & 3rdFall & 1\\\\\n",
       "\t 0 & M & 0 & 0 & 0 & 2015 & 4thFall & 1\\\\\n",
       "\t 0 & M & 0 & 0 & 0 & 2015 & 2ndFall & 1\\\\\n",
       "\t 0 & M & 0 & 0 & 0 & 2015 & 3rdFall & 1\\\\\n",
       "\t 0 & M & 0 & 0 & 0 & 2015 & 4thFall & 1\\\\\n",
       "\t 0 & M & 0 & 0 & 0 & 2014 & 2ndFall & 1\\\\\n",
       "\t 0 & M & 0 & 0 & 0 & 2014 & 3rdFall & 1\\\\\n",
       "\t 0 & M & 0 & 0 & 0 & 2014 & 4thFall & 1\\\\\n",
       "\t ⋮ & ⋮ & ⋮ & ⋮ & ⋮ & ⋮ & ⋮ & ⋮\\\\\n",
       "\t 0 & M & 0 & 0 & 0 & 2017 & 2ndFall & 1\\\\\n",
       "\t 0 & M & 0 & 0 & 0 & 2017 & 3rdFall & 1\\\\\n",
       "\t 0 & M & 0 & 0 & 0 & 2017 & 4thFall & 1\\\\\n",
       "\t 0 & M & 1 & 0 & 0 & 2017 & 2ndFall & 1\\\\\n",
       "\t 0 & M & 1 & 0 & 0 & 2017 & 3rdFall & 1\\\\\n",
       "\t 0 & M & 1 & 0 & 0 & 2017 & 4thFall & 1\\\\\n",
       "\t 0 & F & 0 & 0 & 0 & 2017 & 2ndFall & 1\\\\\n",
       "\t 0 & F & 0 & 0 & 0 & 2017 & 3rdFall & 1\\\\\n",
       "\t 0 & F & 0 & 0 & 0 & 2017 & 4thFall & 1\\\\\n",
       "\t 0 & M & 0 & 0 & 0 & 2017 & 2ndFall & 1\\\\\n",
       "\t 0 & M & 0 & 0 & 0 & 2017 & 3rdFall & 1\\\\\n",
       "\t 0 & M & 0 & 0 & 0 & 2017 & 4thFall & 0\\\\\n",
       "\t 0 & M & 0 & 1 & 0 & 2014 & 2ndFall & 0\\\\\n",
       "\t 0 & M & 0 & 1 & 0 & 2014 & 3rdFall & 0\\\\\n",
       "\t 0 & M & 0 & 1 & 0 & 2014 & 4thFall & 0\\\\\n",
       "\t 0 & M & 0 & 0 & 0 & 2014 & 2ndFall & 1\\\\\n",
       "\t 0 & M & 0 & 0 & 0 & 2014 & 3rdFall & 1\\\\\n",
       "\t 0 & M & 0 & 0 & 0 & 2014 & 4thFall & 1\\\\\n",
       "\t 0 & M & 0 & 0 & 1 & 2014 & 2ndFall & 1\\\\\n",
       "\t 0 & M & 0 & 0 & 1 & 2014 & 3rdFall & 1\\\\\n",
       "\t 0 & M & 0 & 0 & 1 & 2014 & 4thFall & 1\\\\\n",
       "\t 0 & M & 0 & 1 & 1 & 2015 & 2ndFall & 0\\\\\n",
       "\t 0 & M & 0 & 1 & 1 & 2015 & 3rdFall & 0\\\\\n",
       "\t 0 & M & 0 & 1 & 1 & 2015 & 4thFall & 0\\\\\n",
       "\t 0 & F & 0 & 0 & 0 & 2014 & 2ndFall & 1\\\\\n",
       "\t 0 & F & 0 & 0 & 0 & 2014 & 3rdFall & 1\\\\\n",
       "\t 0 & F & 0 & 0 & 0 & 2014 & 4thFall & 1\\\\\n",
       "\t 1 & F & 0 & 0 & 0 & 2014 & 2ndFall & 1\\\\\n",
       "\t 1 & F & 0 & 0 & 0 & 2014 & 3rdFall & 1\\\\\n",
       "\t 1 & F & 0 & 0 & 0 & 2014 & 4thFall & 1\\\\\n",
       "\\end{tabular}\n"
      ],
      "text/markdown": [
       "\n",
       "A data.frame: 35256 × 8\n",
       "\n",
       "| Rural_Status &lt;int&gt; | Gender &lt;chr&gt; | BIPOC_Status &lt;int&gt; | FirstGen_Status &lt;int&gt; | Pell_Recepient &lt;int&gt; | EntryYear &lt;int&gt; | Fall_Sem &lt;chr&gt; | Retained_or_not &lt;dbl&gt; |\n",
       "|---|---|---|---|---|---|---|---|\n",
       "| 0 | M | 1 | 1 | 1 | 2014 | 2ndFall | 1 |\n",
       "| 0 | M | 1 | 1 | 1 | 2014 | 3rdFall | 1 |\n",
       "| 0 | M | 1 | 1 | 1 | 2014 | 4thFall | 1 |\n",
       "| 1 | M | 0 | 0 | 0 | 2014 | 2ndFall | 1 |\n",
       "| 1 | M | 0 | 0 | 0 | 2014 | 3rdFall | 1 |\n",
       "| 1 | M | 0 | 0 | 0 | 2014 | 4thFall | 1 |\n",
       "| 0 | M | 0 | 0 | 0 | 2014 | 2ndFall | 1 |\n",
       "| 0 | M | 0 | 0 | 0 | 2014 | 3rdFall | 0 |\n",
       "| 0 | M | 0 | 0 | 0 | 2014 | 4thFall | 0 |\n",
       "| 0 | M | 0 | 0 | 1 | 2014 | 2ndFall | 1 |\n",
       "| 0 | M | 0 | 0 | 1 | 2014 | 3rdFall | 1 |\n",
       "| 0 | M | 0 | 0 | 1 | 2014 | 4thFall | 1 |\n",
       "| 1 | M | 0 | 0 | 1 | 2015 | 2ndFall | 1 |\n",
       "| 1 | M | 0 | 0 | 1 | 2015 | 3rdFall | 1 |\n",
       "| 1 | M | 0 | 0 | 1 | 2015 | 4thFall | 1 |\n",
       "| 0 | F | 1 | 1 | 1 | 2014 | 2ndFall | 1 |\n",
       "| 0 | F | 1 | 1 | 1 | 2014 | 3rdFall | 1 |\n",
       "| 0 | F | 1 | 1 | 1 | 2014 | 4thFall | 1 |\n",
       "| 0 | F | 0 | 0 | 0 | 2015 | 2ndFall | 1 |\n",
       "| 0 | F | 0 | 0 | 0 | 2015 | 3rdFall | 1 |\n",
       "| 0 | F | 0 | 0 | 0 | 2015 | 4thFall | 1 |\n",
       "| 0 | M | 0 | 0 | 0 | 2015 | 2ndFall | 1 |\n",
       "| 0 | M | 0 | 0 | 0 | 2015 | 3rdFall | 1 |\n",
       "| 0 | M | 0 | 0 | 0 | 2015 | 4thFall | 1 |\n",
       "| 0 | M | 0 | 0 | 0 | 2015 | 2ndFall | 1 |\n",
       "| 0 | M | 0 | 0 | 0 | 2015 | 3rdFall | 1 |\n",
       "| 0 | M | 0 | 0 | 0 | 2015 | 4thFall | 1 |\n",
       "| 0 | M | 0 | 0 | 0 | 2014 | 2ndFall | 1 |\n",
       "| 0 | M | 0 | 0 | 0 | 2014 | 3rdFall | 1 |\n",
       "| 0 | M | 0 | 0 | 0 | 2014 | 4thFall | 1 |\n",
       "| ⋮ | ⋮ | ⋮ | ⋮ | ⋮ | ⋮ | ⋮ | ⋮ |\n",
       "| 0 | M | 0 | 0 | 0 | 2017 | 2ndFall | 1 |\n",
       "| 0 | M | 0 | 0 | 0 | 2017 | 3rdFall | 1 |\n",
       "| 0 | M | 0 | 0 | 0 | 2017 | 4thFall | 1 |\n",
       "| 0 | M | 1 | 0 | 0 | 2017 | 2ndFall | 1 |\n",
       "| 0 | M | 1 | 0 | 0 | 2017 | 3rdFall | 1 |\n",
       "| 0 | M | 1 | 0 | 0 | 2017 | 4thFall | 1 |\n",
       "| 0 | F | 0 | 0 | 0 | 2017 | 2ndFall | 1 |\n",
       "| 0 | F | 0 | 0 | 0 | 2017 | 3rdFall | 1 |\n",
       "| 0 | F | 0 | 0 | 0 | 2017 | 4thFall | 1 |\n",
       "| 0 | M | 0 | 0 | 0 | 2017 | 2ndFall | 1 |\n",
       "| 0 | M | 0 | 0 | 0 | 2017 | 3rdFall | 1 |\n",
       "| 0 | M | 0 | 0 | 0 | 2017 | 4thFall | 0 |\n",
       "| 0 | M | 0 | 1 | 0 | 2014 | 2ndFall | 0 |\n",
       "| 0 | M | 0 | 1 | 0 | 2014 | 3rdFall | 0 |\n",
       "| 0 | M | 0 | 1 | 0 | 2014 | 4thFall | 0 |\n",
       "| 0 | M | 0 | 0 | 0 | 2014 | 2ndFall | 1 |\n",
       "| 0 | M | 0 | 0 | 0 | 2014 | 3rdFall | 1 |\n",
       "| 0 | M | 0 | 0 | 0 | 2014 | 4thFall | 1 |\n",
       "| 0 | M | 0 | 0 | 1 | 2014 | 2ndFall | 1 |\n",
       "| 0 | M | 0 | 0 | 1 | 2014 | 3rdFall | 1 |\n",
       "| 0 | M | 0 | 0 | 1 | 2014 | 4thFall | 1 |\n",
       "| 0 | M | 0 | 1 | 1 | 2015 | 2ndFall | 0 |\n",
       "| 0 | M | 0 | 1 | 1 | 2015 | 3rdFall | 0 |\n",
       "| 0 | M | 0 | 1 | 1 | 2015 | 4thFall | 0 |\n",
       "| 0 | F | 0 | 0 | 0 | 2014 | 2ndFall | 1 |\n",
       "| 0 | F | 0 | 0 | 0 | 2014 | 3rdFall | 1 |\n",
       "| 0 | F | 0 | 0 | 0 | 2014 | 4thFall | 1 |\n",
       "| 1 | F | 0 | 0 | 0 | 2014 | 2ndFall | 1 |\n",
       "| 1 | F | 0 | 0 | 0 | 2014 | 3rdFall | 1 |\n",
       "| 1 | F | 0 | 0 | 0 | 2014 | 4thFall | 1 |\n",
       "\n"
      ],
      "text/plain": [
       "      Rural_Status Gender BIPOC_Status FirstGen_Status Pell_Recepient EntryYear\n",
       "1     0            M      1            1               1              2014     \n",
       "2     0            M      1            1               1              2014     \n",
       "3     0            M      1            1               1              2014     \n",
       "4     1            M      0            0               0              2014     \n",
       "5     1            M      0            0               0              2014     \n",
       "6     1            M      0            0               0              2014     \n",
       "7     0            M      0            0               0              2014     \n",
       "8     0            M      0            0               0              2014     \n",
       "9     0            M      0            0               0              2014     \n",
       "10    0            M      0            0               1              2014     \n",
       "11    0            M      0            0               1              2014     \n",
       "12    0            M      0            0               1              2014     \n",
       "13    1            M      0            0               1              2015     \n",
       "14    1            M      0            0               1              2015     \n",
       "15    1            M      0            0               1              2015     \n",
       "16    0            F      1            1               1              2014     \n",
       "17    0            F      1            1               1              2014     \n",
       "18    0            F      1            1               1              2014     \n",
       "19    0            F      0            0               0              2015     \n",
       "20    0            F      0            0               0              2015     \n",
       "21    0            F      0            0               0              2015     \n",
       "22    0            M      0            0               0              2015     \n",
       "23    0            M      0            0               0              2015     \n",
       "24    0            M      0            0               0              2015     \n",
       "25    0            M      0            0               0              2015     \n",
       "26    0            M      0            0               0              2015     \n",
       "27    0            M      0            0               0              2015     \n",
       "28    0            M      0            0               0              2014     \n",
       "29    0            M      0            0               0              2014     \n",
       "30    0            M      0            0               0              2014     \n",
       "⋮     ⋮            ⋮      ⋮            ⋮               ⋮              ⋮        \n",
       "35227 0            M      0            0               0              2017     \n",
       "35228 0            M      0            0               0              2017     \n",
       "35229 0            M      0            0               0              2017     \n",
       "35230 0            M      1            0               0              2017     \n",
       "35231 0            M      1            0               0              2017     \n",
       "35232 0            M      1            0               0              2017     \n",
       "35233 0            F      0            0               0              2017     \n",
       "35234 0            F      0            0               0              2017     \n",
       "35235 0            F      0            0               0              2017     \n",
       "35236 0            M      0            0               0              2017     \n",
       "35237 0            M      0            0               0              2017     \n",
       "35238 0            M      0            0               0              2017     \n",
       "35239 0            M      0            1               0              2014     \n",
       "35240 0            M      0            1               0              2014     \n",
       "35241 0            M      0            1               0              2014     \n",
       "35242 0            M      0            0               0              2014     \n",
       "35243 0            M      0            0               0              2014     \n",
       "35244 0            M      0            0               0              2014     \n",
       "35245 0            M      0            0               1              2014     \n",
       "35246 0            M      0            0               1              2014     \n",
       "35247 0            M      0            0               1              2014     \n",
       "35248 0            M      0            1               1              2015     \n",
       "35249 0            M      0            1               1              2015     \n",
       "35250 0            M      0            1               1              2015     \n",
       "35251 0            F      0            0               0              2014     \n",
       "35252 0            F      0            0               0              2014     \n",
       "35253 0            F      0            0               0              2014     \n",
       "35254 1            F      0            0               0              2014     \n",
       "35255 1            F      0            0               0              2014     \n",
       "35256 1            F      0            0               0              2014     \n",
       "      Fall_Sem Retained_or_not\n",
       "1     2ndFall  1              \n",
       "2     3rdFall  1              \n",
       "3     4thFall  1              \n",
       "4     2ndFall  1              \n",
       "5     3rdFall  1              \n",
       "6     4thFall  1              \n",
       "7     2ndFall  1              \n",
       "8     3rdFall  0              \n",
       "9     4thFall  0              \n",
       "10    2ndFall  1              \n",
       "11    3rdFall  1              \n",
       "12    4thFall  1              \n",
       "13    2ndFall  1              \n",
       "14    3rdFall  1              \n",
       "15    4thFall  1              \n",
       "16    2ndFall  1              \n",
       "17    3rdFall  1              \n",
       "18    4thFall  1              \n",
       "19    2ndFall  1              \n",
       "20    3rdFall  1              \n",
       "21    4thFall  1              \n",
       "22    2ndFall  1              \n",
       "23    3rdFall  1              \n",
       "24    4thFall  1              \n",
       "25    2ndFall  1              \n",
       "26    3rdFall  1              \n",
       "27    4thFall  1              \n",
       "28    2ndFall  1              \n",
       "29    3rdFall  1              \n",
       "30    4thFall  1              \n",
       "⋮     ⋮        ⋮              \n",
       "35227 2ndFall  1              \n",
       "35228 3rdFall  1              \n",
       "35229 4thFall  1              \n",
       "35230 2ndFall  1              \n",
       "35231 3rdFall  1              \n",
       "35232 4thFall  1              \n",
       "35233 2ndFall  1              \n",
       "35234 3rdFall  1              \n",
       "35235 4thFall  1              \n",
       "35236 2ndFall  1              \n",
       "35237 3rdFall  1              \n",
       "35238 4thFall  0              \n",
       "35239 2ndFall  0              \n",
       "35240 3rdFall  0              \n",
       "35241 4thFall  0              \n",
       "35242 2ndFall  1              \n",
       "35243 3rdFall  1              \n",
       "35244 4thFall  1              \n",
       "35245 2ndFall  1              \n",
       "35246 3rdFall  1              \n",
       "35247 4thFall  1              \n",
       "35248 2ndFall  0              \n",
       "35249 3rdFall  0              \n",
       "35250 4thFall  0              \n",
       "35251 2ndFall  1              \n",
       "35252 3rdFall  1              \n",
       "35253 4thFall  1              \n",
       "35254 2ndFall  1              \n",
       "35255 3rdFall  1              \n",
       "35256 4thFall  1              "
      ]
     },
     "metadata": {},
     "output_type": "display_data"
    }
   ],
   "source": [
    "RententionData = read.csv(file = '../RuralData/StudentLevel_RetentionData.csv')\n",
    "RententionData # Earlier the dataset size was more than 40K rows but we have restricted ourselved to 2014-2017 only, so lesser rows."
   ]
  },
  {
   "cell_type": "code",
   "execution_count": 105,
   "id": "improving-twelve",
   "metadata": {
    "scrolled": true
   },
   "outputs": [
    {
     "data": {
      "text/html": [
       "<table class=\"dataframe\">\n",
       "<caption>A data.frame: 6 × 8</caption>\n",
       "<thead>\n",
       "\t<tr><th></th><th scope=col>Rural_Status</th><th scope=col>Gender</th><th scope=col>BIPOC_Status</th><th scope=col>FirstGen_Status</th><th scope=col>Pell_Recepient</th><th scope=col>EntryYear</th><th scope=col>Fall_Sem</th><th scope=col>Retained_or_not</th></tr>\n",
       "\t<tr><th></th><th scope=col>&lt;fct&gt;</th><th scope=col>&lt;fct&gt;</th><th scope=col>&lt;fct&gt;</th><th scope=col>&lt;fct&gt;</th><th scope=col>&lt;fct&gt;</th><th scope=col>&lt;fct&gt;</th><th scope=col>&lt;fct&gt;</th><th scope=col>&lt;fct&gt;</th></tr>\n",
       "</thead>\n",
       "<tbody>\n",
       "\t<tr><th scope=row>1</th><td>0</td><td>M</td><td>1</td><td>1</td><td>1</td><td>2014</td><td>2ndFall</td><td>1</td></tr>\n",
       "\t<tr><th scope=row>2</th><td>0</td><td>M</td><td>1</td><td>1</td><td>1</td><td>2014</td><td>3rdFall</td><td>1</td></tr>\n",
       "\t<tr><th scope=row>3</th><td>0</td><td>M</td><td>1</td><td>1</td><td>1</td><td>2014</td><td>4thFall</td><td>1</td></tr>\n",
       "\t<tr><th scope=row>4</th><td>1</td><td>M</td><td>0</td><td>0</td><td>0</td><td>2014</td><td>2ndFall</td><td>1</td></tr>\n",
       "\t<tr><th scope=row>5</th><td>1</td><td>M</td><td>0</td><td>0</td><td>0</td><td>2014</td><td>3rdFall</td><td>1</td></tr>\n",
       "\t<tr><th scope=row>6</th><td>1</td><td>M</td><td>0</td><td>0</td><td>0</td><td>2014</td><td>4thFall</td><td>1</td></tr>\n",
       "</tbody>\n",
       "</table>\n"
      ],
      "text/latex": [
       "A data.frame: 6 × 8\n",
       "\\begin{tabular}{r|llllllll}\n",
       "  & Rural\\_Status & Gender & BIPOC\\_Status & FirstGen\\_Status & Pell\\_Recepient & EntryYear & Fall\\_Sem & Retained\\_or\\_not\\\\\n",
       "  & <fct> & <fct> & <fct> & <fct> & <fct> & <fct> & <fct> & <fct>\\\\\n",
       "\\hline\n",
       "\t1 & 0 & M & 1 & 1 & 1 & 2014 & 2ndFall & 1\\\\\n",
       "\t2 & 0 & M & 1 & 1 & 1 & 2014 & 3rdFall & 1\\\\\n",
       "\t3 & 0 & M & 1 & 1 & 1 & 2014 & 4thFall & 1\\\\\n",
       "\t4 & 1 & M & 0 & 0 & 0 & 2014 & 2ndFall & 1\\\\\n",
       "\t5 & 1 & M & 0 & 0 & 0 & 2014 & 3rdFall & 1\\\\\n",
       "\t6 & 1 & M & 0 & 0 & 0 & 2014 & 4thFall & 1\\\\\n",
       "\\end{tabular}\n"
      ],
      "text/markdown": [
       "\n",
       "A data.frame: 6 × 8\n",
       "\n",
       "| <!--/--> | Rural_Status &lt;fct&gt; | Gender &lt;fct&gt; | BIPOC_Status &lt;fct&gt; | FirstGen_Status &lt;fct&gt; | Pell_Recepient &lt;fct&gt; | EntryYear &lt;fct&gt; | Fall_Sem &lt;fct&gt; | Retained_or_not &lt;fct&gt; |\n",
       "|---|---|---|---|---|---|---|---|---|\n",
       "| 1 | 0 | M | 1 | 1 | 1 | 2014 | 2ndFall | 1 |\n",
       "| 2 | 0 | M | 1 | 1 | 1 | 2014 | 3rdFall | 1 |\n",
       "| 3 | 0 | M | 1 | 1 | 1 | 2014 | 4thFall | 1 |\n",
       "| 4 | 1 | M | 0 | 0 | 0 | 2014 | 2ndFall | 1 |\n",
       "| 5 | 1 | M | 0 | 0 | 0 | 2014 | 3rdFall | 1 |\n",
       "| 6 | 1 | M | 0 | 0 | 0 | 2014 | 4thFall | 1 |\n",
       "\n"
      ],
      "text/plain": [
       "  Rural_Status Gender BIPOC_Status FirstGen_Status Pell_Recepient EntryYear\n",
       "1 0            M      1            1               1              2014     \n",
       "2 0            M      1            1               1              2014     \n",
       "3 0            M      1            1               1              2014     \n",
       "4 1            M      0            0               0              2014     \n",
       "5 1            M      0            0               0              2014     \n",
       "6 1            M      0            0               0              2014     \n",
       "  Fall_Sem Retained_or_not\n",
       "1 2ndFall  1              \n",
       "2 3rdFall  1              \n",
       "3 4thFall  1              \n",
       "4 2ndFall  1              \n",
       "5 3rdFall  1              \n",
       "6 4thFall  1              "
      ]
     },
     "metadata": {},
     "output_type": "display_data"
    }
   ],
   "source": [
    "RententionData$Gender = as.factor(RententionData$Gender)\n",
    "RententionData$BIPOC_Status\t = as.factor(RententionData$BIPOC_Status)\n",
    "RententionData$FirstGen_Status = as.factor(RententionData$FirstGen_Status)\n",
    "RententionData$Pell_Recepient = as.factor(RententionData$Pell_Recepient)\n",
    "RententionData$Rural_Status = as.factor(RententionData$Rural_Status)\n",
    "RententionData$EntryYear = as.factor(RententionData$EntryYear)\n",
    "RententionData$Fall_Sem = as.factor(RententionData$Fall_Sem)\n",
    "RententionData$Retained_or_not = as.factor(RententionData$Retained_or_not)\n",
    "head(RententionData)\n",
    "# I want the baseline to be non-rural, non-BIPOC, etc, so that I can see when you are a rural, what's the effect.\n",
    "# So not changing the reference/baseline."
   ]
  },
  {
   "cell_type": "code",
   "execution_count": 91,
   "id": "polished-handy",
   "metadata": {},
   "outputs": [
    {
     "data": {
      "text/plain": [
       "\n",
       "\tPearson's Chi-squared test with Yates' continuity correction\n",
       "\n",
       "data:  RententionData$BIPOC_Status and RententionData$FirstGen_Status\n",
       "X-squared = 3437.6, df = 1, p-value < 2.2e-16\n"
      ]
     },
     "metadata": {},
     "output_type": "display_data"
    }
   ],
   "source": [
    "chisq.test(RententionData$BIPOC_Status, RententionData$FirstGen_Status)\n",
    "# Correlations are between , so we'll proceed.\n",
    "# But worth noting that that BIPOC has high correlation with FirstGen and "
   ]
  },
  {
   "cell_type": "code",
   "execution_count": null,
   "id": "macro-purchase",
   "metadata": {},
   "outputs": [],
   "source": []
  },
  {
   "cell_type": "code",
   "execution_count": 3,
   "id": "transparent-attachment",
   "metadata": {},
   "outputs": [],
   "source": [
    "#RententionData$Rural_Status = relevel(RententionData$Rural_Status, ref = \"1\")"
   ]
  },
  {
   "cell_type": "code",
   "execution_count": 4,
   "id": "dense-closer",
   "metadata": {
    "scrolled": true
   },
   "outputs": [
    {
     "data": {
      "text/plain": [
       "\n",
       "Call:\n",
       "glm(formula = Retained_or_not ~ Rural_Status, family = binomial, \n",
       "    data = RententionData)\n",
       "\n",
       "Deviance Residuals: \n",
       "    Min       1Q   Median       3Q      Max  \n",
       "-1.9528   0.5672   0.5672   0.5672   0.6227  \n",
       "\n",
       "Coefficients:\n",
       "              Estimate Std. Error z value Pr(>|z|)    \n",
       "(Intercept)    1.74585    0.01552 112.455  < 2e-16 ***\n",
       "Rural_Status1 -0.20376    0.05518  -3.693 0.000222 ***\n",
       "---\n",
       "Signif. codes:  0 ‘***’ 0.001 ‘**’ 0.01 ‘*’ 0.05 ‘.’ 0.1 ‘ ’ 1\n",
       "\n",
       "(Dispersion parameter for binomial family taken to be 1)\n",
       "\n",
       "    Null deviance: 29867  on 35255  degrees of freedom\n",
       "Residual deviance: 29854  on 35254  degrees of freedom\n",
       "AIC: 29858\n",
       "\n",
       "Number of Fisher Scoring iterations: 4\n"
      ]
     },
     "metadata": {},
     "output_type": "display_data"
    },
    {
     "data": {
      "text/plain": [
       "\n",
       "Call:\n",
       "glm(formula = Retained_or_not ~ Rural_Status + Fall_Sem, family = binomial, \n",
       "    data = RententionData)\n",
       "\n",
       "Deviance Residuals: \n",
       "    Min       1Q   Median       3Q      Max  \n",
       "-2.1164   0.4746   0.5887   0.6302   0.6911  \n",
       "\n",
       "Coefficients:\n",
       "                Estimate Std. Error z value Pr(>|z|)    \n",
       "(Intercept)      2.12695    0.03006  70.758  < 2e-16 ***\n",
       "Rural_Status1   -0.20543    0.05542  -3.707  0.00021 ***\n",
       "Fall_Sem3rdFall -0.46210    0.03890 -11.879  < 2e-16 ***\n",
       "Fall_Sem4thFall -0.61126    0.03814 -16.027  < 2e-16 ***\n",
       "---\n",
       "Signif. codes:  0 ‘***’ 0.001 ‘**’ 0.01 ‘*’ 0.05 ‘.’ 0.1 ‘ ’ 1\n",
       "\n",
       "(Dispersion parameter for binomial family taken to be 1)\n",
       "\n",
       "    Null deviance: 29867  on 35255  degrees of freedom\n",
       "Residual deviance: 29574  on 35252  degrees of freedom\n",
       "AIC: 29582\n",
       "\n",
       "Number of Fisher Scoring iterations: 4\n"
      ]
     },
     "metadata": {},
     "output_type": "display_data"
    },
    {
     "data": {
      "text/plain": [
       "\n",
       "Call:\n",
       "glm(formula = Retained_or_not ~ Rural_Status + Fall_Sem + EntryYear, \n",
       "    family = binomial, data = RententionData)\n",
       "\n",
       "Deviance Residuals: \n",
       "    Min       1Q   Median       3Q      Max  \n",
       "-2.1299   0.4692   0.5801   0.6211   0.7061  \n",
       "\n",
       "Coefficients:\n",
       "                Estimate Std. Error z value Pr(>|z|)    \n",
       "(Intercept)      2.11930    0.04039  52.466  < 2e-16 ***\n",
       "Rural_Status1   -0.20526    0.05544  -3.702 0.000214 ***\n",
       "Fall_Sem3rdFall -0.46215    0.03890 -11.879  < 2e-16 ***\n",
       "Fall_Sem4thFall -0.61134    0.03814 -16.028  < 2e-16 ***\n",
       "EntryYear2015   -0.04077    0.04248  -0.960 0.337144    \n",
       "EntryYear2016    0.03184    0.04285   0.743 0.457526    \n",
       "EntryYear2017    0.03965    0.04286   0.925 0.354979    \n",
       "---\n",
       "Signif. codes:  0 ‘***’ 0.001 ‘**’ 0.01 ‘*’ 0.05 ‘.’ 0.1 ‘ ’ 1\n",
       "\n",
       "(Dispersion parameter for binomial family taken to be 1)\n",
       "\n",
       "    Null deviance: 29867  on 35255  degrees of freedom\n",
       "Residual deviance: 29569  on 35249  degrees of freedom\n",
       "AIC: 29583\n",
       "\n",
       "Number of Fisher Scoring iterations: 4\n"
      ]
     },
     "metadata": {},
     "output_type": "display_data"
    }
   ],
   "source": [
    "glmod = glm(Retained_or_not ~ Rural_Status, data = RententionData, family = binomial)\n",
    "summary(glmod)\n",
    "\n",
    "glmod = glm(Retained_or_not ~ Rural_Status + Fall_Sem, data = RententionData, family = binomial)\n",
    "summary(glmod)\n",
    "\n",
    "glmod = glm(Retained_or_not ~ Rural_Status + Fall_Sem + EntryYear, data = RententionData, family = binomial)\n",
    "summary(glmod)"
   ]
  },
  {
   "cell_type": "code",
   "execution_count": 11,
   "id": "municipal-africa",
   "metadata": {},
   "outputs": [
    {
     "data": {
      "text/html": [
       "'Why rural is significant even when we don\\'t control for Fall Semester is still a question, because in the overall \\ndata we saw that the Fall semester predictor HAD to be included, and for valid reasons. Is this happening because of\\ndifference in data, or difference in model? \\nAlso, the reason why the output changed a little bit from the previous binomial regression output is most probably \\nbecause now we have data only for 2014-2017, but earlier it was till 2019. Nevertheless, the year predictor is still\\nnot a significant predictor for any of the categories!'"
      ],
      "text/latex": [
       "'Why rural is significant even when we don\\textbackslash{}'t control for Fall Semester is still a question, because in the overall \\textbackslash{}ndata we saw that the Fall semester predictor HAD to be included, and for valid reasons. Is this happening because of\\textbackslash{}ndifference in data, or difference in model? \\textbackslash{}nAlso, the reason why the output changed a little bit from the previous binomial regression output is most probably \\textbackslash{}nbecause now we have data only for 2014-2017, but earlier it was till 2019. Nevertheless, the year predictor is still\\textbackslash{}nnot a significant predictor for any of the categories!'"
      ],
      "text/markdown": [
       "'Why rural is significant even when we don\\'t control for Fall Semester is still a question, because in the overall \\ndata we saw that the Fall semester predictor HAD to be included, and for valid reasons. Is this happening because of\\ndifference in data, or difference in model? \\nAlso, the reason why the output changed a little bit from the previous binomial regression output is most probably \\nbecause now we have data only for 2014-2017, but earlier it was till 2019. Nevertheless, the year predictor is still\\nnot a significant predictor for any of the categories!'"
      ],
      "text/plain": [
       "[1] \"Why rural is significant even when we don't control for Fall Semester is still a question, because in the overall \\ndata we saw that the Fall semester predictor HAD to be included, and for valid reasons. Is this happening because of\\ndifference in data, or difference in model? \\nAlso, the reason why the output changed a little bit from the previous binomial regression output is most probably \\nbecause now we have data only for 2014-2017, but earlier it was till 2019. Nevertheless, the year predictor is still\\nnot a significant predictor for any of the categories!\""
      ]
     },
     "metadata": {},
     "output_type": "display_data"
    }
   ],
   "source": [
    "\"Why rural is significant even when we don't control for Fall Semester is still a question, because in the overall \n",
    "data we saw that the Fall semester predictor HAD to be included, and for valid reasons. Is this happening because of\n",
    "difference in data, or difference in model? \n",
    "Also, the reason why the output changed a little bit from the previous binomial regression output is most probably \n",
    "because now we have data only for 2014-2017, but earlier it was till 2019. Nevertheless, the year predictor is still\n",
    "not a significant predictor for any of the categories!\""
   ]
  },
  {
   "cell_type": "code",
   "execution_count": 5,
   "id": "sudden-school",
   "metadata": {},
   "outputs": [
    {
     "data": {
      "text/html": [
       "<style>\n",
       ".list-inline {list-style: none; margin:0; padding: 0}\n",
       ".list-inline>li {display: inline-block}\n",
       ".list-inline>li:not(:last-child)::after {content: \"\\00b7\"; padding: 0 .5ex}\n",
       "</style>\n",
       "<ol class=list-inline><li>'Rural_Status'</li><li>'Gender'</li><li>'BIPOC_Status'</li><li>'FirstGen_Status'</li><li>'Pell_Recepient'</li><li>'EntryYear'</li><li>'Fall_Sem'</li><li>'Retained_or_not'</li></ol>\n"
      ],
      "text/latex": [
       "\\begin{enumerate*}\n",
       "\\item 'Rural\\_Status'\n",
       "\\item 'Gender'\n",
       "\\item 'BIPOC\\_Status'\n",
       "\\item 'FirstGen\\_Status'\n",
       "\\item 'Pell\\_Recepient'\n",
       "\\item 'EntryYear'\n",
       "\\item 'Fall\\_Sem'\n",
       "\\item 'Retained\\_or\\_not'\n",
       "\\end{enumerate*}\n"
      ],
      "text/markdown": [
       "1. 'Rural_Status'\n",
       "2. 'Gender'\n",
       "3. 'BIPOC_Status'\n",
       "4. 'FirstGen_Status'\n",
       "5. 'Pell_Recepient'\n",
       "6. 'EntryYear'\n",
       "7. 'Fall_Sem'\n",
       "8. 'Retained_or_not'\n",
       "\n",
       "\n"
      ],
      "text/plain": [
       "[1] \"Rural_Status\"    \"Gender\"          \"BIPOC_Status\"    \"FirstGen_Status\"\n",
       "[5] \"Pell_Recepient\"  \"EntryYear\"       \"Fall_Sem\"        \"Retained_or_not\""
      ]
     },
     "metadata": {},
     "output_type": "display_data"
    }
   ],
   "source": [
    "names(RententionData)"
   ]
  },
  {
   "cell_type": "code",
   "execution_count": 107,
   "id": "naval-bottle",
   "metadata": {
    "scrolled": true
   },
   "outputs": [
    {
     "data": {
      "text/plain": [
       "\n",
       "Call:\n",
       "glm(formula = Retained_or_not ~ Rural_Status + Gender + BIPOC_Status + \n",
       "    FirstGen_Status + Pell_Recepient + Fall_Sem + EntryYear, \n",
       "    family = binomial, data = RententionData)\n",
       "\n",
       "Deviance Residuals: \n",
       "    Min       1Q   Median       3Q      Max  \n",
       "-2.2897   0.4237   0.5347   0.6061   0.9312  \n",
       "\n",
       "Coefficients:\n",
       "                 Estimate Std. Error z value Pr(>|z|)    \n",
       "(Intercept)       2.42078    0.04669  51.844  < 2e-16 ***\n",
       "Rural_Status1    -0.20676    0.05619  -3.680 0.000233 ***\n",
       "GenderM          -0.27086    0.03038  -8.915  < 2e-16 ***\n",
       "BIPOC_Status1    -0.05528    0.03403  -1.625 0.104257    \n",
       "FirstGen_Status1 -0.61287    0.03728 -16.441  < 2e-16 ***\n",
       "Pell_Recepient1   0.08904    0.03685   2.417 0.015670 *  \n",
       "Fall_Sem3rdFall  -0.46714    0.03911 -11.944  < 2e-16 ***\n",
       "Fall_Sem4thFall  -0.61826    0.03836 -16.119  < 2e-16 ***\n",
       "EntryYear2015    -0.04557    0.04275  -1.066 0.286496    \n",
       "EntryYear2016     0.03115    0.04312   0.722 0.470012    \n",
       "EntryYear2017     0.03602    0.04315   0.835 0.403965    \n",
       "---\n",
       "Signif. codes:  0 ‘***’ 0.001 ‘**’ 0.01 ‘*’ 0.05 ‘.’ 0.1 ‘ ’ 1\n",
       "\n",
       "(Dispersion parameter for binomial family taken to be 1)\n",
       "\n",
       "    Null deviance: 29867  on 35255  degrees of freedom\n",
       "Residual deviance: 29185  on 35245  degrees of freedom\n",
       "AIC: 29207\n",
       "\n",
       "Number of Fisher Scoring iterations: 4\n"
      ]
     },
     "metadata": {},
     "output_type": "display_data"
    }
   ],
   "source": [
    "glmod2 = glm(Retained_or_not ~ Rural_Status + Gender + BIPOC_Status + FirstGen_Status + Pell_Recepient + Fall_Sem + EntryYear, \n",
    "             data = RententionData, family = binomial)\n",
    "summary(glmod2)"
   ]
  },
  {
   "cell_type": "code",
   "execution_count": 108,
   "id": "metropolitan-value",
   "metadata": {
    "scrolled": true
   },
   "outputs": [
    {
     "data": {
      "text/plain": [
       "\n",
       "Call:\n",
       "glm(formula = Retained_or_not ~ Rural_Status + Gender + BIPOC_Status + \n",
       "    FirstGen_Status + Pell_Recepient + Fall_Sem + EntryYear + \n",
       "    Rural_Status:Gender + Rural_Status:BIPOC_Status + Rural_Status:FirstGen_Status + \n",
       "    Rural_Status:Pell_Recepient + Rural_Status:Fall_Sem + Rural_Status:EntryYear, \n",
       "    family = binomial, data = RententionData)\n",
       "\n",
       "Deviance Residuals: \n",
       "    Min       1Q   Median       3Q      Max  \n",
       "-2.3069   0.4310   0.5357   0.6047   0.9531  \n",
       "\n",
       "Coefficients:\n",
       "                               Estimate Std. Error z value Pr(>|z|)    \n",
       "(Intercept)                     2.41196    0.04843  49.800  < 2e-16 ***\n",
       "Rural_Status1                  -0.06156    0.17023  -0.362  0.71762    \n",
       "GenderM                        -0.26227    0.03167  -8.280  < 2e-16 ***\n",
       "BIPOC_Status1                  -0.08232    0.03515  -2.342  0.01919 *  \n",
       "FirstGen_Status1               -0.63615    0.03911 -16.265  < 2e-16 ***\n",
       "Pell_Recepient1                 0.11883    0.03897   3.049  0.00230 ** \n",
       "Fall_Sem3rdFall                -0.47214    0.04079 -11.574  < 2e-16 ***\n",
       "Fall_Sem4thFall                -0.62037    0.04002 -15.502  < 2e-16 ***\n",
       "EntryYear2015                  -0.03276    0.04453  -0.736  0.46194    \n",
       "EntryYear2016                   0.05642    0.04491   1.256  0.20902    \n",
       "EntryYear2017                   0.05764    0.04508   1.279  0.20105    \n",
       "Rural_Status1:GenderM          -0.10915    0.11238  -0.971  0.33142    \n",
       "Rural_Status1:BIPOC_Status1     0.46680    0.14804   3.153  0.00161 ** \n",
       "Rural_Status1:FirstGen_Status1  0.22379    0.13077   1.711  0.08702 .  \n",
       "Rural_Status1:Pell_Recepient1  -0.27976    0.12160  -2.301  0.02141 *  \n",
       "Rural_Status1:Fall_Sem3rdFall   0.05894    0.14409   0.409  0.68249    \n",
       "Rural_Status1:Fall_Sem4thFall   0.02040    0.14089   0.145  0.88489    \n",
       "Rural_Status1:EntryYear2015    -0.13755    0.15972  -0.861  0.38914    \n",
       "Rural_Status1:EntryYear2016    -0.30868    0.16087  -1.919  0.05501 .  \n",
       "Rural_Status1:EntryYear2017    -0.29771    0.15677  -1.899  0.05755 .  \n",
       "---\n",
       "Signif. codes:  0 ‘***’ 0.001 ‘**’ 0.01 ‘*’ 0.05 ‘.’ 0.1 ‘ ’ 1\n",
       "\n",
       "(Dispersion parameter for binomial family taken to be 1)\n",
       "\n",
       "    Null deviance: 29867  on 35255  degrees of freedom\n",
       "Residual deviance: 29161  on 35236  degrees of freedom\n",
       "AIC: 29201\n",
       "\n",
       "Number of Fisher Scoring iterations: 4\n"
      ]
     },
     "metadata": {},
     "output_type": "display_data"
    },
    {
     "data": {
      "text/plain": [
       "\n",
       "Call:\n",
       "glm(formula = Retained_or_not ~ Rural_Status + Gender + BIPOC_Status + \n",
       "    FirstGen_Status + Pell_Recepient + Fall_Sem + EntryYear + \n",
       "    Rural_Status:Gender + Rural_Status:BIPOC_Status + Rural_Status:FirstGen_Status + \n",
       "    Rural_Status:Pell_Recepient + Rural_Status:Fall_Sem + Rural_Status:EntryYear, \n",
       "    family = binomial, data = RententionData)\n",
       "\n",
       "Deviance Residuals: \n",
       "    Min       1Q   Median       3Q      Max  \n",
       "-2.3069   0.4310   0.5357   0.6047   0.9531  \n",
       "\n",
       "Coefficients:\n",
       "                               Estimate Std. Error z value Pr(>|z|)    \n",
       "(Intercept)                     2.41196    0.04843  49.800  < 2e-16 ***\n",
       "Rural_Status1                  -0.06156    0.17023  -0.362  0.71762    \n",
       "GenderM                        -0.26227    0.03167  -8.280  < 2e-16 ***\n",
       "BIPOC_Status1                  -0.08232    0.03515  -2.342  0.01919 *  \n",
       "FirstGen_Status1               -0.63615    0.03911 -16.265  < 2e-16 ***\n",
       "Pell_Recepient1                 0.11883    0.03897   3.049  0.00230 ** \n",
       "Fall_Sem3rdFall                -0.47214    0.04079 -11.574  < 2e-16 ***\n",
       "Fall_Sem4thFall                -0.62037    0.04002 -15.502  < 2e-16 ***\n",
       "EntryYear2015                  -0.03276    0.04453  -0.736  0.46194    \n",
       "EntryYear2016                   0.05642    0.04491   1.256  0.20902    \n",
       "EntryYear2017                   0.05764    0.04508   1.279  0.20105    \n",
       "Rural_Status1:GenderM          -0.10915    0.11238  -0.971  0.33142    \n",
       "Rural_Status1:BIPOC_Status1     0.46680    0.14804   3.153  0.00161 ** \n",
       "Rural_Status1:FirstGen_Status1  0.22379    0.13077   1.711  0.08702 .  \n",
       "Rural_Status1:Pell_Recepient1  -0.27976    0.12160  -2.301  0.02141 *  \n",
       "Rural_Status1:Fall_Sem3rdFall   0.05894    0.14409   0.409  0.68249    \n",
       "Rural_Status1:Fall_Sem4thFall   0.02040    0.14089   0.145  0.88489    \n",
       "Rural_Status1:EntryYear2015    -0.13755    0.15972  -0.861  0.38914    \n",
       "Rural_Status1:EntryYear2016    -0.30868    0.16087  -1.919  0.05501 .  \n",
       "Rural_Status1:EntryYear2017    -0.29771    0.15677  -1.899  0.05755 .  \n",
       "---\n",
       "Signif. codes:  0 ‘***’ 0.001 ‘**’ 0.01 ‘*’ 0.05 ‘.’ 0.1 ‘ ’ 1\n",
       "\n",
       "(Dispersion parameter for binomial family taken to be 1)\n",
       "\n",
       "    Null deviance: 29867  on 35255  degrees of freedom\n",
       "Residual deviance: 29161  on 35236  degrees of freedom\n",
       "AIC: 29201\n",
       "\n",
       "Number of Fisher Scoring iterations: 4\n"
      ]
     },
     "metadata": {},
     "output_type": "display_data"
    }
   ],
   "source": [
    "glmod3 = glm(Retained_or_not ~ Rural_Status + Gender + BIPOC_Status + FirstGen_Status + Pell_Recepient + Fall_Sem + EntryYear\n",
    "             + Rural_Status:Gender + Rural_Status:BIPOC_Status + Rural_Status:FirstGen_Status\n",
    "             + Rural_Status:Pell_Recepient + Rural_Status:Fall_Sem + Rural_Status:EntryYear,\n",
    "             data = RententionData, family = binomial)\n",
    "summary(glmod3)\n",
    "\n",
    "# Just for SS\n",
    "glmod4 = glm(Retained_or_not ~ Rural_Status + Gender + BIPOC_Status + FirstGen_Status + Pell_Recepient + Fall_Sem + EntryYear\n",
    "             + Rural_Status:Gender + Rural_Status:BIPOC_Status + Rural_Status:FirstGen_Status\n",
    "             + Rural_Status:Pell_Recepient + Rural_Status:Fall_Sem + Rural_Status:EntryYear,\n",
    "             data = RententionData, family = binomial)\n",
    "summary(glmod4)\n"
   ]
  },
  {
   "cell_type": "code",
   "execution_count": 40,
   "id": "preceding-selection",
   "metadata": {},
   "outputs": [],
   "source": [
    "# When neither Fall_Sem nor Rural_Status:Fall_Sem is included, AIC = 29475.\n",
    "# When Fall_sem is included, but Rural_Status:Fall_Sem is not, AIC = 29195.\n",
    "# When Fall_sem is not included, but Rural_Status:Fall_Sem is, AIC = 29199.\n",
    "# When both Fall_Sem and Rural_Status:Fall_Sem are included, AIC = 29199.\n",
    "# So I am going to included Fall_sem, but not an interaction term, made sense because I am not interested in knowing\n",
    "# that interaction, it anyway comes out to be insignificant even after adding, it just changes other's significance."
   ]
  },
  {
   "cell_type": "code",
   "execution_count": 109,
   "id": "developing-yesterday",
   "metadata": {
    "scrolled": true
   },
   "outputs": [
    {
     "data": {
      "text/plain": [
       "\n",
       "Call:\n",
       "glm(formula = Retained_or_not ~ Rural_Status + Gender + BIPOC_Status + \n",
       "    FirstGen_Status + Pell_Recepient + Fall_Sem + Rural_Status:BIPOC_Status + \n",
       "    Rural_Status:Pell_Recepient, family = binomial, data = RententionData)\n",
       "\n",
       "Deviance Residuals: \n",
       "    Min       1Q   Median       3Q      Max  \n",
       "-2.2881   0.4272   0.5327   0.6035   0.9437  \n",
       "\n",
       "Coefficients:\n",
       "                              Estimate Std. Error z value Pr(>|z|)    \n",
       "(Intercept)                    2.43170    0.03805  63.914  < 2e-16 ***\n",
       "Rural_Status1                 -0.24127    0.07313  -3.299 0.000970 ***\n",
       "GenderM                       -0.27001    0.03038  -8.888  < 2e-16 ***\n",
       "BIPOC_Status1                 -0.08367    0.03499  -2.391 0.016791 *  \n",
       "FirstGen_Status1              -0.61670    0.03731 -16.530  < 2e-16 ***\n",
       "Pell_Recepient1                0.11026    0.03875   2.845 0.004438 ** \n",
       "Fall_Sem3rdFall               -0.46727    0.03912 -11.946  < 2e-16 ***\n",
       "Fall_Sem4thFall               -0.61845    0.03836 -16.122  < 2e-16 ***\n",
       "Rural_Status1:BIPOC_Status1    0.50802    0.14374   3.534 0.000409 ***\n",
       "Rural_Status1:Pell_Recepient1 -0.21732    0.11899  -1.826 0.067808 .  \n",
       "---\n",
       "Signif. codes:  0 ‘***’ 0.001 ‘**’ 0.01 ‘*’ 0.05 ‘.’ 0.1 ‘ ’ 1\n",
       "\n",
       "(Dispersion parameter for binomial family taken to be 1)\n",
       "\n",
       "    Null deviance: 29867  on 35255  degrees of freedom\n",
       "Residual deviance: 29175  on 35246  degrees of freedom\n",
       "AIC: 29195\n",
       "\n",
       "Number of Fisher Scoring iterations: 4\n"
      ]
     },
     "metadata": {},
     "output_type": "display_data"
    },
    {
     "data": {
      "text/plain": [
       "\n",
       "Call:\n",
       "glm(formula = Retained_or_not ~ Rural_Status + Gender + BIPOC_Status + \n",
       "    FirstGen_Status + Pell_Recepient + Fall_Sem + Rural_Status:BIPOC_Status, \n",
       "    family = binomial, data = RententionData)\n",
       "\n",
       "Deviance Residuals: \n",
       "    Min       1Q   Median       3Q      Max  \n",
       "-2.3098   0.4256   0.5307   0.6013   0.9256  \n",
       "\n",
       "Coefficients:\n",
       "                            Estimate Std. Error z value Pr(>|z|)    \n",
       "(Intercept)                  2.43493    0.03801  64.054  < 2e-16 ***\n",
       "Rural_Status1               -0.30678    0.06286  -4.881 1.06e-06 ***\n",
       "GenderM                     -0.27013    0.03038  -8.893  < 2e-16 ***\n",
       "BIPOC_Status1               -0.07884    0.03490  -2.259  0.02388 *  \n",
       "FirstGen_Status1            -0.61368    0.03727 -16.465  < 2e-16 ***\n",
       "Pell_Recepient1              0.08875    0.03682   2.410  0.01595 *  \n",
       "Fall_Sem3rdFall             -0.46722    0.03911 -11.945  < 2e-16 ***\n",
       "Fall_Sem4thFall             -0.61838    0.03836 -16.121  < 2e-16 ***\n",
       "Rural_Status1:BIPOC_Status1  0.45750    0.14083   3.249  0.00116 ** \n",
       "---\n",
       "Signif. codes:  0 ‘***’ 0.001 ‘**’ 0.01 ‘*’ 0.05 ‘.’ 0.1 ‘ ’ 1\n",
       "\n",
       "(Dispersion parameter for binomial family taken to be 1)\n",
       "\n",
       "    Null deviance: 29867  on 35255  degrees of freedom\n",
       "Residual deviance: 29179  on 35247  degrees of freedom\n",
       "AIC: 29197\n",
       "\n",
       "Number of Fisher Scoring iterations: 4\n"
      ]
     },
     "metadata": {},
     "output_type": "display_data"
    }
   ],
   "source": [
    "glmodT = glm(Retained_or_not ~ Rural_Status + Gender + BIPOC_Status + FirstGen_Status + Pell_Recepient + Fall_Sem\n",
    "             + Rural_Status:BIPOC_Status \n",
    "             + Rural_Status:Pell_Recepient,\n",
    "             data = RententionData, family = binomial)\n",
    "summary(glmodT)\n",
    "\n",
    "glmodT2 = glm(Retained_or_not ~ Rural_Status + Gender + BIPOC_Status + FirstGen_Status + Pell_Recepient + Fall_Sem\n",
    "             + Rural_Status:BIPOC_Status,\n",
    "             data = RententionData, family = binomial)\n",
    "summary(glmodT2)"
   ]
  },
  {
   "cell_type": "code",
   "execution_count": 45,
   "id": "sealed-incidence",
   "metadata": {},
   "outputs": [
    {
     "data": {
      "text/html": [
       "'I have a question about model glmodT. I basically removed the non significant terms from model glmod3, meaning two\\nunimportant interaction terms were removed. glmodT has same AIC as glmod3. Is it therefore okay to use the glmodT \\nmodel for our inference? It is crucial because if we instead use glmod3, I\\'m not able to reason why receiving the pell\\ngrant would decrease your retention chance. The Rural_Status:Pell_Recepient interaction is insignificant in glmodT, \\nmeaning that the inference of +ve association of Pell really makes sense now. Also note that remove this\\nnon-significant interaction term actually increases the AIC from 29195 to 29197, hence we should keep it.'"
      ],
      "text/latex": [
       "'I have a question about model glmodT. I basically removed the non significant terms from model glmod3, meaning two\\textbackslash{}nunimportant interaction terms were removed. glmodT has same AIC as glmod3. Is it therefore okay to use the glmodT \\textbackslash{}nmodel for our inference? It is crucial because if we instead use glmod3, I\\textbackslash{}'m not able to reason why receiving the pell\\textbackslash{}ngrant would decrease your retention chance. The Rural\\_Status:Pell\\_Recepient interaction is insignificant in glmodT, \\textbackslash{}nmeaning that the inference of +ve association of Pell really makes sense now. Also note that remove this\\textbackslash{}nnon-significant interaction term actually increases the AIC from 29195 to 29197, hence we should keep it.'"
      ],
      "text/markdown": [
       "'I have a question about model glmodT. I basically removed the non significant terms from model glmod3, meaning two\\nunimportant interaction terms were removed. glmodT has same AIC as glmod3. Is it therefore okay to use the glmodT \\nmodel for our inference? It is crucial because if we instead use glmod3, I\\'m not able to reason why receiving the pell\\ngrant would decrease your retention chance. The Rural_Status:Pell_Recepient interaction is insignificant in glmodT, \\nmeaning that the inference of +ve association of Pell really makes sense now. Also note that remove this\\nnon-significant interaction term actually increases the AIC from 29195 to 29197, hence we should keep it.'"
      ],
      "text/plain": [
       "[1] \"I have a question about model glmodT. I basically removed the non significant terms from model glmod3, meaning two\\nunimportant interaction terms were removed. glmodT has same AIC as glmod3. Is it therefore okay to use the glmodT \\nmodel for our inference? It is crucial because if we instead use glmod3, I'm not able to reason why receiving the pell\\ngrant would decrease your retention chance. The Rural_Status:Pell_Recepient interaction is insignificant in glmodT, \\nmeaning that the inference of +ve association of Pell really makes sense now. Also note that remove this\\nnon-significant interaction term actually increases the AIC from 29195 to 29197, hence we should keep it.\""
      ]
     },
     "metadata": {},
     "output_type": "display_data"
    }
   ],
   "source": [
    "\"I have a question about model glmodT. I basically removed the non significant terms from model glmod3, meaning two\n",
    "unimportant interaction terms were removed. glmodT has same AIC as glmod3. Is it therefore okay to use the glmodT \n",
    "model for our inference? It is crucial because if we instead use glmod3, I'm not able to reason why receiving the pell\n",
    "grant would decrease your retention chance. The Rural_Status:Pell_Recepient interaction is insignificant in glmodT, \n",
    "meaning that the inference of +ve association of Pell really makes sense now. Also note that remove this\n",
    "non-significant interaction term actually increases the AIC from 29195 to 29197, hence we should keep it.\""
   ]
  },
  {
   "cell_type": "code",
   "execution_count": 47,
   "id": "improved-times",
   "metadata": {},
   "outputs": [],
   "source": [
    "# Exploring all possible interaction terms can be a good future work."
   ]
  },
  {
   "cell_type": "markdown",
   "id": "tough-mixer",
   "metadata": {},
   "source": [
    "## FINALLY THE SIGNS MAKE SENSE!! YES!! EVEN BIPOC HAS BECOME SIGNIFICANT NOW!!\n",
    "## REBUILDING THE DATASET WAS WORTH IT, AND CORRECT!!"
   ]
  },
  {
   "cell_type": "code",
   "execution_count": 23,
   "id": "incomplete-italic",
   "metadata": {},
   "outputs": [],
   "source": [
    "# Write the model with the beta coefficients on notebook and then interpret.\n",
    "# We can show the google slides plot as a motivation that something interesting is definitely hsppening."
   ]
  },
  {
   "cell_type": "code",
   "execution_count": 48,
   "id": "secure-optimization",
   "metadata": {},
   "outputs": [
    {
     "data": {
      "text/html": [
       "'Question: The question of wording the multiplicative factor is still there. Also, should we take a random sample of \\nnon-rural students so that we have similar-sized groups? Challenging to find a method of choosing random sample\\nwithout introducing any bias.'"
      ],
      "text/latex": [
       "'Question: The question of wording the multiplicative factor is still there. Also, should we take a random sample of \\textbackslash{}nnon-rural students so that we have similar-sized groups? Challenging to find a method of choosing random sample\\textbackslash{}nwithout introducing any bias.'"
      ],
      "text/markdown": [
       "'Question: The question of wording the multiplicative factor is still there. Also, should we take a random sample of \\nnon-rural students so that we have similar-sized groups? Challenging to find a method of choosing random sample\\nwithout introducing any bias.'"
      ],
      "text/plain": [
       "[1] \"Question: The question of wording the multiplicative factor is still there. Also, should we take a random sample of \\nnon-rural students so that we have similar-sized groups? Challenging to find a method of choosing random sample\\nwithout introducing any bias.\""
      ]
     },
     "metadata": {},
     "output_type": "display_data"
    }
   ],
   "source": [
    "\"Question: The question of wording the multiplicative factor is still there. Also, should we take a random sample of \n",
    "non-rural students so that we have similar-sized groups? Challenging to find a method of choosing random sample\n",
    "without introducing any bias.\""
   ]
  },
  {
   "cell_type": "code",
   "execution_count": 92,
   "id": "explicit-consensus",
   "metadata": {},
   "outputs": [
    {
     "data": {
      "text/plain": [
       "\n",
       "Call:\n",
       "glm(formula = Retained_or_not ~ Rural_Status + Gender + BIPOC_Status + \n",
       "    FirstGen_Status + Pell_Recepient + Fall_Sem + Rural_Status:BIPOC_Status + \n",
       "    Rural_Status:Pell_Recepient, family = binomial, data = RententionData)\n",
       "\n",
       "Deviance Residuals: \n",
       "    Min       1Q   Median       3Q      Max  \n",
       "-2.2881   0.4272   0.5327   0.6035   0.9437  \n",
       "\n",
       "Coefficients:\n",
       "                              Estimate Std. Error z value Pr(>|z|)    \n",
       "(Intercept)                    2.43170    0.03805  63.914  < 2e-16 ***\n",
       "Rural_Status1                 -0.24127    0.07313  -3.299 0.000970 ***\n",
       "GenderM                       -0.27001    0.03038  -8.888  < 2e-16 ***\n",
       "BIPOC_Status1                 -0.08367    0.03499  -2.391 0.016791 *  \n",
       "FirstGen_Status1              -0.61670    0.03731 -16.530  < 2e-16 ***\n",
       "Pell_Recepient1                0.11026    0.03875   2.845 0.004438 ** \n",
       "Fall_Sem3rdFall               -0.46727    0.03912 -11.946  < 2e-16 ***\n",
       "Fall_Sem4thFall               -0.61845    0.03836 -16.122  < 2e-16 ***\n",
       "Rural_Status1:BIPOC_Status1    0.50802    0.14374   3.534 0.000409 ***\n",
       "Rural_Status1:Pell_Recepient1 -0.21732    0.11899  -1.826 0.067808 .  \n",
       "---\n",
       "Signif. codes:  0 ‘***’ 0.001 ‘**’ 0.01 ‘*’ 0.05 ‘.’ 0.1 ‘ ’ 1\n",
       "\n",
       "(Dispersion parameter for binomial family taken to be 1)\n",
       "\n",
       "    Null deviance: 29867  on 35255  degrees of freedom\n",
       "Residual deviance: 29175  on 35246  degrees of freedom\n",
       "AIC: 29195\n",
       "\n",
       "Number of Fisher Scoring iterations: 4\n"
      ]
     },
     "metadata": {},
     "output_type": "display_data"
    }
   ],
   "source": [
    "glmod_Final = glmodT \n",
    "summary(glmod_Final)"
   ]
  },
  {
   "cell_type": "code",
   "execution_count": null,
   "id": "parliamentary-tyler",
   "metadata": {},
   "outputs": [],
   "source": []
  }
 ],
 "metadata": {
  "kernelspec": {
   "display_name": "R",
   "language": "R",
   "name": "ir"
  },
  "language_info": {
   "codemirror_mode": "r",
   "file_extension": ".r",
   "mimetype": "text/x-r-source",
   "name": "R",
   "pygments_lexer": "r",
   "version": "4.0.3"
  }
 },
 "nbformat": 4,
 "nbformat_minor": 5
}
