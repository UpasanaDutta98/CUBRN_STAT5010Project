{
 "cells": [
  {
   "cell_type": "code",
   "execution_count": 2,
   "id": "organized-lafayette",
   "metadata": {
    "scrolled": true
   },
   "outputs": [
    {
     "data": {
      "text/html": [
       "<table class=\"dataframe\">\n",
       "<caption>A data.frame: 32 × 6</caption>\n",
       "<thead>\n",
       "\t<tr><th scope=col>Gender</th><th scope=col>BIPOC_or_not</th><th scope=col>FirstGen_or_not</th><th scope=col>PellGrant</th><th scope=col>Rural_or_not</th><th scope=col>Avg_TermsToGrad</th></tr>\n",
       "\t<tr><th scope=col>&lt;chr&gt;</th><th scope=col>&lt;int&gt;</th><th scope=col>&lt;int&gt;</th><th scope=col>&lt;int&gt;</th><th scope=col>&lt;int&gt;</th><th scope=col>&lt;dbl&gt;</th></tr>\n",
       "</thead>\n",
       "<tbody>\n",
       "\t<tr><td>F</td><td>1</td><td>1</td><td>0</td><td>1</td><td>11.00000</td></tr>\n",
       "\t<tr><td>F</td><td>1</td><td>1</td><td>0</td><td>0</td><td>11.88889</td></tr>\n",
       "\t<tr><td>F</td><td>1</td><td>1</td><td>1</td><td>1</td><td>12.33333</td></tr>\n",
       "\t<tr><td>F</td><td>1</td><td>1</td><td>1</td><td>0</td><td>12.49296</td></tr>\n",
       "\t<tr><td>F</td><td>1</td><td>0</td><td>0</td><td>1</td><td>11.40000</td></tr>\n",
       "\t<tr><td>F</td><td>1</td><td>0</td><td>0</td><td>0</td><td>11.87023</td></tr>\n",
       "\t<tr><td>F</td><td>1</td><td>0</td><td>1</td><td>1</td><td>11.00000</td></tr>\n",
       "\t<tr><td>F</td><td>1</td><td>0</td><td>1</td><td>0</td><td>12.60000</td></tr>\n",
       "\t<tr><td>F</td><td>0</td><td>1</td><td>0</td><td>1</td><td>12.20000</td></tr>\n",
       "\t<tr><td>F</td><td>0</td><td>1</td><td>0</td><td>0</td><td>11.72549</td></tr>\n",
       "\t<tr><td>F</td><td>0</td><td>1</td><td>1</td><td>1</td><td>11.12500</td></tr>\n",
       "\t<tr><td>F</td><td>0</td><td>1</td><td>1</td><td>0</td><td>12.40000</td></tr>\n",
       "\t<tr><td>F</td><td>0</td><td>0</td><td>0</td><td>1</td><td>11.50000</td></tr>\n",
       "\t<tr><td>F</td><td>0</td><td>0</td><td>0</td><td>0</td><td>11.54021</td></tr>\n",
       "\t<tr><td>F</td><td>0</td><td>0</td><td>1</td><td>1</td><td>11.71429</td></tr>\n",
       "\t<tr><td>F</td><td>0</td><td>0</td><td>1</td><td>0</td><td>11.68966</td></tr>\n",
       "\t<tr><td>M</td><td>1</td><td>1</td><td>0</td><td>1</td><td>      NA</td></tr>\n",
       "\t<tr><td>M</td><td>1</td><td>1</td><td>0</td><td>0</td><td>12.50000</td></tr>\n",
       "\t<tr><td>M</td><td>1</td><td>1</td><td>1</td><td>1</td><td>14.16667</td></tr>\n",
       "\t<tr><td>M</td><td>1</td><td>1</td><td>1</td><td>0</td><td>12.59494</td></tr>\n",
       "\t<tr><td>M</td><td>1</td><td>0</td><td>0</td><td>1</td><td>12.50000</td></tr>\n",
       "\t<tr><td>M</td><td>1</td><td>0</td><td>0</td><td>0</td><td>12.39855</td></tr>\n",
       "\t<tr><td>M</td><td>1</td><td>0</td><td>1</td><td>1</td><td>12.50000</td></tr>\n",
       "\t<tr><td>M</td><td>1</td><td>0</td><td>1</td><td>0</td><td>12.59322</td></tr>\n",
       "\t<tr><td>M</td><td>0</td><td>1</td><td>0</td><td>1</td><td>11.80000</td></tr>\n",
       "\t<tr><td>M</td><td>0</td><td>1</td><td>0</td><td>0</td><td>12.51020</td></tr>\n",
       "\t<tr><td>M</td><td>0</td><td>1</td><td>1</td><td>1</td><td>11.87500</td></tr>\n",
       "\t<tr><td>M</td><td>0</td><td>1</td><td>1</td><td>0</td><td>12.40909</td></tr>\n",
       "\t<tr><td>M</td><td>0</td><td>0</td><td>0</td><td>1</td><td>12.33333</td></tr>\n",
       "\t<tr><td>M</td><td>0</td><td>0</td><td>0</td><td>0</td><td>12.14209</td></tr>\n",
       "\t<tr><td>M</td><td>0</td><td>0</td><td>1</td><td>1</td><td>12.00000</td></tr>\n",
       "\t<tr><td>M</td><td>0</td><td>0</td><td>1</td><td>0</td><td>12.64368</td></tr>\n",
       "</tbody>\n",
       "</table>\n"
      ],
      "text/latex": [
       "A data.frame: 32 × 6\n",
       "\\begin{tabular}{llllll}\n",
       " Gender & BIPOC\\_or\\_not & FirstGen\\_or\\_not & PellGrant & Rural\\_or\\_not & Avg\\_TermsToGrad\\\\\n",
       " <chr> & <int> & <int> & <int> & <int> & <dbl>\\\\\n",
       "\\hline\n",
       "\t F & 1 & 1 & 0 & 1 & 11.00000\\\\\n",
       "\t F & 1 & 1 & 0 & 0 & 11.88889\\\\\n",
       "\t F & 1 & 1 & 1 & 1 & 12.33333\\\\\n",
       "\t F & 1 & 1 & 1 & 0 & 12.49296\\\\\n",
       "\t F & 1 & 0 & 0 & 1 & 11.40000\\\\\n",
       "\t F & 1 & 0 & 0 & 0 & 11.87023\\\\\n",
       "\t F & 1 & 0 & 1 & 1 & 11.00000\\\\\n",
       "\t F & 1 & 0 & 1 & 0 & 12.60000\\\\\n",
       "\t F & 0 & 1 & 0 & 1 & 12.20000\\\\\n",
       "\t F & 0 & 1 & 0 & 0 & 11.72549\\\\\n",
       "\t F & 0 & 1 & 1 & 1 & 11.12500\\\\\n",
       "\t F & 0 & 1 & 1 & 0 & 12.40000\\\\\n",
       "\t F & 0 & 0 & 0 & 1 & 11.50000\\\\\n",
       "\t F & 0 & 0 & 0 & 0 & 11.54021\\\\\n",
       "\t F & 0 & 0 & 1 & 1 & 11.71429\\\\\n",
       "\t F & 0 & 0 & 1 & 0 & 11.68966\\\\\n",
       "\t M & 1 & 1 & 0 & 1 &       NA\\\\\n",
       "\t M & 1 & 1 & 0 & 0 & 12.50000\\\\\n",
       "\t M & 1 & 1 & 1 & 1 & 14.16667\\\\\n",
       "\t M & 1 & 1 & 1 & 0 & 12.59494\\\\\n",
       "\t M & 1 & 0 & 0 & 1 & 12.50000\\\\\n",
       "\t M & 1 & 0 & 0 & 0 & 12.39855\\\\\n",
       "\t M & 1 & 0 & 1 & 1 & 12.50000\\\\\n",
       "\t M & 1 & 0 & 1 & 0 & 12.59322\\\\\n",
       "\t M & 0 & 1 & 0 & 1 & 11.80000\\\\\n",
       "\t M & 0 & 1 & 0 & 0 & 12.51020\\\\\n",
       "\t M & 0 & 1 & 1 & 1 & 11.87500\\\\\n",
       "\t M & 0 & 1 & 1 & 0 & 12.40909\\\\\n",
       "\t M & 0 & 0 & 0 & 1 & 12.33333\\\\\n",
       "\t M & 0 & 0 & 0 & 0 & 12.14209\\\\\n",
       "\t M & 0 & 0 & 1 & 1 & 12.00000\\\\\n",
       "\t M & 0 & 0 & 1 & 0 & 12.64368\\\\\n",
       "\\end{tabular}\n"
      ],
      "text/markdown": [
       "\n",
       "A data.frame: 32 × 6\n",
       "\n",
       "| Gender &lt;chr&gt; | BIPOC_or_not &lt;int&gt; | FirstGen_or_not &lt;int&gt; | PellGrant &lt;int&gt; | Rural_or_not &lt;int&gt; | Avg_TermsToGrad &lt;dbl&gt; |\n",
       "|---|---|---|---|---|---|\n",
       "| F | 1 | 1 | 0 | 1 | 11.00000 |\n",
       "| F | 1 | 1 | 0 | 0 | 11.88889 |\n",
       "| F | 1 | 1 | 1 | 1 | 12.33333 |\n",
       "| F | 1 | 1 | 1 | 0 | 12.49296 |\n",
       "| F | 1 | 0 | 0 | 1 | 11.40000 |\n",
       "| F | 1 | 0 | 0 | 0 | 11.87023 |\n",
       "| F | 1 | 0 | 1 | 1 | 11.00000 |\n",
       "| F | 1 | 0 | 1 | 0 | 12.60000 |\n",
       "| F | 0 | 1 | 0 | 1 | 12.20000 |\n",
       "| F | 0 | 1 | 0 | 0 | 11.72549 |\n",
       "| F | 0 | 1 | 1 | 1 | 11.12500 |\n",
       "| F | 0 | 1 | 1 | 0 | 12.40000 |\n",
       "| F | 0 | 0 | 0 | 1 | 11.50000 |\n",
       "| F | 0 | 0 | 0 | 0 | 11.54021 |\n",
       "| F | 0 | 0 | 1 | 1 | 11.71429 |\n",
       "| F | 0 | 0 | 1 | 0 | 11.68966 |\n",
       "| M | 1 | 1 | 0 | 1 |       NA |\n",
       "| M | 1 | 1 | 0 | 0 | 12.50000 |\n",
       "| M | 1 | 1 | 1 | 1 | 14.16667 |\n",
       "| M | 1 | 1 | 1 | 0 | 12.59494 |\n",
       "| M | 1 | 0 | 0 | 1 | 12.50000 |\n",
       "| M | 1 | 0 | 0 | 0 | 12.39855 |\n",
       "| M | 1 | 0 | 1 | 1 | 12.50000 |\n",
       "| M | 1 | 0 | 1 | 0 | 12.59322 |\n",
       "| M | 0 | 1 | 0 | 1 | 11.80000 |\n",
       "| M | 0 | 1 | 0 | 0 | 12.51020 |\n",
       "| M | 0 | 1 | 1 | 1 | 11.87500 |\n",
       "| M | 0 | 1 | 1 | 0 | 12.40909 |\n",
       "| M | 0 | 0 | 0 | 1 | 12.33333 |\n",
       "| M | 0 | 0 | 0 | 0 | 12.14209 |\n",
       "| M | 0 | 0 | 1 | 1 | 12.00000 |\n",
       "| M | 0 | 0 | 1 | 0 | 12.64368 |\n",
       "\n"
      ],
      "text/plain": [
       "   Gender BIPOC_or_not FirstGen_or_not PellGrant Rural_or_not Avg_TermsToGrad\n",
       "1  F      1            1               0         1            11.00000       \n",
       "2  F      1            1               0         0            11.88889       \n",
       "3  F      1            1               1         1            12.33333       \n",
       "4  F      1            1               1         0            12.49296       \n",
       "5  F      1            0               0         1            11.40000       \n",
       "6  F      1            0               0         0            11.87023       \n",
       "7  F      1            0               1         1            11.00000       \n",
       "8  F      1            0               1         0            12.60000       \n",
       "9  F      0            1               0         1            12.20000       \n",
       "10 F      0            1               0         0            11.72549       \n",
       "11 F      0            1               1         1            11.12500       \n",
       "12 F      0            1               1         0            12.40000       \n",
       "13 F      0            0               0         1            11.50000       \n",
       "14 F      0            0               0         0            11.54021       \n",
       "15 F      0            0               1         1            11.71429       \n",
       "16 F      0            0               1         0            11.68966       \n",
       "17 M      1            1               0         1                  NA       \n",
       "18 M      1            1               0         0            12.50000       \n",
       "19 M      1            1               1         1            14.16667       \n",
       "20 M      1            1               1         0            12.59494       \n",
       "21 M      1            0               0         1            12.50000       \n",
       "22 M      1            0               0         0            12.39855       \n",
       "23 M      1            0               1         1            12.50000       \n",
       "24 M      1            0               1         0            12.59322       \n",
       "25 M      0            1               0         1            11.80000       \n",
       "26 M      0            1               0         0            12.51020       \n",
       "27 M      0            1               1         1            11.87500       \n",
       "28 M      0            1               1         0            12.40909       \n",
       "29 M      0            0               0         1            12.33333       \n",
       "30 M      0            0               0         0            12.14209       \n",
       "31 M      0            0               1         1            12.00000       \n",
       "32 M      0            0               1         0            12.64368       "
      ]
     },
     "metadata": {},
     "output_type": "display_data"
    }
   ],
   "source": [
    "TermsGrad = read.csv(file = '../RuralData/AvgTermsToGrad_Final.csv')\n",
    "TermsGrad"
   ]
  },
  {
   "cell_type": "code",
   "execution_count": 3,
   "id": "impressive-american",
   "metadata": {},
   "outputs": [],
   "source": [
    "TermsGrad$Gender = as.factor(TermsGrad$Gender)\n",
    "TermsGrad$BIPOC_or_not = as.factor(TermsGrad$BIPOC_or_not)\n",
    "TermsGrad$FirstGen_or_not = as.factor(TermsGrad$FirstGen_or_not)\n",
    "TermsGrad$PellGrant = as.factor(TermsGrad$PellGrant)\n",
    "TermsGrad$Rural_or_not = as.factor(TermsGrad$Rural_or_not)\n",
    "\n",
    "TermsGrad$Rural_or_not = relevel(TermsGrad$Rural_or_not, ref = \"1\")\n",
    "TermsGrad$BIPOC_or_not = relevel(TermsGrad$BIPOC_or_not, ref = \"1\")\n",
    "TermsGrad$FirstGen_or_not = relevel(TermsGrad$FirstGen_or_not, ref = \"1\")\n",
    "TermsGrad$PellGrant = relevel(TermsGrad$PellGrant, ref = \"0\")"
   ]
  },
  {
   "cell_type": "code",
   "execution_count": 4,
   "id": "velvet-march",
   "metadata": {
    "scrolled": true
   },
   "outputs": [
    {
     "data": {
      "text/html": [
       "<table class=\"dataframe\">\n",
       "<caption>A data.frame: 32 × 6</caption>\n",
       "<thead>\n",
       "\t<tr><th scope=col>Gender</th><th scope=col>BIPOC_or_not</th><th scope=col>FirstGen_or_not</th><th scope=col>PellGrant</th><th scope=col>Rural_or_not</th><th scope=col>Avg_TermsToGrad</th></tr>\n",
       "\t<tr><th scope=col>&lt;fct&gt;</th><th scope=col>&lt;fct&gt;</th><th scope=col>&lt;fct&gt;</th><th scope=col>&lt;fct&gt;</th><th scope=col>&lt;fct&gt;</th><th scope=col>&lt;dbl&gt;</th></tr>\n",
       "</thead>\n",
       "<tbody>\n",
       "\t<tr><td>F</td><td>1</td><td>1</td><td>0</td><td>1</td><td>11.00000</td></tr>\n",
       "\t<tr><td>F</td><td>1</td><td>1</td><td>0</td><td>0</td><td>11.88889</td></tr>\n",
       "\t<tr><td>F</td><td>1</td><td>1</td><td>1</td><td>1</td><td>12.33333</td></tr>\n",
       "\t<tr><td>F</td><td>1</td><td>1</td><td>1</td><td>0</td><td>12.49296</td></tr>\n",
       "\t<tr><td>F</td><td>1</td><td>0</td><td>0</td><td>1</td><td>11.40000</td></tr>\n",
       "\t<tr><td>F</td><td>1</td><td>0</td><td>0</td><td>0</td><td>11.87023</td></tr>\n",
       "\t<tr><td>F</td><td>1</td><td>0</td><td>1</td><td>1</td><td>11.00000</td></tr>\n",
       "\t<tr><td>F</td><td>1</td><td>0</td><td>1</td><td>0</td><td>12.60000</td></tr>\n",
       "\t<tr><td>F</td><td>0</td><td>1</td><td>0</td><td>1</td><td>12.20000</td></tr>\n",
       "\t<tr><td>F</td><td>0</td><td>1</td><td>0</td><td>0</td><td>11.72549</td></tr>\n",
       "\t<tr><td>F</td><td>0</td><td>1</td><td>1</td><td>1</td><td>11.12500</td></tr>\n",
       "\t<tr><td>F</td><td>0</td><td>1</td><td>1</td><td>0</td><td>12.40000</td></tr>\n",
       "\t<tr><td>F</td><td>0</td><td>0</td><td>0</td><td>1</td><td>11.50000</td></tr>\n",
       "\t<tr><td>F</td><td>0</td><td>0</td><td>0</td><td>0</td><td>11.54021</td></tr>\n",
       "\t<tr><td>F</td><td>0</td><td>0</td><td>1</td><td>1</td><td>11.71429</td></tr>\n",
       "\t<tr><td>F</td><td>0</td><td>0</td><td>1</td><td>0</td><td>11.68966</td></tr>\n",
       "\t<tr><td>M</td><td>1</td><td>1</td><td>0</td><td>1</td><td>      NA</td></tr>\n",
       "\t<tr><td>M</td><td>1</td><td>1</td><td>0</td><td>0</td><td>12.50000</td></tr>\n",
       "\t<tr><td>M</td><td>1</td><td>1</td><td>1</td><td>1</td><td>14.16667</td></tr>\n",
       "\t<tr><td>M</td><td>1</td><td>1</td><td>1</td><td>0</td><td>12.59494</td></tr>\n",
       "\t<tr><td>M</td><td>1</td><td>0</td><td>0</td><td>1</td><td>12.50000</td></tr>\n",
       "\t<tr><td>M</td><td>1</td><td>0</td><td>0</td><td>0</td><td>12.39855</td></tr>\n",
       "\t<tr><td>M</td><td>1</td><td>0</td><td>1</td><td>1</td><td>12.50000</td></tr>\n",
       "\t<tr><td>M</td><td>1</td><td>0</td><td>1</td><td>0</td><td>12.59322</td></tr>\n",
       "\t<tr><td>M</td><td>0</td><td>1</td><td>0</td><td>1</td><td>11.80000</td></tr>\n",
       "\t<tr><td>M</td><td>0</td><td>1</td><td>0</td><td>0</td><td>12.51020</td></tr>\n",
       "\t<tr><td>M</td><td>0</td><td>1</td><td>1</td><td>1</td><td>11.87500</td></tr>\n",
       "\t<tr><td>M</td><td>0</td><td>1</td><td>1</td><td>0</td><td>12.40909</td></tr>\n",
       "\t<tr><td>M</td><td>0</td><td>0</td><td>0</td><td>1</td><td>12.33333</td></tr>\n",
       "\t<tr><td>M</td><td>0</td><td>0</td><td>0</td><td>0</td><td>12.14209</td></tr>\n",
       "\t<tr><td>M</td><td>0</td><td>0</td><td>1</td><td>1</td><td>12.00000</td></tr>\n",
       "\t<tr><td>M</td><td>0</td><td>0</td><td>1</td><td>0</td><td>12.64368</td></tr>\n",
       "</tbody>\n",
       "</table>\n"
      ],
      "text/latex": [
       "A data.frame: 32 × 6\n",
       "\\begin{tabular}{llllll}\n",
       " Gender & BIPOC\\_or\\_not & FirstGen\\_or\\_not & PellGrant & Rural\\_or\\_not & Avg\\_TermsToGrad\\\\\n",
       " <fct> & <fct> & <fct> & <fct> & <fct> & <dbl>\\\\\n",
       "\\hline\n",
       "\t F & 1 & 1 & 0 & 1 & 11.00000\\\\\n",
       "\t F & 1 & 1 & 0 & 0 & 11.88889\\\\\n",
       "\t F & 1 & 1 & 1 & 1 & 12.33333\\\\\n",
       "\t F & 1 & 1 & 1 & 0 & 12.49296\\\\\n",
       "\t F & 1 & 0 & 0 & 1 & 11.40000\\\\\n",
       "\t F & 1 & 0 & 0 & 0 & 11.87023\\\\\n",
       "\t F & 1 & 0 & 1 & 1 & 11.00000\\\\\n",
       "\t F & 1 & 0 & 1 & 0 & 12.60000\\\\\n",
       "\t F & 0 & 1 & 0 & 1 & 12.20000\\\\\n",
       "\t F & 0 & 1 & 0 & 0 & 11.72549\\\\\n",
       "\t F & 0 & 1 & 1 & 1 & 11.12500\\\\\n",
       "\t F & 0 & 1 & 1 & 0 & 12.40000\\\\\n",
       "\t F & 0 & 0 & 0 & 1 & 11.50000\\\\\n",
       "\t F & 0 & 0 & 0 & 0 & 11.54021\\\\\n",
       "\t F & 0 & 0 & 1 & 1 & 11.71429\\\\\n",
       "\t F & 0 & 0 & 1 & 0 & 11.68966\\\\\n",
       "\t M & 1 & 1 & 0 & 1 &       NA\\\\\n",
       "\t M & 1 & 1 & 0 & 0 & 12.50000\\\\\n",
       "\t M & 1 & 1 & 1 & 1 & 14.16667\\\\\n",
       "\t M & 1 & 1 & 1 & 0 & 12.59494\\\\\n",
       "\t M & 1 & 0 & 0 & 1 & 12.50000\\\\\n",
       "\t M & 1 & 0 & 0 & 0 & 12.39855\\\\\n",
       "\t M & 1 & 0 & 1 & 1 & 12.50000\\\\\n",
       "\t M & 1 & 0 & 1 & 0 & 12.59322\\\\\n",
       "\t M & 0 & 1 & 0 & 1 & 11.80000\\\\\n",
       "\t M & 0 & 1 & 0 & 0 & 12.51020\\\\\n",
       "\t M & 0 & 1 & 1 & 1 & 11.87500\\\\\n",
       "\t M & 0 & 1 & 1 & 0 & 12.40909\\\\\n",
       "\t M & 0 & 0 & 0 & 1 & 12.33333\\\\\n",
       "\t M & 0 & 0 & 0 & 0 & 12.14209\\\\\n",
       "\t M & 0 & 0 & 1 & 1 & 12.00000\\\\\n",
       "\t M & 0 & 0 & 1 & 0 & 12.64368\\\\\n",
       "\\end{tabular}\n"
      ],
      "text/markdown": [
       "\n",
       "A data.frame: 32 × 6\n",
       "\n",
       "| Gender &lt;fct&gt; | BIPOC_or_not &lt;fct&gt; | FirstGen_or_not &lt;fct&gt; | PellGrant &lt;fct&gt; | Rural_or_not &lt;fct&gt; | Avg_TermsToGrad &lt;dbl&gt; |\n",
       "|---|---|---|---|---|---|\n",
       "| F | 1 | 1 | 0 | 1 | 11.00000 |\n",
       "| F | 1 | 1 | 0 | 0 | 11.88889 |\n",
       "| F | 1 | 1 | 1 | 1 | 12.33333 |\n",
       "| F | 1 | 1 | 1 | 0 | 12.49296 |\n",
       "| F | 1 | 0 | 0 | 1 | 11.40000 |\n",
       "| F | 1 | 0 | 0 | 0 | 11.87023 |\n",
       "| F | 1 | 0 | 1 | 1 | 11.00000 |\n",
       "| F | 1 | 0 | 1 | 0 | 12.60000 |\n",
       "| F | 0 | 1 | 0 | 1 | 12.20000 |\n",
       "| F | 0 | 1 | 0 | 0 | 11.72549 |\n",
       "| F | 0 | 1 | 1 | 1 | 11.12500 |\n",
       "| F | 0 | 1 | 1 | 0 | 12.40000 |\n",
       "| F | 0 | 0 | 0 | 1 | 11.50000 |\n",
       "| F | 0 | 0 | 0 | 0 | 11.54021 |\n",
       "| F | 0 | 0 | 1 | 1 | 11.71429 |\n",
       "| F | 0 | 0 | 1 | 0 | 11.68966 |\n",
       "| M | 1 | 1 | 0 | 1 |       NA |\n",
       "| M | 1 | 1 | 0 | 0 | 12.50000 |\n",
       "| M | 1 | 1 | 1 | 1 | 14.16667 |\n",
       "| M | 1 | 1 | 1 | 0 | 12.59494 |\n",
       "| M | 1 | 0 | 0 | 1 | 12.50000 |\n",
       "| M | 1 | 0 | 0 | 0 | 12.39855 |\n",
       "| M | 1 | 0 | 1 | 1 | 12.50000 |\n",
       "| M | 1 | 0 | 1 | 0 | 12.59322 |\n",
       "| M | 0 | 1 | 0 | 1 | 11.80000 |\n",
       "| M | 0 | 1 | 0 | 0 | 12.51020 |\n",
       "| M | 0 | 1 | 1 | 1 | 11.87500 |\n",
       "| M | 0 | 1 | 1 | 0 | 12.40909 |\n",
       "| M | 0 | 0 | 0 | 1 | 12.33333 |\n",
       "| M | 0 | 0 | 0 | 0 | 12.14209 |\n",
       "| M | 0 | 0 | 1 | 1 | 12.00000 |\n",
       "| M | 0 | 0 | 1 | 0 | 12.64368 |\n",
       "\n"
      ],
      "text/plain": [
       "   Gender BIPOC_or_not FirstGen_or_not PellGrant Rural_or_not Avg_TermsToGrad\n",
       "1  F      1            1               0         1            11.00000       \n",
       "2  F      1            1               0         0            11.88889       \n",
       "3  F      1            1               1         1            12.33333       \n",
       "4  F      1            1               1         0            12.49296       \n",
       "5  F      1            0               0         1            11.40000       \n",
       "6  F      1            0               0         0            11.87023       \n",
       "7  F      1            0               1         1            11.00000       \n",
       "8  F      1            0               1         0            12.60000       \n",
       "9  F      0            1               0         1            12.20000       \n",
       "10 F      0            1               0         0            11.72549       \n",
       "11 F      0            1               1         1            11.12500       \n",
       "12 F      0            1               1         0            12.40000       \n",
       "13 F      0            0               0         1            11.50000       \n",
       "14 F      0            0               0         0            11.54021       \n",
       "15 F      0            0               1         1            11.71429       \n",
       "16 F      0            0               1         0            11.68966       \n",
       "17 M      1            1               0         1                  NA       \n",
       "18 M      1            1               0         0            12.50000       \n",
       "19 M      1            1               1         1            14.16667       \n",
       "20 M      1            1               1         0            12.59494       \n",
       "21 M      1            0               0         1            12.50000       \n",
       "22 M      1            0               0         0            12.39855       \n",
       "23 M      1            0               1         1            12.50000       \n",
       "24 M      1            0               1         0            12.59322       \n",
       "25 M      0            1               0         1            11.80000       \n",
       "26 M      0            1               0         0            12.51020       \n",
       "27 M      0            1               1         1            11.87500       \n",
       "28 M      0            1               1         0            12.40909       \n",
       "29 M      0            0               0         1            12.33333       \n",
       "30 M      0            0               0         0            12.14209       \n",
       "31 M      0            0               1         1            12.00000       \n",
       "32 M      0            0               1         0            12.64368       "
      ]
     },
     "metadata": {},
     "output_type": "display_data"
    }
   ],
   "source": [
    "TermsGrad"
   ]
  },
  {
   "cell_type": "code",
   "execution_count": 12,
   "id": "known-turkey",
   "metadata": {
    "scrolled": true
   },
   "outputs": [
    {
     "data": {
      "text/plain": [
       "\n",
       "Call:\n",
       "lm(formula = Avg_TermsToGrad ~ Rural_or_not, data = TermsGrad)\n",
       "\n",
       "Residuals:\n",
       "    Min      1Q  Median      3Q     Max \n",
       "-0.9632 -0.4214  0.1486  0.3441  2.2035 \n",
       "\n",
       "Coefficients:\n",
       "              Estimate Std. Error t value Pr(>|t|)    \n",
       "(Intercept)    11.9632     0.1598   74.89   <2e-16 ***\n",
       "Rural_or_not0   0.2868     0.2224    1.29    0.207    \n",
       "---\n",
       "Signif. codes:  0 ‘***’ 0.001 ‘**’ 0.01 ‘*’ 0.05 ‘.’ 0.1 ‘ ’ 1\n",
       "\n",
       "Residual standard error: 0.6187 on 29 degrees of freedom\n",
       "  (1 observation deleted due to missingness)\n",
       "Multiple R-squared:  0.05424,\tAdjusted R-squared:  0.02163 \n",
       "F-statistic: 1.663 on 1 and 29 DF,  p-value: 0.2074\n"
      ]
     },
     "metadata": {},
     "output_type": "display_data"
    }
   ],
   "source": [
    "lmod = lm(Avg_TermsToGrad ~ Rural_or_not, data = TermsGrad)\n",
    "summary(lmod)\n",
    "# I don't think we should trust this because the data is grouped, so the below average value is not the real average.\n",
    "# I think what's more reliable is having all 5 filters."
   ]
  },
  {
   "cell_type": "code",
   "execution_count": 16,
   "id": "mysterious-liability",
   "metadata": {},
   "outputs": [
    {
     "data": {
      "text/plain": [
       "\n",
       "Call:\n",
       "lm(formula = Avg_TermsToGrad ~ Rural_or_not + Gender + BIPOC_or_not + \n",
       "    FirstGen_or_not + PellGrant, data = TermsGrad)\n",
       "\n",
       "Residuals:\n",
       "     Min       1Q   Median       3Q      Max \n",
       "-0.83974 -0.21278 -0.02252  0.21648  1.45452 \n",
       "\n",
       "Coefficients:\n",
       "                 Estimate Std. Error t value Pr(>|t|)    \n",
       "(Intercept)       11.7549     0.2230  52.720  < 2e-16 ***\n",
       "Rural_or_not0      0.2571     0.1767   1.455 0.158042    \n",
       "GenderM            0.6828     0.1767   3.864 0.000701 ***\n",
       "BIPOC_or_not0     -0.2918     0.1767  -1.651 0.111158    \n",
       "FirstGen_or_not0  -0.1896     0.1767  -1.073 0.293404    \n",
       "PellGrant1         0.2744     0.1767   1.553 0.132913    \n",
       "---\n",
       "Signif. codes:  0 ‘***’ 0.001 ‘**’ 0.01 ‘*’ 0.05 ‘.’ 0.1 ‘ ’ 1\n",
       "\n",
       "Residual standard error: 0.4904 on 25 degrees of freedom\n",
       "  (1 observation deleted due to missingness)\n",
       "Multiple R-squared:  0.4878,\tAdjusted R-squared:  0.3854 \n",
       "F-statistic: 4.762 on 5 and 25 DF,  p-value: 0.003414\n"
      ]
     },
     "metadata": {},
     "output_type": "display_data"
    }
   ],
   "source": [
    "lmod2 = lm(Avg_TermsToGrad ~ Rural_or_not + Gender + BIPOC_or_not + FirstGen_or_not + PellGrant, data = TermsGrad)\n",
    "summary(lmod2)"
   ]
  },
  {
   "cell_type": "code",
   "execution_count": 17,
   "id": "likely-mandate",
   "metadata": {},
   "outputs": [
    {
     "data": {
      "text/plain": [
       "\n",
       "Call:\n",
       "lm(formula = Avg_TermsToGrad ~ Rural_or_not + Gender + BIPOC_or_not + \n",
       "    FirstGen_or_not + PellGrant + Rural_or_not:Gender + Rural_or_not:BIPOC_or_not + \n",
       "    Rural_or_not:FirstGen_or_not + Rural_or_not:PellGrant, data = TermsGrad)\n",
       "\n",
       "Residuals:\n",
       "     Min       1Q   Median       3Q      Max \n",
       "-0.79535 -0.21017 -0.02986  0.25277  1.26090 \n",
       "\n",
       "Coefficients:\n",
       "                               Estimate Std. Error t value Pr(>|t|)    \n",
       "(Intercept)                     11.7953     0.3057  38.587  < 2e-16 ***\n",
       "Rural_or_not0                    0.2352     0.4168   0.564  0.57849    \n",
       "GenderM                          0.9568     0.2647   3.614  0.00163 ** \n",
       "BIPOC_or_not0                   -0.3881     0.2647  -1.466  0.15748    \n",
       "FirstGen_or_not0                -0.2881     0.2647  -1.088  0.28885    \n",
       "PellGrant1                       0.1536     0.2647   0.580  0.56794    \n",
       "Rural_or_not0:GenderM           -0.5088     0.3665  -1.388  0.17962    \n",
       "Rural_or_not0:BIPOC_or_not0      0.1533     0.3665   0.418  0.68004    \n",
       "Rural_or_not0:FirstGen_or_not0   0.1576     0.3665   0.430  0.67161    \n",
       "Rural_or_not0:PellGrant1         0.2024     0.3665   0.552  0.58663    \n",
       "---\n",
       "Signif. codes:  0 ‘***’ 0.001 ‘**’ 0.01 ‘*’ 0.05 ‘.’ 0.1 ‘ ’ 1\n",
       "\n",
       "Residual standard error: 0.5069 on 21 degrees of freedom\n",
       "  (1 observation deleted due to missingness)\n",
       "Multiple R-squared:  0.5403,\tAdjusted R-squared:  0.3433 \n",
       "F-statistic: 2.742 on 9 and 21 DF,  p-value: 0.02728\n"
      ]
     },
     "metadata": {},
     "output_type": "display_data"
    }
   ],
   "source": [
    "lmod3 = lm(Avg_TermsToGrad ~ Rural_or_not + Gender + BIPOC_or_not + FirstGen_or_not + PellGrant\n",
    "           + Rural_or_not:Gender + Rural_or_not:BIPOC_or_not + Rural_or_not:FirstGen_or_not + Rural_or_not:PellGrant, \n",
    "           data = TermsGrad)\n",
    "summary(lmod3)"
   ]
  },
  {
   "cell_type": "code",
   "execution_count": 18,
   "id": "combined-confidence",
   "metadata": {},
   "outputs": [
    {
     "data": {
      "text/html": [
       "<table class=\"dataframe\">\n",
       "<caption>A anova: 2 × 6</caption>\n",
       "<thead>\n",
       "\t<tr><th></th><th scope=col>Res.Df</th><th scope=col>RSS</th><th scope=col>Df</th><th scope=col>Sum of Sq</th><th scope=col>F</th><th scope=col>Pr(&gt;F)</th></tr>\n",
       "\t<tr><th></th><th scope=col>&lt;dbl&gt;</th><th scope=col>&lt;dbl&gt;</th><th scope=col>&lt;dbl&gt;</th><th scope=col>&lt;dbl&gt;</th><th scope=col>&lt;dbl&gt;</th><th scope=col>&lt;dbl&gt;</th></tr>\n",
       "</thead>\n",
       "<tbody>\n",
       "\t<tr><th scope=row>1</th><td>25</td><td>6.012086</td><td>NA</td><td>       NA</td><td>       NA</td><td>       NA</td></tr>\n",
       "\t<tr><th scope=row>2</th><td>21</td><td>5.396162</td><td> 4</td><td>0.6159243</td><td>0.5992412</td><td>0.6672558</td></tr>\n",
       "</tbody>\n",
       "</table>\n"
      ],
      "text/latex": [
       "A anova: 2 × 6\n",
       "\\begin{tabular}{r|llllll}\n",
       "  & Res.Df & RSS & Df & Sum of Sq & F & Pr(>F)\\\\\n",
       "  & <dbl> & <dbl> & <dbl> & <dbl> & <dbl> & <dbl>\\\\\n",
       "\\hline\n",
       "\t1 & 25 & 6.012086 & NA &        NA &        NA &        NA\\\\\n",
       "\t2 & 21 & 5.396162 &  4 & 0.6159243 & 0.5992412 & 0.6672558\\\\\n",
       "\\end{tabular}\n"
      ],
      "text/markdown": [
       "\n",
       "A anova: 2 × 6\n",
       "\n",
       "| <!--/--> | Res.Df &lt;dbl&gt; | RSS &lt;dbl&gt; | Df &lt;dbl&gt; | Sum of Sq &lt;dbl&gt; | F &lt;dbl&gt; | Pr(&gt;F) &lt;dbl&gt; |\n",
       "|---|---|---|---|---|---|---|\n",
       "| 1 | 25 | 6.012086 | NA |        NA |        NA |        NA |\n",
       "| 2 | 21 | 5.396162 |  4 | 0.6159243 | 0.5992412 | 0.6672558 |\n",
       "\n"
      ],
      "text/plain": [
       "  Res.Df RSS      Df Sum of Sq F         Pr(>F)   \n",
       "1 25     6.012086 NA        NA        NA        NA\n",
       "2 21     5.396162  4 0.6159243 0.5992412 0.6672558"
      ]
     },
     "metadata": {},
     "output_type": "display_data"
    }
   ],
   "source": [
    "anova(lmod2, lmod3)"
   ]
  },
  {
   "cell_type": "code",
   "execution_count": 14,
   "id": "married-boxing",
   "metadata": {},
   "outputs": [],
   "source": [
    "# Gender inequality in academia is a much studied topic. I think gender exploration might be worth looking into\n",
    "# as future work."
   ]
  },
  {
   "cell_type": "code",
   "execution_count": null,
   "id": "junior-angel",
   "metadata": {},
   "outputs": [],
   "source": []
  },
  {
   "cell_type": "markdown",
   "id": "documented-payday",
   "metadata": {},
   "source": [
    "## Re-working with the new dataset"
   ]
  },
  {
   "cell_type": "code",
   "execution_count": 6,
   "id": "completed-patio",
   "metadata": {
    "scrolled": true
   },
   "outputs": [
    {
     "data": {
      "text/html": [
       "<table class=\"dataframe\">\n",
       "<caption>A data.frame: 2159 × 6</caption>\n",
       "<thead>\n",
       "\t<tr><th scope=col>Rural_Status</th><th scope=col>Gender</th><th scope=col>BIPOC_Status</th><th scope=col>FirstGen_Status</th><th scope=col>Pell_Recepient</th><th scope=col>TermsToGrad</th></tr>\n",
       "\t<tr><th scope=col>&lt;int&gt;</th><th scope=col>&lt;chr&gt;</th><th scope=col>&lt;int&gt;</th><th scope=col>&lt;int&gt;</th><th scope=col>&lt;int&gt;</th><th scope=col>&lt;dbl&gt;</th></tr>\n",
       "</thead>\n",
       "<tbody>\n",
       "\t<tr><td>0</td><td>M</td><td>1</td><td>1</td><td>1</td><td>13</td></tr>\n",
       "\t<tr><td>1</td><td>M</td><td>0</td><td>0</td><td>0</td><td>12</td></tr>\n",
       "\t<tr><td>0</td><td>M</td><td>0</td><td>0</td><td>1</td><td>11</td></tr>\n",
       "\t<tr><td>0</td><td>F</td><td>1</td><td>1</td><td>1</td><td>11</td></tr>\n",
       "\t<tr><td>0</td><td>M</td><td>0</td><td>0</td><td>0</td><td> 8</td></tr>\n",
       "\t<tr><td>0</td><td>F</td><td>1</td><td>1</td><td>1</td><td>16</td></tr>\n",
       "\t<tr><td>0</td><td>M</td><td>0</td><td>0</td><td>0</td><td>11</td></tr>\n",
       "\t<tr><td>0</td><td>F</td><td>0</td><td>0</td><td>0</td><td>14</td></tr>\n",
       "\t<tr><td>0</td><td>M</td><td>0</td><td>0</td><td>1</td><td>14</td></tr>\n",
       "\t<tr><td>0</td><td>M</td><td>0</td><td>0</td><td>0</td><td>13</td></tr>\n",
       "\t<tr><td>0</td><td>M</td><td>1</td><td>1</td><td>1</td><td>10</td></tr>\n",
       "\t<tr><td>0</td><td>F</td><td>1</td><td>1</td><td>1</td><td>16</td></tr>\n",
       "\t<tr><td>1</td><td>F</td><td>1</td><td>1</td><td>1</td><td>11</td></tr>\n",
       "\t<tr><td>0</td><td>F</td><td>1</td><td>1</td><td>1</td><td>14</td></tr>\n",
       "\t<tr><td>0</td><td>M</td><td>1</td><td>1</td><td>1</td><td>13</td></tr>\n",
       "\t<tr><td>0</td><td>F</td><td>0</td><td>1</td><td>1</td><td>12</td></tr>\n",
       "\t<tr><td>0</td><td>F</td><td>1</td><td>0</td><td>0</td><td>12</td></tr>\n",
       "\t<tr><td>0</td><td>F</td><td>1</td><td>0</td><td>0</td><td>12</td></tr>\n",
       "\t<tr><td>0</td><td>F</td><td>0</td><td>0</td><td>0</td><td>13</td></tr>\n",
       "\t<tr><td>0</td><td>F</td><td>0</td><td>0</td><td>0</td><td>14</td></tr>\n",
       "\t<tr><td>0</td><td>M</td><td>0</td><td>0</td><td>0</td><td>11</td></tr>\n",
       "\t<tr><td>0</td><td>M</td><td>1</td><td>1</td><td>1</td><td>16</td></tr>\n",
       "\t<tr><td>0</td><td>M</td><td>1</td><td>0</td><td>0</td><td>11</td></tr>\n",
       "\t<tr><td>0</td><td>F</td><td>0</td><td>0</td><td>0</td><td>13</td></tr>\n",
       "\t<tr><td>0</td><td>M</td><td>1</td><td>1</td><td>0</td><td>11</td></tr>\n",
       "\t<tr><td>0</td><td>M</td><td>1</td><td>0</td><td>0</td><td>14</td></tr>\n",
       "\t<tr><td>0</td><td>M</td><td>1</td><td>0</td><td>1</td><td>11</td></tr>\n",
       "\t<tr><td>0</td><td>F</td><td>0</td><td>0</td><td>0</td><td>11</td></tr>\n",
       "\t<tr><td>0</td><td>F</td><td>1</td><td>1</td><td>1</td><td>11</td></tr>\n",
       "\t<tr><td>0</td><td>F</td><td>1</td><td>0</td><td>1</td><td>11</td></tr>\n",
       "\t<tr><td>⋮</td><td>⋮</td><td>⋮</td><td>⋮</td><td>⋮</td><td>⋮</td></tr>\n",
       "\t<tr><td>0</td><td>F</td><td>0</td><td>0</td><td>1</td><td>11</td></tr>\n",
       "\t<tr><td>0</td><td>M</td><td>0</td><td>0</td><td>0</td><td>11</td></tr>\n",
       "\t<tr><td>0</td><td>M</td><td>1</td><td>0</td><td>0</td><td>11</td></tr>\n",
       "\t<tr><td>0</td><td>M</td><td>1</td><td>0</td><td>0</td><td>11</td></tr>\n",
       "\t<tr><td>0</td><td>F</td><td>0</td><td>0</td><td>0</td><td>11</td></tr>\n",
       "\t<tr><td>0</td><td>M</td><td>0</td><td>0</td><td>1</td><td>12</td></tr>\n",
       "\t<tr><td>0</td><td>M</td><td>0</td><td>0</td><td>0</td><td>12</td></tr>\n",
       "\t<tr><td>0</td><td>F</td><td>0</td><td>0</td><td>0</td><td>10</td></tr>\n",
       "\t<tr><td>0</td><td>M</td><td>0</td><td>0</td><td>1</td><td>17</td></tr>\n",
       "\t<tr><td>0</td><td>M</td><td>1</td><td>1</td><td>1</td><td>11</td></tr>\n",
       "\t<tr><td>0</td><td>M</td><td>0</td><td>0</td><td>1</td><td>13</td></tr>\n",
       "\t<tr><td>0</td><td>M</td><td>1</td><td>0</td><td>1</td><td>11</td></tr>\n",
       "\t<tr><td>0</td><td>M</td><td>1</td><td>1</td><td>0</td><td>11</td></tr>\n",
       "\t<tr><td>0</td><td>M</td><td>0</td><td>0</td><td>0</td><td>12</td></tr>\n",
       "\t<tr><td>0</td><td>M</td><td>1</td><td>1</td><td>0</td><td>11</td></tr>\n",
       "\t<tr><td>0</td><td>M</td><td>1</td><td>0</td><td>0</td><td>11</td></tr>\n",
       "\t<tr><td>0</td><td>M</td><td>0</td><td>1</td><td>0</td><td>11</td></tr>\n",
       "\t<tr><td>0</td><td>F</td><td>0</td><td>1</td><td>0</td><td>12</td></tr>\n",
       "\t<tr><td>0</td><td>M</td><td>1</td><td>1</td><td>1</td><td>14</td></tr>\n",
       "\t<tr><td>0</td><td>F</td><td>0</td><td>0</td><td>0</td><td>12</td></tr>\n",
       "\t<tr><td>0</td><td>M</td><td>0</td><td>0</td><td>0</td><td>14</td></tr>\n",
       "\t<tr><td>1</td><td>M</td><td>0</td><td>0</td><td>1</td><td>14</td></tr>\n",
       "\t<tr><td>0</td><td>M</td><td>1</td><td>0</td><td>1</td><td>13</td></tr>\n",
       "\t<tr><td>0</td><td>M</td><td>1</td><td>0</td><td>0</td><td>11</td></tr>\n",
       "\t<tr><td>0</td><td>M</td><td>1</td><td>0</td><td>1</td><td>11</td></tr>\n",
       "\t<tr><td>0</td><td>M</td><td>1</td><td>1</td><td>1</td><td>11</td></tr>\n",
       "\t<tr><td>0</td><td>M</td><td>0</td><td>0</td><td>0</td><td> 8</td></tr>\n",
       "\t<tr><td>0</td><td>M</td><td>0</td><td>0</td><td>1</td><td>11</td></tr>\n",
       "\t<tr><td>0</td><td>F</td><td>0</td><td>0</td><td>0</td><td>11</td></tr>\n",
       "\t<tr><td>1</td><td>F</td><td>0</td><td>0</td><td>0</td><td>11</td></tr>\n",
       "</tbody>\n",
       "</table>\n"
      ],
      "text/latex": [
       "A data.frame: 2159 × 6\n",
       "\\begin{tabular}{llllll}\n",
       " Rural\\_Status & Gender & BIPOC\\_Status & FirstGen\\_Status & Pell\\_Recepient & TermsToGrad\\\\\n",
       " <int> & <chr> & <int> & <int> & <int> & <dbl>\\\\\n",
       "\\hline\n",
       "\t 0 & M & 1 & 1 & 1 & 13\\\\\n",
       "\t 1 & M & 0 & 0 & 0 & 12\\\\\n",
       "\t 0 & M & 0 & 0 & 1 & 11\\\\\n",
       "\t 0 & F & 1 & 1 & 1 & 11\\\\\n",
       "\t 0 & M & 0 & 0 & 0 &  8\\\\\n",
       "\t 0 & F & 1 & 1 & 1 & 16\\\\\n",
       "\t 0 & M & 0 & 0 & 0 & 11\\\\\n",
       "\t 0 & F & 0 & 0 & 0 & 14\\\\\n",
       "\t 0 & M & 0 & 0 & 1 & 14\\\\\n",
       "\t 0 & M & 0 & 0 & 0 & 13\\\\\n",
       "\t 0 & M & 1 & 1 & 1 & 10\\\\\n",
       "\t 0 & F & 1 & 1 & 1 & 16\\\\\n",
       "\t 1 & F & 1 & 1 & 1 & 11\\\\\n",
       "\t 0 & F & 1 & 1 & 1 & 14\\\\\n",
       "\t 0 & M & 1 & 1 & 1 & 13\\\\\n",
       "\t 0 & F & 0 & 1 & 1 & 12\\\\\n",
       "\t 0 & F & 1 & 0 & 0 & 12\\\\\n",
       "\t 0 & F & 1 & 0 & 0 & 12\\\\\n",
       "\t 0 & F & 0 & 0 & 0 & 13\\\\\n",
       "\t 0 & F & 0 & 0 & 0 & 14\\\\\n",
       "\t 0 & M & 0 & 0 & 0 & 11\\\\\n",
       "\t 0 & M & 1 & 1 & 1 & 16\\\\\n",
       "\t 0 & M & 1 & 0 & 0 & 11\\\\\n",
       "\t 0 & F & 0 & 0 & 0 & 13\\\\\n",
       "\t 0 & M & 1 & 1 & 0 & 11\\\\\n",
       "\t 0 & M & 1 & 0 & 0 & 14\\\\\n",
       "\t 0 & M & 1 & 0 & 1 & 11\\\\\n",
       "\t 0 & F & 0 & 0 & 0 & 11\\\\\n",
       "\t 0 & F & 1 & 1 & 1 & 11\\\\\n",
       "\t 0 & F & 1 & 0 & 1 & 11\\\\\n",
       "\t ⋮ & ⋮ & ⋮ & ⋮ & ⋮ & ⋮\\\\\n",
       "\t 0 & F & 0 & 0 & 1 & 11\\\\\n",
       "\t 0 & M & 0 & 0 & 0 & 11\\\\\n",
       "\t 0 & M & 1 & 0 & 0 & 11\\\\\n",
       "\t 0 & M & 1 & 0 & 0 & 11\\\\\n",
       "\t 0 & F & 0 & 0 & 0 & 11\\\\\n",
       "\t 0 & M & 0 & 0 & 1 & 12\\\\\n",
       "\t 0 & M & 0 & 0 & 0 & 12\\\\\n",
       "\t 0 & F & 0 & 0 & 0 & 10\\\\\n",
       "\t 0 & M & 0 & 0 & 1 & 17\\\\\n",
       "\t 0 & M & 1 & 1 & 1 & 11\\\\\n",
       "\t 0 & M & 0 & 0 & 1 & 13\\\\\n",
       "\t 0 & M & 1 & 0 & 1 & 11\\\\\n",
       "\t 0 & M & 1 & 1 & 0 & 11\\\\\n",
       "\t 0 & M & 0 & 0 & 0 & 12\\\\\n",
       "\t 0 & M & 1 & 1 & 0 & 11\\\\\n",
       "\t 0 & M & 1 & 0 & 0 & 11\\\\\n",
       "\t 0 & M & 0 & 1 & 0 & 11\\\\\n",
       "\t 0 & F & 0 & 1 & 0 & 12\\\\\n",
       "\t 0 & M & 1 & 1 & 1 & 14\\\\\n",
       "\t 0 & F & 0 & 0 & 0 & 12\\\\\n",
       "\t 0 & M & 0 & 0 & 0 & 14\\\\\n",
       "\t 1 & M & 0 & 0 & 1 & 14\\\\\n",
       "\t 0 & M & 1 & 0 & 1 & 13\\\\\n",
       "\t 0 & M & 1 & 0 & 0 & 11\\\\\n",
       "\t 0 & M & 1 & 0 & 1 & 11\\\\\n",
       "\t 0 & M & 1 & 1 & 1 & 11\\\\\n",
       "\t 0 & M & 0 & 0 & 0 &  8\\\\\n",
       "\t 0 & M & 0 & 0 & 1 & 11\\\\\n",
       "\t 0 & F & 0 & 0 & 0 & 11\\\\\n",
       "\t 1 & F & 0 & 0 & 0 & 11\\\\\n",
       "\\end{tabular}\n"
      ],
      "text/markdown": [
       "\n",
       "A data.frame: 2159 × 6\n",
       "\n",
       "| Rural_Status &lt;int&gt; | Gender &lt;chr&gt; | BIPOC_Status &lt;int&gt; | FirstGen_Status &lt;int&gt; | Pell_Recepient &lt;int&gt; | TermsToGrad &lt;dbl&gt; |\n",
       "|---|---|---|---|---|---|\n",
       "| 0 | M | 1 | 1 | 1 | 13 |\n",
       "| 1 | M | 0 | 0 | 0 | 12 |\n",
       "| 0 | M | 0 | 0 | 1 | 11 |\n",
       "| 0 | F | 1 | 1 | 1 | 11 |\n",
       "| 0 | M | 0 | 0 | 0 |  8 |\n",
       "| 0 | F | 1 | 1 | 1 | 16 |\n",
       "| 0 | M | 0 | 0 | 0 | 11 |\n",
       "| 0 | F | 0 | 0 | 0 | 14 |\n",
       "| 0 | M | 0 | 0 | 1 | 14 |\n",
       "| 0 | M | 0 | 0 | 0 | 13 |\n",
       "| 0 | M | 1 | 1 | 1 | 10 |\n",
       "| 0 | F | 1 | 1 | 1 | 16 |\n",
       "| 1 | F | 1 | 1 | 1 | 11 |\n",
       "| 0 | F | 1 | 1 | 1 | 14 |\n",
       "| 0 | M | 1 | 1 | 1 | 13 |\n",
       "| 0 | F | 0 | 1 | 1 | 12 |\n",
       "| 0 | F | 1 | 0 | 0 | 12 |\n",
       "| 0 | F | 1 | 0 | 0 | 12 |\n",
       "| 0 | F | 0 | 0 | 0 | 13 |\n",
       "| 0 | F | 0 | 0 | 0 | 14 |\n",
       "| 0 | M | 0 | 0 | 0 | 11 |\n",
       "| 0 | M | 1 | 1 | 1 | 16 |\n",
       "| 0 | M | 1 | 0 | 0 | 11 |\n",
       "| 0 | F | 0 | 0 | 0 | 13 |\n",
       "| 0 | M | 1 | 1 | 0 | 11 |\n",
       "| 0 | M | 1 | 0 | 0 | 14 |\n",
       "| 0 | M | 1 | 0 | 1 | 11 |\n",
       "| 0 | F | 0 | 0 | 0 | 11 |\n",
       "| 0 | F | 1 | 1 | 1 | 11 |\n",
       "| 0 | F | 1 | 0 | 1 | 11 |\n",
       "| ⋮ | ⋮ | ⋮ | ⋮ | ⋮ | ⋮ |\n",
       "| 0 | F | 0 | 0 | 1 | 11 |\n",
       "| 0 | M | 0 | 0 | 0 | 11 |\n",
       "| 0 | M | 1 | 0 | 0 | 11 |\n",
       "| 0 | M | 1 | 0 | 0 | 11 |\n",
       "| 0 | F | 0 | 0 | 0 | 11 |\n",
       "| 0 | M | 0 | 0 | 1 | 12 |\n",
       "| 0 | M | 0 | 0 | 0 | 12 |\n",
       "| 0 | F | 0 | 0 | 0 | 10 |\n",
       "| 0 | M | 0 | 0 | 1 | 17 |\n",
       "| 0 | M | 1 | 1 | 1 | 11 |\n",
       "| 0 | M | 0 | 0 | 1 | 13 |\n",
       "| 0 | M | 1 | 0 | 1 | 11 |\n",
       "| 0 | M | 1 | 1 | 0 | 11 |\n",
       "| 0 | M | 0 | 0 | 0 | 12 |\n",
       "| 0 | M | 1 | 1 | 0 | 11 |\n",
       "| 0 | M | 1 | 0 | 0 | 11 |\n",
       "| 0 | M | 0 | 1 | 0 | 11 |\n",
       "| 0 | F | 0 | 1 | 0 | 12 |\n",
       "| 0 | M | 1 | 1 | 1 | 14 |\n",
       "| 0 | F | 0 | 0 | 0 | 12 |\n",
       "| 0 | M | 0 | 0 | 0 | 14 |\n",
       "| 1 | M | 0 | 0 | 1 | 14 |\n",
       "| 0 | M | 1 | 0 | 1 | 13 |\n",
       "| 0 | M | 1 | 0 | 0 | 11 |\n",
       "| 0 | M | 1 | 0 | 1 | 11 |\n",
       "| 0 | M | 1 | 1 | 1 | 11 |\n",
       "| 0 | M | 0 | 0 | 0 |  8 |\n",
       "| 0 | M | 0 | 0 | 1 | 11 |\n",
       "| 0 | F | 0 | 0 | 0 | 11 |\n",
       "| 1 | F | 0 | 0 | 0 | 11 |\n",
       "\n"
      ],
      "text/plain": [
       "     Rural_Status Gender BIPOC_Status FirstGen_Status Pell_Recepient\n",
       "1    0            M      1            1               1             \n",
       "2    1            M      0            0               0             \n",
       "3    0            M      0            0               1             \n",
       "4    0            F      1            1               1             \n",
       "5    0            M      0            0               0             \n",
       "6    0            F      1            1               1             \n",
       "7    0            M      0            0               0             \n",
       "8    0            F      0            0               0             \n",
       "9    0            M      0            0               1             \n",
       "10   0            M      0            0               0             \n",
       "11   0            M      1            1               1             \n",
       "12   0            F      1            1               1             \n",
       "13   1            F      1            1               1             \n",
       "14   0            F      1            1               1             \n",
       "15   0            M      1            1               1             \n",
       "16   0            F      0            1               1             \n",
       "17   0            F      1            0               0             \n",
       "18   0            F      1            0               0             \n",
       "19   0            F      0            0               0             \n",
       "20   0            F      0            0               0             \n",
       "21   0            M      0            0               0             \n",
       "22   0            M      1            1               1             \n",
       "23   0            M      1            0               0             \n",
       "24   0            F      0            0               0             \n",
       "25   0            M      1            1               0             \n",
       "26   0            M      1            0               0             \n",
       "27   0            M      1            0               1             \n",
       "28   0            F      0            0               0             \n",
       "29   0            F      1            1               1             \n",
       "30   0            F      1            0               1             \n",
       "⋮    ⋮            ⋮      ⋮            ⋮               ⋮             \n",
       "2130 0            F      0            0               1             \n",
       "2131 0            M      0            0               0             \n",
       "2132 0            M      1            0               0             \n",
       "2133 0            M      1            0               0             \n",
       "2134 0            F      0            0               0             \n",
       "2135 0            M      0            0               1             \n",
       "2136 0            M      0            0               0             \n",
       "2137 0            F      0            0               0             \n",
       "2138 0            M      0            0               1             \n",
       "2139 0            M      1            1               1             \n",
       "2140 0            M      0            0               1             \n",
       "2141 0            M      1            0               1             \n",
       "2142 0            M      1            1               0             \n",
       "2143 0            M      0            0               0             \n",
       "2144 0            M      1            1               0             \n",
       "2145 0            M      1            0               0             \n",
       "2146 0            M      0            1               0             \n",
       "2147 0            F      0            1               0             \n",
       "2148 0            M      1            1               1             \n",
       "2149 0            F      0            0               0             \n",
       "2150 0            M      0            0               0             \n",
       "2151 1            M      0            0               1             \n",
       "2152 0            M      1            0               1             \n",
       "2153 0            M      1            0               0             \n",
       "2154 0            M      1            0               1             \n",
       "2155 0            M      1            1               1             \n",
       "2156 0            M      0            0               0             \n",
       "2157 0            M      0            0               1             \n",
       "2158 0            F      0            0               0             \n",
       "2159 1            F      0            0               0             \n",
       "     TermsToGrad\n",
       "1    13         \n",
       "2    12         \n",
       "3    11         \n",
       "4    11         \n",
       "5     8         \n",
       "6    16         \n",
       "7    11         \n",
       "8    14         \n",
       "9    14         \n",
       "10   13         \n",
       "11   10         \n",
       "12   16         \n",
       "13   11         \n",
       "14   14         \n",
       "15   13         \n",
       "16   12         \n",
       "17   12         \n",
       "18   12         \n",
       "19   13         \n",
       "20   14         \n",
       "21   11         \n",
       "22   16         \n",
       "23   11         \n",
       "24   13         \n",
       "25   11         \n",
       "26   14         \n",
       "27   11         \n",
       "28   11         \n",
       "29   11         \n",
       "30   11         \n",
       "⋮    ⋮          \n",
       "2130 11         \n",
       "2131 11         \n",
       "2132 11         \n",
       "2133 11         \n",
       "2134 11         \n",
       "2135 12         \n",
       "2136 12         \n",
       "2137 10         \n",
       "2138 17         \n",
       "2139 11         \n",
       "2140 13         \n",
       "2141 11         \n",
       "2142 11         \n",
       "2143 12         \n",
       "2144 11         \n",
       "2145 11         \n",
       "2146 11         \n",
       "2147 12         \n",
       "2148 14         \n",
       "2149 12         \n",
       "2150 14         \n",
       "2151 14         \n",
       "2152 13         \n",
       "2153 11         \n",
       "2154 11         \n",
       "2155 11         \n",
       "2156  8         \n",
       "2157 11         \n",
       "2158 11         \n",
       "2159 11         "
      ]
     },
     "metadata": {},
     "output_type": "display_data"
    }
   ],
   "source": [
    "TermsGrad = read.csv(file = '../RuralData/StudentLevel_TermsToGraduate2014.csv')\n",
    "TermsGrad"
   ]
  },
  {
   "cell_type": "code",
   "execution_count": 7,
   "id": "human-juvenile",
   "metadata": {},
   "outputs": [
    {
     "data": {
      "text/html": [
       "<table class=\"dataframe\">\n",
       "<caption>A data.frame: 6 × 6</caption>\n",
       "<thead>\n",
       "\t<tr><th></th><th scope=col>Rural_Status</th><th scope=col>Gender</th><th scope=col>BIPOC_Status</th><th scope=col>FirstGen_Status</th><th scope=col>Pell_Recepient</th><th scope=col>TermsToGrad</th></tr>\n",
       "\t<tr><th></th><th scope=col>&lt;fct&gt;</th><th scope=col>&lt;fct&gt;</th><th scope=col>&lt;fct&gt;</th><th scope=col>&lt;fct&gt;</th><th scope=col>&lt;fct&gt;</th><th scope=col>&lt;dbl&gt;</th></tr>\n",
       "</thead>\n",
       "<tbody>\n",
       "\t<tr><th scope=row>1</th><td>0</td><td>M</td><td>1</td><td>1</td><td>1</td><td>13</td></tr>\n",
       "\t<tr><th scope=row>2</th><td>1</td><td>M</td><td>0</td><td>0</td><td>0</td><td>12</td></tr>\n",
       "\t<tr><th scope=row>3</th><td>0</td><td>M</td><td>0</td><td>0</td><td>1</td><td>11</td></tr>\n",
       "\t<tr><th scope=row>4</th><td>0</td><td>F</td><td>1</td><td>1</td><td>1</td><td>11</td></tr>\n",
       "\t<tr><th scope=row>5</th><td>0</td><td>M</td><td>0</td><td>0</td><td>0</td><td> 8</td></tr>\n",
       "\t<tr><th scope=row>6</th><td>0</td><td>F</td><td>1</td><td>1</td><td>1</td><td>16</td></tr>\n",
       "</tbody>\n",
       "</table>\n"
      ],
      "text/latex": [
       "A data.frame: 6 × 6\n",
       "\\begin{tabular}{r|llllll}\n",
       "  & Rural\\_Status & Gender & BIPOC\\_Status & FirstGen\\_Status & Pell\\_Recepient & TermsToGrad\\\\\n",
       "  & <fct> & <fct> & <fct> & <fct> & <fct> & <dbl>\\\\\n",
       "\\hline\n",
       "\t1 & 0 & M & 1 & 1 & 1 & 13\\\\\n",
       "\t2 & 1 & M & 0 & 0 & 0 & 12\\\\\n",
       "\t3 & 0 & M & 0 & 0 & 1 & 11\\\\\n",
       "\t4 & 0 & F & 1 & 1 & 1 & 11\\\\\n",
       "\t5 & 0 & M & 0 & 0 & 0 &  8\\\\\n",
       "\t6 & 0 & F & 1 & 1 & 1 & 16\\\\\n",
       "\\end{tabular}\n"
      ],
      "text/markdown": [
       "\n",
       "A data.frame: 6 × 6\n",
       "\n",
       "| <!--/--> | Rural_Status &lt;fct&gt; | Gender &lt;fct&gt; | BIPOC_Status &lt;fct&gt; | FirstGen_Status &lt;fct&gt; | Pell_Recepient &lt;fct&gt; | TermsToGrad &lt;dbl&gt; |\n",
       "|---|---|---|---|---|---|---|\n",
       "| 1 | 0 | M | 1 | 1 | 1 | 13 |\n",
       "| 2 | 1 | M | 0 | 0 | 0 | 12 |\n",
       "| 3 | 0 | M | 0 | 0 | 1 | 11 |\n",
       "| 4 | 0 | F | 1 | 1 | 1 | 11 |\n",
       "| 5 | 0 | M | 0 | 0 | 0 |  8 |\n",
       "| 6 | 0 | F | 1 | 1 | 1 | 16 |\n",
       "\n"
      ],
      "text/plain": [
       "  Rural_Status Gender BIPOC_Status FirstGen_Status Pell_Recepient TermsToGrad\n",
       "1 0            M      1            1               1              13         \n",
       "2 1            M      0            0               0              12         \n",
       "3 0            M      0            0               1              11         \n",
       "4 0            F      1            1               1              11         \n",
       "5 0            M      0            0               0               8         \n",
       "6 0            F      1            1               1              16         "
      ]
     },
     "metadata": {},
     "output_type": "display_data"
    }
   ],
   "source": [
    "TermsGrad$Rural_Status = as.factor(TermsGrad$Rural_Status)\n",
    "TermsGrad$Gender = as.factor(TermsGrad$Gender)\n",
    "TermsGrad$BIPOC_Status = as.factor(TermsGrad$BIPOC_Status)\n",
    "TermsGrad$FirstGen_Status = as.factor(TermsGrad$FirstGen_Status)\n",
    "TermsGrad$Pell_Recepient = as.factor(TermsGrad$Pell_Recepient)\n",
    "TermsGrad$Pell_Recepient = as.factor(TermsGrad$Pell_Recepient)\n",
    "head(TermsGrad)"
   ]
  },
  {
   "cell_type": "code",
   "execution_count": 25,
   "id": "resistant-picnic",
   "metadata": {
    "scrolled": true
   },
   "outputs": [
    {
     "data": {
      "text/plain": [
       "\n",
       "Call:\n",
       "lm(formula = TermsToGrad ~ Rural_Status, data = TermsGrad)\n",
       "\n",
       "Residuals:\n",
       "    Min      1Q  Median      3Q     Max \n",
       "-6.9306 -1.0639 -1.0639  0.9361  7.0694 \n",
       "\n",
       "Coefficients:\n",
       "              Estimate Std. Error t value Pr(>|t|)    \n",
       "(Intercept)   12.06395    0.04151 290.653   <2e-16 ***\n",
       "Rural_Status1 -0.13331    0.14663  -0.909    0.363    \n",
       "---\n",
       "Signif. codes:  0 ‘***’ 0.001 ‘**’ 0.01 ‘*’ 0.05 ‘.’ 0.1 ‘ ’ 1\n",
       "\n",
       "Residual standard error: 1.85 on 2157 degrees of freedom\n",
       "Multiple R-squared:  0.0003831,\tAdjusted R-squared:  -8.035e-05 \n",
       "F-statistic: 0.8266 on 1 and 2157 DF,  p-value: 0.3634\n"
      ]
     },
     "metadata": {},
     "output_type": "display_data"
    }
   ],
   "source": [
    "lmod = lm(TermsToGrad ~ Rural_Status, data = TermsGrad)\n",
    "summary(lmod)"
   ]
  },
  {
   "cell_type": "code",
   "execution_count": 13,
   "id": "velvet-mixture",
   "metadata": {
    "scrolled": true
   },
   "outputs": [
    {
     "data": {
      "text/plain": [
       "\n",
       "Call:\n",
       "lm(formula = TermsToGrad ~ Rural_Status + Gender + BIPOC_Status + \n",
       "    FirstGen_Status + Pell_Recepient, data = TermsGrad)\n",
       "\n",
       "Residuals:\n",
       "    Min      1Q  Median      3Q     Max \n",
       "-7.4955 -1.1338 -0.5823  1.1028  7.4177 \n",
       "\n",
       "Coefficients:\n",
       "                 Estimate Std. Error t value Pr(>|t|)    \n",
       "(Intercept)      11.58228    0.06613 175.137  < 2e-16 ***\n",
       "Rural_Status1    -0.10786    0.14549  -0.741 0.458544    \n",
       "GenderM           0.55156    0.07827   7.047 2.46e-12 ***\n",
       "BIPOC_Status1     0.28400    0.09169   3.097 0.001978 ** \n",
       "FirstGen_Status1  0.14462    0.10679   1.354 0.175818    \n",
       "Pell_Recepient1   0.32487    0.09642   3.369 0.000767 ***\n",
       "---\n",
       "Signif. codes:  0 ‘***’ 0.001 ‘**’ 0.01 ‘*’ 0.05 ‘.’ 0.1 ‘ ’ 1\n",
       "\n",
       "Residual standard error: 1.815 on 2153 degrees of freedom\n",
       "Multiple R-squared:  0.03901,\tAdjusted R-squared:  0.03677 \n",
       "F-statistic: 17.48 on 5 and 2153 DF,  p-value: < 2.2e-16\n"
      ]
     },
     "metadata": {},
     "output_type": "display_data"
    },
    {
     "data": {
      "text/plain": [
       "\n",
       "Call:\n",
       "glm(formula = TermsToGrad ~ Rural_Status + Gender + BIPOC_Status + \n",
       "    FirstGen_Status + Pell_Recepient, family = poisson, data = TermsGrad)\n",
       "\n",
       "Deviance Residuals: \n",
       "    Min       1Q   Median       3Q      Max  \n",
       "-2.4146  -0.3298  -0.1742   0.3006   1.9915  \n",
       "\n",
       "Coefficients:\n",
       "                  Estimate Std. Error z value Pr(>|z|)    \n",
       "(Intercept)       2.449956   0.010617 230.767  < 2e-16 ***\n",
       "Rural_Status1    -0.008973   0.023195  -0.387  0.69886    \n",
       "GenderM           0.045771   0.012427   3.683  0.00023 ***\n",
       "BIPOC_Status1     0.023380   0.014477   1.615  0.10633    \n",
       "FirstGen_Status1  0.011808   0.016837   0.701  0.48312    \n",
       "Pell_Recepient1   0.026714   0.015203   1.757  0.07889 .  \n",
       "---\n",
       "Signif. codes:  0 ‘***’ 0.001 ‘**’ 0.01 ‘*’ 0.05 ‘.’ 0.1 ‘ ’ 1\n",
       "\n",
       "(Dispersion parameter for poisson family taken to be 1)\n",
       "\n",
       "    Null deviance: 585.84  on 2158  degrees of freedom\n",
       "Residual deviance: 562.01  on 2153  degrees of freedom\n",
       "AIC: 9923.4\n",
       "\n",
       "Number of Fisher Scoring iterations: 4\n"
      ]
     },
     "metadata": {},
     "output_type": "display_data"
    }
   ],
   "source": [
    "lmod2 = lm(TermsToGrad ~ Rural_Status + Gender + BIPOC_Status + FirstGen_Status + Pell_Recepient,\n",
    "         data = TermsGrad)\n",
    "summary(lmod2)\n",
    "\n",
    "lmod2 = glm(TermsToGrad ~ Rural_Status + Gender + BIPOC_Status + FirstGen_Status + Pell_Recepient, family = poisson,\n",
    "         data = TermsGrad)\n",
    "summary(lmod2)\n",
    "# plot(lmod4$fitted, lmod4$resid) For Poisson you cannot plot this."
   ]
  },
  {
   "cell_type": "code",
   "execution_count": 15,
   "id": "wound-chorus",
   "metadata": {
    "scrolled": true
   },
   "outputs": [
    {
     "data": {
      "text/plain": [
       "\n",
       "Call:\n",
       "lm(formula = TermsToGrad ~ Rural_Status + Gender + BIPOC_Status + \n",
       "    FirstGen_Status + Pell_Recepient + Rural_Status:Gender + \n",
       "    Rural_Status:BIPOC_Status + Rural_Status:FirstGen_Status + \n",
       "    Rural_Status:Pell_Recepient, data = TermsGrad)\n",
       "\n",
       "Residuals:\n",
       "    Min      1Q  Median      3Q     Max \n",
       "-7.4138 -1.1205 -0.5857  1.1058  7.4143 \n",
       "\n",
       "Coefficients:\n",
       "                               Estimate Std. Error t value Pr(>|t|)    \n",
       "(Intercept)                    11.58569    0.06784 170.769  < 2e-16 ***\n",
       "Rural_Status1                  -0.12201    0.23374  -0.522 0.601746    \n",
       "GenderM                         0.53482    0.08160   6.555 6.97e-11 ***\n",
       "BIPOC_Status1                   0.27300    0.09445   2.890 0.003887 ** \n",
       "FirstGen_Status1                0.13645    0.11279   1.210 0.226508    \n",
       "Pell_Recepient1                 0.36429    0.10155   3.587 0.000342 ***\n",
       "Rural_Status1:GenderM           0.25340    0.29260   0.866 0.386563    \n",
       "Rural_Status1:BIPOC_Status1     0.17971    0.40072   0.448 0.653870    \n",
       "Rural_Status1:FirstGen_Status1  0.09338    0.35332   0.264 0.791587    \n",
       "Rural_Status1:Pell_Recepient1  -0.43225    0.32652  -1.324 0.185712    \n",
       "---\n",
       "Signif. codes:  0 ‘***’ 0.001 ‘**’ 0.01 ‘*’ 0.05 ‘.’ 0.1 ‘ ’ 1\n",
       "\n",
       "Residual standard error: 1.816 on 2149 degrees of freedom\n",
       "Multiple R-squared:  0.04006,\tAdjusted R-squared:  0.03604 \n",
       "F-statistic: 9.965 on 9 and 2149 DF,  p-value: 4.082e-15\n"
      ]
     },
     "metadata": {},
     "output_type": "display_data"
    },
    {
     "data": {
      "text/plain": [
       "\n",
       "Call:\n",
       "glm(formula = TermsToGrad ~ Rural_Status + Gender + BIPOC_Status + \n",
       "    FirstGen_Status + Pell_Recepient + Rural_Status:Gender + \n",
       "    Rural_Status:BIPOC_Status + Rural_Status:FirstGen_Status + \n",
       "    Rural_Status:Pell_Recepient, family = poisson, data = TermsGrad)\n",
       "\n",
       "Deviance Residuals: \n",
       "    Min       1Q   Median       3Q      Max  \n",
       "-2.3946  -0.3261  -0.1753   0.2989   1.9903  \n",
       "\n",
       "Coefficients:\n",
       "                                Estimate Std. Error z value Pr(>|z|)    \n",
       "(Intercept)                     2.450283   0.010887 225.070  < 2e-16 ***\n",
       "Rural_Status1                  -0.010755   0.037698  -0.285 0.775416    \n",
       "GenderM                         0.044352   0.012947   3.426 0.000613 ***\n",
       "BIPOC_Status1                   0.022471   0.014907   1.507 0.131703    \n",
       "FirstGen_Status1                0.011111   0.017759   0.626 0.531540    \n",
       "Pell_Recepient1                 0.029890   0.015980   1.870 0.061426 .  \n",
       "Rural_Status1:GenderM           0.021538   0.046508   0.463 0.643286    \n",
       "Rural_Status1:BIPOC_Status1     0.015202   0.063347   0.240 0.810348    \n",
       "Rural_Status1:FirstGen_Status1  0.008105   0.056134   0.144 0.885195    \n",
       "Rural_Status1:Pell_Recepient1  -0.035703   0.052056  -0.686 0.492811    \n",
       "---\n",
       "Signif. codes:  0 ‘***’ 0.001 ‘**’ 0.01 ‘*’ 0.05 ‘.’ 0.1 ‘ ’ 1\n",
       "\n",
       "(Dispersion parameter for poisson family taken to be 1)\n",
       "\n",
       "    Null deviance: 585.84  on 2158  degrees of freedom\n",
       "Residual deviance: 561.36  on 2149  degrees of freedom\n",
       "AIC: 9930.7\n",
       "\n",
       "Number of Fisher Scoring iterations: 4\n"
      ]
     },
     "metadata": {},
     "output_type": "display_data"
    }
   ],
   "source": [
    "lmod3 = lm(TermsToGrad ~ Rural_Status + Gender + BIPOC_Status + FirstGen_Status + Pell_Recepient\n",
    "           + Rural_Status:Gender + Rural_Status:BIPOC_Status + Rural_Status:FirstGen_Status \n",
    "           + Rural_Status:Pell_Recepient,\n",
    "         data = TermsGrad)\n",
    "summary(lmod3)\n",
    "\n",
    "lmod3 = glm(TermsToGrad ~ Rural_Status + Gender + BIPOC_Status + FirstGen_Status + Pell_Recepient\n",
    "           + Rural_Status:Gender + Rural_Status:BIPOC_Status + Rural_Status:FirstGen_Status \n",
    "           + Rural_Status:Pell_Recepient, family = poisson,\n",
    "         data = TermsGrad)\n",
    "summary(lmod3)"
   ]
  },
  {
   "cell_type": "code",
   "execution_count": 16,
   "id": "arctic-keyboard",
   "metadata": {
    "scrolled": false
   },
   "outputs": [
    {
     "data": {
      "text/plain": [
       "\n",
       "Call:\n",
       "glm(formula = TermsToGrad ~ Gender + Pell_Recepient, family = poisson, \n",
       "    data = TermsGrad)\n",
       "\n",
       "Deviance Residuals: \n",
       "    Min       1Q   Median       3Q      Max  \n",
       "-2.4556  -0.3496  -0.1948   0.3702   1.9688  \n",
       "\n",
       "Coefficients:\n",
       "                Estimate Std. Error z value Pr(>|z|)    \n",
       "(Intercept)     2.456046   0.009793 250.806  < 2e-16 ***\n",
       "GenderM         0.045426   0.012413   3.660 0.000253 ***\n",
       "Pell_Recepient1 0.036982   0.013917   2.657 0.007876 ** \n",
       "---\n",
       "Signif. codes:  0 ‘***’ 0.001 ‘**’ 0.01 ‘*’ 0.05 ‘.’ 0.1 ‘ ’ 1\n",
       "\n",
       "(Dispersion parameter for poisson family taken to be 1)\n",
       "\n",
       "    Null deviance: 585.84  on 2158  degrees of freedom\n",
       "Residual deviance: 566.00  on 2156  degrees of freedom\n",
       "AIC: 9921.4\n",
       "\n",
       "Number of Fisher Scoring iterations: 4\n"
      ]
     },
     "metadata": {},
     "output_type": "display_data"
    }
   ],
   "source": [
    "lmod2 = glm(TermsToGrad ~ Gender + Pell_Recepient, family = poisson,\n",
    "         data = TermsGrad)\n",
    "summary(lmod2)\n",
    "# plot(lmod4$fitted, lmod4$resid) For Poisson you cannot plot this."
   ]
  },
  {
   "cell_type": "code",
   "execution_count": 19,
   "id": "looking-voice",
   "metadata": {},
   "outputs": [
    {
     "data": {
      "text/plain": [
       "\n",
       "Call:\n",
       "glm(formula = TermsToGrad ~ Gender + Pell_Recepient + BIPOC_Status, \n",
       "    family = poisson, data = TermsGrad)\n",
       "\n",
       "Deviance Residuals: \n",
       "    Min       1Q   Median       3Q      Max  \n",
       "-2.4137  -0.3305  -0.1749   0.3156   1.9907  \n",
       "\n",
       "Coefficients:\n",
       "                Estimate Std. Error z value Pr(>|z|)    \n",
       "(Intercept)      2.45016    0.01031 237.673  < 2e-16 ***\n",
       "GenderM          0.04576    0.01241   3.686 0.000228 ***\n",
       "Pell_Recepient1  0.02907    0.01457   1.995 0.046035 *  \n",
       "BIPOC_Status1    0.02597    0.01409   1.843 0.065330 .  \n",
       "---\n",
       "Signif. codes:  0 ‘***’ 0.001 ‘**’ 0.01 ‘*’ 0.05 ‘.’ 0.1 ‘ ’ 1\n",
       "\n",
       "(Dispersion parameter for poisson family taken to be 1)\n",
       "\n",
       "    Null deviance: 585.84  on 2158  degrees of freedom\n",
       "Residual deviance: 562.62  on 2155  degrees of freedom\n",
       "AIC: 9920\n",
       "\n",
       "Number of Fisher Scoring iterations: 4\n"
      ]
     },
     "metadata": {},
     "output_type": "display_data"
    }
   ],
   "source": [
    "lmod2 = glm(TermsToGrad ~ Gender + Pell_Recepient + BIPOC_Status, family = poisson,\n",
    "         data = TermsGrad)\n",
    "summary(lmod2)\n",
    "# plot(lmod4$fitted, lmod4$resid) For Poisson you cannot plot this."
   ]
  },
  {
   "cell_type": "code",
   "execution_count": 28,
   "id": "comic-initial",
   "metadata": {
    "scrolled": true
   },
   "outputs": [
    {
     "data": {
      "text/html": [
       "<table class=\"dataframe\">\n",
       "<caption>A anova: 2 × 6</caption>\n",
       "<thead>\n",
       "\t<tr><th></th><th scope=col>Res.Df</th><th scope=col>RSS</th><th scope=col>Df</th><th scope=col>Sum of Sq</th><th scope=col>F</th><th scope=col>Pr(&gt;F)</th></tr>\n",
       "\t<tr><th></th><th scope=col>&lt;dbl&gt;</th><th scope=col>&lt;dbl&gt;</th><th scope=col>&lt;dbl&gt;</th><th scope=col>&lt;dbl&gt;</th><th scope=col>&lt;dbl&gt;</th><th scope=col>&lt;dbl&gt;</th></tr>\n",
       "</thead>\n",
       "<tbody>\n",
       "\t<tr><th scope=row>1</th><td>2149</td><td>7087.099</td><td>NA</td><td>       NA</td><td>       NA</td><td>       NA</td></tr>\n",
       "\t<tr><th scope=row>2</th><td>2153</td><td>7094.904</td><td>-4</td><td>-7.804704</td><td>0.5916493</td><td>0.6687085</td></tr>\n",
       "</tbody>\n",
       "</table>\n"
      ],
      "text/latex": [
       "A anova: 2 × 6\n",
       "\\begin{tabular}{r|llllll}\n",
       "  & Res.Df & RSS & Df & Sum of Sq & F & Pr(>F)\\\\\n",
       "  & <dbl> & <dbl> & <dbl> & <dbl> & <dbl> & <dbl>\\\\\n",
       "\\hline\n",
       "\t1 & 2149 & 7087.099 & NA &        NA &        NA &        NA\\\\\n",
       "\t2 & 2153 & 7094.904 & -4 & -7.804704 & 0.5916493 & 0.6687085\\\\\n",
       "\\end{tabular}\n"
      ],
      "text/markdown": [
       "\n",
       "A anova: 2 × 6\n",
       "\n",
       "| <!--/--> | Res.Df &lt;dbl&gt; | RSS &lt;dbl&gt; | Df &lt;dbl&gt; | Sum of Sq &lt;dbl&gt; | F &lt;dbl&gt; | Pr(&gt;F) &lt;dbl&gt; |\n",
       "|---|---|---|---|---|---|---|\n",
       "| 1 | 2149 | 7087.099 | NA |        NA |        NA |        NA |\n",
       "| 2 | 2153 | 7094.904 | -4 | -7.804704 | 0.5916493 | 0.6687085 |\n",
       "\n"
      ],
      "text/plain": [
       "  Res.Df RSS      Df Sum of Sq F         Pr(>F)   \n",
       "1 2149   7087.099 NA        NA        NA        NA\n",
       "2 2153   7094.904 -4 -7.804704 0.5916493 0.6687085"
      ]
     },
     "metadata": {},
     "output_type": "display_data"
    }
   ],
   "source": [
    "anova(lmod3, lmod2)"
   ]
  },
  {
   "cell_type": "code",
   "execution_count": 39,
   "id": "marked-airfare",
   "metadata": {},
   "outputs": [
    {
     "data": {
      "text/html": [
       "'lmod2 is sufficient, meaning we do not need any interaction term.'"
      ],
      "text/latex": [
       "'lmod2 is sufficient, meaning we do not need any interaction term.'"
      ],
      "text/markdown": [
       "'lmod2 is sufficient, meaning we do not need any interaction term.'"
      ],
      "text/plain": [
       "[1] \"lmod2 is sufficient, meaning we do not need any interaction term.\""
      ]
     },
     "metadata": {},
     "output_type": "display_data"
    }
   ],
   "source": [
    "\"lmod2 is sufficient, meaning we do not need any interaction term.\""
   ]
  },
  {
   "cell_type": "code",
   "execution_count": 8,
   "id": "perceived-weather",
   "metadata": {
    "scrolled": false
   },
   "outputs": [
    {
     "data": {
      "text/plain": [
       "\n",
       "Call:\n",
       "lm(formula = TermsToGrad ~ Gender + BIPOC_Status + Pell_Recepient, \n",
       "    data = TermsGrad)\n",
       "\n",
       "Residuals:\n",
       "   Min     1Q Median     3Q    Max \n",
       "-7.490 -1.136 -0.585  1.100  7.415 \n",
       "\n",
       "Coefficients:\n",
       "                Estimate Std. Error t value Pr(>|t|)    \n",
       "(Intercept)     11.58505    0.06416 180.561  < 2e-16 ***\n",
       "GenderM          0.55129    0.07820   7.050  2.4e-12 ***\n",
       "BIPOC_Status1    0.31530    0.08930   3.531 0.000423 ***\n",
       "Pell_Recepient1  0.35357    0.09249   3.823 0.000136 ***\n",
       "---\n",
       "Signif. codes:  0 ‘***’ 0.001 ‘**’ 0.01 ‘*’ 0.05 ‘.’ 0.1 ‘ ’ 1\n",
       "\n",
       "Residual standard error: 1.815 on 2155 degrees of freedom\n",
       "Multiple R-squared:  0.038,\tAdjusted R-squared:  0.03666 \n",
       "F-statistic: 28.37 on 3 and 2155 DF,  p-value: < 2.2e-16\n"
      ]
     },
     "metadata": {},
     "output_type": "display_data"
    }
   ],
   "source": [
    "lmod4 = lm(TermsToGrad ~ Gender + BIPOC_Status + Pell_Recepient,\n",
    "         data = TermsGrad)\n",
    "summary(lmod4)"
   ]
  },
  {
   "cell_type": "code",
   "execution_count": 9,
   "id": "unlimited-travel",
   "metadata": {
    "scrolled": true
   },
   "outputs": [
    {
     "data": {
      "image/png": "[encoded data removed]",
      "text/plain": [
       "plot without title"
      ]
     },
     "metadata": {
      "image/png": {
       "height": 420,
       "width": 420
      }
     },
     "output_type": "display_data"
    }
   ],
   "source": [
    "plot(lmod4$fitted, lmod4$resid)"
   ]
  },
  {
   "cell_type": "code",
   "execution_count": 37,
   "id": "noble-large",
   "metadata": {},
   "outputs": [
    {
     "data": {
      "text/html": [
       "<table class=\"dataframe\">\n",
       "<caption>A anova: 2 × 6</caption>\n",
       "<thead>\n",
       "\t<tr><th></th><th scope=col>Res.Df</th><th scope=col>RSS</th><th scope=col>Df</th><th scope=col>Sum of Sq</th><th scope=col>F</th><th scope=col>Pr(&gt;F)</th></tr>\n",
       "\t<tr><th></th><th scope=col>&lt;dbl&gt;</th><th scope=col>&lt;dbl&gt;</th><th scope=col>&lt;dbl&gt;</th><th scope=col>&lt;dbl&gt;</th><th scope=col>&lt;dbl&gt;</th><th scope=col>&lt;dbl&gt;</th></tr>\n",
       "</thead>\n",
       "<tbody>\n",
       "\t<tr><th scope=row>1</th><td>2153</td><td>7094.904</td><td>NA</td><td>       NA</td><td>      NA</td><td>       NA</td></tr>\n",
       "\t<tr><th scope=row>2</th><td>2155</td><td>7102.361</td><td>-2</td><td>-7.456874</td><td>1.131421</td><td>0.3227662</td></tr>\n",
       "</tbody>\n",
       "</table>\n"
      ],
      "text/latex": [
       "A anova: 2 × 6\n",
       "\\begin{tabular}{r|llllll}\n",
       "  & Res.Df & RSS & Df & Sum of Sq & F & Pr(>F)\\\\\n",
       "  & <dbl> & <dbl> & <dbl> & <dbl> & <dbl> & <dbl>\\\\\n",
       "\\hline\n",
       "\t1 & 2153 & 7094.904 & NA &        NA &       NA &        NA\\\\\n",
       "\t2 & 2155 & 7102.361 & -2 & -7.456874 & 1.131421 & 0.3227662\\\\\n",
       "\\end{tabular}\n"
      ],
      "text/markdown": [
       "\n",
       "A anova: 2 × 6\n",
       "\n",
       "| <!--/--> | Res.Df &lt;dbl&gt; | RSS &lt;dbl&gt; | Df &lt;dbl&gt; | Sum of Sq &lt;dbl&gt; | F &lt;dbl&gt; | Pr(&gt;F) &lt;dbl&gt; |\n",
       "|---|---|---|---|---|---|---|\n",
       "| 1 | 2153 | 7094.904 | NA |        NA |       NA |        NA |\n",
       "| 2 | 2155 | 7102.361 | -2 | -7.456874 | 1.131421 | 0.3227662 |\n",
       "\n"
      ],
      "text/plain": [
       "  Res.Df RSS      Df Sum of Sq F        Pr(>F)   \n",
       "1 2153   7094.904 NA        NA       NA        NA\n",
       "2 2155   7102.361 -2 -7.456874 1.131421 0.3227662"
      ]
     },
     "metadata": {},
     "output_type": "display_data"
    }
   ],
   "source": [
    "anova(lmod2, lmod4)"
   ]
  },
  {
   "cell_type": "code",
   "execution_count": 40,
   "id": "united-badge",
   "metadata": {},
   "outputs": [
    {
     "data": {
      "text/html": [
       "'Model with rural and FirstGen is sufficient, so these two predictors are really not necessary in predicting the time\\ntaken to graduate for those who started in 2014 and DID graduate within 6 years. Removing any other predictor results\\nin insufficient (p&lt;0.05) models.'"
      ],
      "text/latex": [
       "'Model with rural and FirstGen is sufficient, so these two predictors are really not necessary in predicting the time\\textbackslash{}ntaken to graduate for those who started in 2014 and DID graduate within 6 years. Removing any other predictor results\\textbackslash{}nin insufficient (p<0.05) models.'"
      ],
      "text/markdown": [
       "'Model with rural and FirstGen is sufficient, so these two predictors are really not necessary in predicting the time\\ntaken to graduate for those who started in 2014 and DID graduate within 6 years. Removing any other predictor results\\nin insufficient (p&lt;0.05) models.'"
      ],
      "text/plain": [
       "[1] \"Model with rural and FirstGen is sufficient, so these two predictors are really not necessary in predicting the time\\ntaken to graduate for those who started in 2014 and DID graduate within 6 years. Removing any other predictor results\\nin insufficient (p<0.05) models.\""
      ]
     },
     "metadata": {},
     "output_type": "display_data"
    }
   ],
   "source": [
    "\"Model with rural and FirstGen is sufficient, so these two predictors are really not necessary in predicting the time\n",
    "taken to graduate for those who started in 2014 and DID graduate within 6 years. Removing any other predictor results\n",
    "in insufficient (p<0.05) models.\""
   ]
  },
  {
   "cell_type": "code",
   "execution_count": null,
   "id": "muslim-vector",
   "metadata": {},
   "outputs": [],
   "source": []
  }
 ],
 "metadata": {
  "kernelspec": {
   "display_name": "R",
   "language": "R",
   "name": "ir"
  },
  "language_info": {
   "codemirror_mode": "r",
   "file_extension": ".r",
   "mimetype": "text/x-r-source",
   "name": "R",
   "pygments_lexer": "r",
   "version": "4.0.3"
  }
 },
 "nbformat": 4,
 "nbformat_minor": 5
}
