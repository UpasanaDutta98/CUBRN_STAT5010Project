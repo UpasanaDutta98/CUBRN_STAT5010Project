{
 "cells": [
  {
   "cell_type": "markdown",
   "id": "positive-philippines",
   "metadata": {},
   "source": [
    "Summary from the Admissions2020 excel sheet:\n",
    "\n",
    "1. Fall 2020, first-year students:\n",
    "    a. Rural students:\n",
    "        i. Number of rural first-year students = 207\n",
    "        ii. Out of these 207, number of female = 116\n",
    "        iii. Number of first generation students = 56\n",
    "        iv. Number of BIPOC students = 48\n",
    "        v. Number of Pell students = 49\n",
    "        \n",
    "    b. Non-rural students:\n",
    "        i. Number of non-rural first-year students = 2849\n",
    "        ii. Out of these 207, number of female = 1365\n",
    "        iii. Number of first generation students = 583\n",
    "        iv. Number of BIPOC students = 1070\n",
    "        v. Number of Pell students = 576\n",
    "    \n",
    "2. Fall 2020, transfer students:\n",
    "    a. Rural students:\n",
    "        i. Number of rural first-year students = 45\n",
    "        ii. Out of these 207, number of female = 19\n",
    "        iii. Number of first generation students = 18\n",
    "        iv. Number of BIPOC students = 11\n",
    "        v. Number of Pell students = 11\n",
    "        \n",
    "    b. Non-rural students:\n",
    "        i. Number of non-rural first-year students = 499\n",
    "        ii. Out of these 207, number of female = 201\n",
    "        iii. Number of first generation students = 122\n",
    "        iv. Number of BIPOC students = 170\n",
    "        v. Number of Pell students = 120"
   ]
  },
  {
   "cell_type": "code",
   "execution_count": 1,
   "id": "second-gambling",
   "metadata": {},
   "outputs": [],
   "source": [
    "import math\n",
    "from scipy import stats"
   ]
  },
  {
   "cell_type": "code",
   "execution_count": 4,
   "id": "laden-tension",
   "metadata": {},
   "outputs": [],
   "source": [
    "def test_of_proportions(n, N, m, M):\n",
    "    p1_hat = n/N\n",
    "    p2_hat = m/M\n",
    "    print(\"Rural percentage =\", str(round(p1_hat*100, 1))+str(\"%\"), \", Non-rural percentage = \", str(round(p2_hat*100,1))+str(\"%\"))\n",
    "    p_hat = (n+m)/(N+M)\n",
    "    q1_hat = 1 - p1_hat\n",
    "    q2_hat = 1 - p2_hat\n",
    "    q_hat = 1 - p_hat\n",
    "    print(p1_hat*m>=10, q1_hat*m>=10, p2_hat*n>=10, q2_hat*n>=10)\n",
    "    z = (p1_hat - p2_hat)/math.sqrt(p_hat*q_hat*(1/N + 1/M))\n",
    "    print(\"test statistic = \", z)\n",
    "    #print(stats.norm.cdf(z))\n",
    "    print(stats.norm.ppf(0.05/2))\n",
    "    print(stats.norm.ppf(1-0.05/2))\n",
    "    if z < stats.norm.ppf(0.05/2) or z > stats.norm.ppf(1-0.05/2):\n",
    "        print(\"Statistically significant.\")\n",
    "    else:\n",
    "        print(\"Not statistically significant.\")"
   ]
  },
  {
   "cell_type": "markdown",
   "id": "aggregate-reach",
   "metadata": {},
   "source": [
    "## Analysing first-year students"
   ]
  },
  {
   "cell_type": "markdown",
   "id": "reported-answer",
   "metadata": {},
   "source": [
    "### Comparing female student proportions in rural-vs-nonrural"
   ]
  },
  {
   "cell_type": "code",
   "execution_count": 5,
   "id": "available-dealing",
   "metadata": {},
   "outputs": [
    {
     "name": "stdout",
     "output_type": "stream",
     "text": [
      "Rural percentage = 56.0% , Non-rural percentage =  47.9%\n",
      "True True True True\n",
      "test statistic =  2.259049967799016\n",
      "-1.9599639845400545\n",
      "1.959963984540054\n",
      "Statistically significant.\n"
     ]
    }
   ],
   "source": [
    "test_of_proportions(116, 207, 1365, 2849)"
   ]
  },
  {
   "cell_type": "markdown",
   "id": "moderate-spring",
   "metadata": {},
   "source": [
    "### Comparing first-generation student proportions in rural-vs-nonrural"
   ]
  },
  {
   "cell_type": "code",
   "execution_count": 6,
   "id": "mighty-surgery",
   "metadata": {},
   "outputs": [
    {
     "name": "stdout",
     "output_type": "stream",
     "text": [
      "Rural percentage = 27.1% , Non-rural percentage =  20.5%\n",
      "True True True True\n",
      "test statistic =  2.2510899336449053\n",
      "-1.9599639845400545\n",
      "1.959963984540054\n",
      "Statistically significant.\n"
     ]
    }
   ],
   "source": [
    "test_of_proportions(56, 207, 583, 2849)"
   ]
  },
  {
   "cell_type": "markdown",
   "id": "fatty-impact",
   "metadata": {},
   "source": [
    "### Comparing BIPOC student proportions in rural-vs-nonrural"
   ]
  },
  {
   "cell_type": "code",
   "execution_count": 7,
   "id": "extensive-interface",
   "metadata": {},
   "outputs": [
    {
     "name": "stdout",
     "output_type": "stream",
     "text": [
      "Rural percentage = 23.2% , Non-rural percentage =  37.6%\n",
      "True True True True\n",
      "test statistic =  -4.144056796058394\n",
      "-1.9599639845400545\n",
      "1.959963984540054\n",
      "Statistically significant.\n"
     ]
    }
   ],
   "source": [
    "test_of_proportions(48, 207, 1070, 2849)"
   ]
  },
  {
   "cell_type": "markdown",
   "id": "mediterranean-housing",
   "metadata": {},
   "source": [
    "### Comparing Pell student proportions in rural-vs-nonrural"
   ]
  },
  {
   "cell_type": "code",
   "execution_count": 8,
   "id": "fatty-christmas",
   "metadata": {},
   "outputs": [
    {
     "name": "stdout",
     "output_type": "stream",
     "text": [
      "Rural percentage = 23.7% , Non-rural percentage =  20.2%\n",
      "True True False True\n",
      "test statistic =  1.189549442224572\n",
      "-1.9599639845400545\n",
      "1.959963984540054\n",
      "Not statistically significant.\n"
     ]
    }
   ],
   "source": [
    "test_of_proportions(49, 207, 576, 2849)"
   ]
  },
  {
   "cell_type": "markdown",
   "id": "complimentary-clerk",
   "metadata": {},
   "source": [
    "## Analysing transfer students"
   ]
  },
  {
   "cell_type": "markdown",
   "id": "olympic-smart",
   "metadata": {},
   "source": [
    "### Comparing female student proportions in rural-vs-nonrural"
   ]
  },
  {
   "cell_type": "code",
   "execution_count": 9,
   "id": "indoor-tribe",
   "metadata": {},
   "outputs": [
    {
     "name": "stdout",
     "output_type": "stream",
     "text": [
      "Rural percentage = 42.2% , Non-rural percentage =  40.3%\n",
      "True True False True\n",
      "test statistic =  0.2541824514437024\n",
      "-1.9599639845400545\n",
      "1.959963984540054\n",
      "Not statistically significant.\n"
     ]
    }
   ],
   "source": [
    "test_of_proportions(19, 45, 201, 499)"
   ]
  },
  {
   "cell_type": "markdown",
   "id": "provincial-abraham",
   "metadata": {},
   "source": [
    "### Comparing first-generation student proportions in rural-vs-nonrural"
   ]
  },
  {
   "cell_type": "code",
   "execution_count": 10,
   "id": "offshore-theta",
   "metadata": {},
   "outputs": [
    {
     "name": "stdout",
     "output_type": "stream",
     "text": [
      "Rural percentage = 40.0% , Non-rural percentage =  24.4%\n",
      "True True False True\n",
      "test statistic =  2.285401219514543\n",
      "-1.9599639845400545\n",
      "1.959963984540054\n",
      "Statistically significant.\n"
     ]
    }
   ],
   "source": [
    "test_of_proportions(18, 45, 122, 499)"
   ]
  },
  {
   "cell_type": "markdown",
   "id": "engaging-christianity",
   "metadata": {},
   "source": [
    "### Comparing BIPOC student proportions in rural-vs-nonrural"
   ]
  },
  {
   "cell_type": "code",
   "execution_count": 11,
   "id": "interim-robertson",
   "metadata": {},
   "outputs": [
    {
     "name": "stdout",
     "output_type": "stream",
     "text": [
      "Rural percentage = 24.4% , Non-rural percentage =  34.1%\n",
      "True True False False\n",
      "test statistic =  -1.3122152694778446\n",
      "-1.9599639845400545\n",
      "1.959963984540054\n",
      "Not statistically significant.\n"
     ]
    }
   ],
   "source": [
    "test_of_proportions(11, 45, 170, 499)"
   ]
  },
  {
   "cell_type": "markdown",
   "id": "given-think",
   "metadata": {},
   "source": [
    "### Comparing Pell student proportions in rural-vs-nonrural"
   ]
  },
  {
   "cell_type": "code",
   "execution_count": 12,
   "id": "frequent-agenda",
   "metadata": {},
   "outputs": [
    {
     "name": "stdout",
     "output_type": "stream",
     "text": [
      "Rural percentage = 24.4% , Non-rural percentage =  24.0%\n",
      "True True False False\n",
      "test statistic =  0.05955555183724355\n",
      "-1.9599639845400545\n",
      "1.959963984540054\n",
      "Not statistically significant.\n"
     ]
    }
   ],
   "source": [
    "test_of_proportions(11, 45, 120, 499)"
   ]
  },
  {
   "cell_type": "code",
   "execution_count": null,
   "id": "faced-immigration",
   "metadata": {},
   "outputs": [],
   "source": []
  }
 ],
 "metadata": {
  "kernelspec": {
   "display_name": "Python 3",
   "language": "python",
   "name": "python3"
  },
  "language_info": {
   "codemirror_mode": {
    "name": "ipython",
    "version": 3
   },
   "file_extension": ".py",
   "mimetype": "text/x-python",
   "name": "python",
   "nbconvert_exporter": "python",
   "pygments_lexer": "ipython3",
   "version": "3.7.7"
  }
 },
 "nbformat": 4,
 "nbformat_minor": 5
}
